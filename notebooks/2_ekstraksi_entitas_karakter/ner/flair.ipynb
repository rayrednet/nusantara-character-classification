{
 "cells": [
  {
   "cell_type": "markdown",
   "id": "f9b4027e",
   "metadata": {},
   "source": [
    "# flair NER"
   ]
  },
  {
   "cell_type": "code",
   "execution_count": 1,
   "id": "1efdf830",
   "metadata": {},
   "outputs": [
    {
     "name": "stderr",
     "output_type": "stream",
     "text": [
      "c:\\Users\\rayssa\\Documents\\nusantara-character-classification\\.venv\\lib\\site-packages\\tqdm\\auto.py:21: TqdmWarning: IProgress not found. Please update jupyter and ipywidgets. See https://ipywidgets.readthedocs.io/en/stable/user_install.html\n",
      "  from .autonotebook import tqdm as notebook_tqdm\n",
      "c:\\Users\\rayssa\\Documents\\nusantara-character-classification\\.venv\\lib\\site-packages\\huggingface_hub\\file_download.py:144: UserWarning: `huggingface_hub` cache-system uses symlinks by default to efficiently store duplicated files but your machine does not support them in C:\\Users\\rayssa\\.flair\\models\\ner-multi\\models--flair--ner-multi. Caching files will still work but in a degraded version that might require more space on your disk. This warning can be disabled by setting the `HF_HUB_DISABLE_SYMLINKS_WARNING` environment variable. For more details, see https://huggingface.co/docs/huggingface_hub/how-to-cache#limitations.\n",
      "To support symlinks on Windows, you either need to activate Developer Mode or to run Python as an administrator. In order to activate developer mode, see this article: https://docs.microsoft.com/en-us/windows/apps/get-started/enable-your-device-for-development\n",
      "  warnings.warn(message)\n"
     ]
    },
    {
     "name": "stdout",
     "output_type": "stream",
     "text": [
      "2025-06-04 23:25:38,152 SequenceTagger predicts: Dictionary with 20 tags: <unk>, O, B-PER, E-PER, S-LOC, B-MISC, I-MISC, E-MISC, S-PER, B-ORG, E-ORG, S-ORG, I-ORG, B-LOC, E-LOC, S-MISC, I-PER, I-LOC, <START>, <STOP>\n",
      "Ahmad PER\n",
      "Muhammad PER\n"
     ]
    }
   ],
   "source": [
    "from flair.data import Sentence\n",
    "from flair.models import SequenceTagger\n",
    "\n",
    "# Load model multilingual NER\n",
    "tagger = SequenceTagger.load(\"flair/ner-multi\")\n",
    "\n",
    "# Uji kalimat\n",
    "sentence = Sentence(\"Anak yang sulung bernama Ahmad dan anak kedua bernama Muhammad.\")\n",
    "tagger.predict(sentence)\n",
    "\n",
    "# Print hasil entitas\n",
    "for entity in sentence.get_spans('ner'):\n",
    "    print(entity.text, entity.get_label(\"ner\").value)\n"
   ]
  },
  {
   "cell_type": "code",
   "execution_count": 2,
   "id": "2e3aefd3",
   "metadata": {},
   "outputs": [
    {
     "name": "stdout",
     "output_type": "stream",
     "text": [
      "2025-06-04 23:26:56,806 SequenceTagger predicts: Dictionary with 20 tags: <unk>, O, B-PER, E-PER, S-LOC, B-MISC, I-MISC, E-MISC, S-PER, B-ORG, E-ORG, S-ORG, I-ORG, B-LOC, E-LOC, S-MISC, I-PER, I-LOC, <START>, <STOP>\n",
      "✅ Flair selesai! Total kalimat dengan entitas PER: 1078\n"
     ]
    }
   ],
   "source": [
    "import pandas as pd\n",
    "from flair.data import Sentence\n",
    "from flair.models import SequenceTagger\n",
    "\n",
    "# Load model flair NER\n",
    "tagger = SequenceTagger.load(\"flair/ner-multi\")\n",
    "\n",
    "# Load cerita rakyat tokenized\n",
    "df = pd.read_csv(\"cerita_rakyat_filtered.csv\")\n",
    "\n",
    "# Gabungkan token jadi kalimat per story_id + sentence_id\n",
    "grouped = df.groupby([\"story_id\", \"sentence_id\"])[\"word\"].apply(lambda x: \" \".join(x)).reset_index()\n",
    "\n",
    "results = []\n",
    "\n",
    "for _, row in grouped.iterrows():\n",
    "    story_id = row[\"story_id\"]\n",
    "    sentence_id = row[\"sentence_id\"]\n",
    "    text = row[\"word\"]\n",
    "\n",
    "    # Proses Flair NER\n",
    "    sentence = Sentence(text)\n",
    "    tagger.predict(sentence)\n",
    "\n",
    "    # Ambil entitas dengan label PER (Person)\n",
    "    entities = list(set([\n",
    "        ent.text for ent in sentence.get_spans('ner')\n",
    "        if ent.get_label('ner').value == \"PER\"\n",
    "    ]))\n",
    "\n",
    "    if entities:\n",
    "        results.append({\n",
    "            \"story_id\": story_id,\n",
    "            \"sentence_id\": sentence_id,\n",
    "            \"characters\": str(entities)\n",
    "        })\n",
    "\n",
    "# Simpan ke file\n",
    "output_df = pd.DataFrame(results)\n",
    "output_df.to_csv(\"hasil_ner_flair.csv\", index=False)\n",
    "\n",
    "print(f\"✅ Flair selesai! Total kalimat dengan entitas PER: {len(output_df)}\")\n"
   ]
  },
  {
   "cell_type": "code",
   "execution_count": 3,
   "id": "8c857f37",
   "metadata": {},
   "outputs": [
    {
     "name": "stdout",
     "output_type": "stream",
     "text": [
      "📊 Flair Evaluation\n",
      "🔎 Precision : 0.0744\n",
      "🔎 Recall    : 0.0676\n",
      "🔎 F1-score  : 0.0709\n"
     ]
    },
    {
     "name": "stderr",
     "output_type": "stream",
     "text": [
      "C:\\Users\\rayssa\\AppData\\Local\\Temp\\ipykernel_30672\\1628343986.py:31: DeprecationWarning: DataFrameGroupBy.apply operated on the grouping columns. This behavior is deprecated, and in a future version of pandas the grouping columns will be excluded from the operation. Either pass `include_groups=False` to exclude the groupings or explicitly select the grouping columns after groupby to silence this warning.\n",
      "  .apply(extract_per_entities)\n"
     ]
    }
   ],
   "source": [
    "import pandas as pd\n",
    "import ast\n",
    "from sklearn.metrics import precision_score, recall_score, f1_score\n",
    "\n",
    "# Load ground truth dan hasil flair\n",
    "gt_df = pd.read_csv(\"labelled.csv\")\n",
    "pred_df = pd.read_csv(\"hasil_ner_flair.csv\")\n",
    "pred_df[\"characters\"] = pred_df[\"characters\"].apply(ast.literal_eval)\n",
    "\n",
    "# === STEP 1: Ambil entitas PER dari ground truth ===\n",
    "def extract_per_entities(group):\n",
    "    entities = []\n",
    "    current = []\n",
    "    for word, label in zip(group[\"word\"], group[\"TYPE\"]):\n",
    "        if label == \"B-PER\":\n",
    "            if current:\n",
    "                entities.append(\" \".join(current))\n",
    "            current = [word]\n",
    "        elif label == \"I-PER\":\n",
    "            current.append(word)\n",
    "        else:\n",
    "            if current:\n",
    "                entities.append(\" \".join(current))\n",
    "                current = []\n",
    "    if current:\n",
    "        entities.append(\" \".join(current))\n",
    "    return list(set([e.lower() for e in entities]))\n",
    "\n",
    "gt_entities_df = (\n",
    "    gt_df.groupby([\"story_id\", \"sentence_id\"])\n",
    "    .apply(extract_per_entities)\n",
    "    .reset_index(name=\"true_entities\")\n",
    ")\n",
    "\n",
    "# === STEP 2: Gabungkan prediksi dan ground truth ===\n",
    "merged = pd.merge(pred_df, gt_entities_df, on=[\"story_id\", \"sentence_id\"], how=\"outer\").fillna(\"[]\")\n",
    "merged[\"characters\"] = merged[\"characters\"].apply(lambda x: x if isinstance(x, list) else ast.literal_eval(x))\n",
    "merged[\"true_entities\"] = merged[\"true_entities\"].apply(lambda x: x if isinstance(x, list) else ast.literal_eval(x))\n",
    "\n",
    "# === STEP 3: Evaluasi entity-level ===\n",
    "y_true, y_pred = [], []\n",
    "\n",
    "for _, row in merged.iterrows():\n",
    "    pred_set = set([x.lower() for x in row[\"characters\"]])\n",
    "    true_set = set([x.lower() for x in row[\"true_entities\"]])\n",
    "    all_entities = pred_set.union(true_set)\n",
    "    \n",
    "    for ent in all_entities:\n",
    "        y_true.append(int(ent in true_set))\n",
    "        y_pred.append(int(ent in pred_set))\n",
    "\n",
    "# === STEP 4: Print hasil ===\n",
    "precision = precision_score(y_true, y_pred)\n",
    "recall = recall_score(y_true, y_pred)\n",
    "f1 = f1_score(y_true, y_pred)\n",
    "\n",
    "print(f\"📊 Flair Evaluation\")\n",
    "print(f\"🔎 Precision : {precision:.4f}\")\n",
    "print(f\"🔎 Recall    : {recall:.4f}\")\n",
    "print(f\"🔎 F1-score  : {f1:.4f}\")\n"
   ]
  },
  {
   "cell_type": "code",
   "execution_count": 1,
   "id": "966d7d83",
   "metadata": {},
   "outputs": [
    {
     "name": "stdout",
     "output_type": "stream",
     "text": [
      "📊 Flair Evaluation\n",
      "🔎 Precision : 0.0744\n",
      "🔎 Recall    : 0.0676\n",
      "🎯 Accuracy  : 0.0367\n",
      "🏅 F1-score  : 0.0709\n",
      "\n",
      "🧩 Confusion Matrix:\n",
      "                     Predicted Negative (0)  Predicted Positive (1)\n",
      "Actual Negative (0)                       0                    1293\n",
      "Actual Positive (1)                    1434                     104\n"
     ]
    },
    {
     "name": "stderr",
     "output_type": "stream",
     "text": [
      "C:\\Users\\rayssa\\AppData\\Local\\Temp\\ipykernel_29032\\239734859.py:31: DeprecationWarning: DataFrameGroupBy.apply operated on the grouping columns. This behavior is deprecated, and in a future version of pandas the grouping columns will be excluded from the operation. Either pass `include_groups=False` to exclude the groupings or explicitly select the grouping columns after groupby to silence this warning.\n",
      "  .apply(extract_per_entities)\n"
     ]
    }
   ],
   "source": [
    "import pandas as pd\n",
    "import ast\n",
    "from sklearn.metrics import precision_score, recall_score, f1_score, accuracy_score, confusion_matrix\n",
    "\n",
    "# Load ground truth dan hasil flair\n",
    "gt_df = pd.read_csv(\"labelled.csv\")\n",
    "pred_df = pd.read_csv(\"hasil_ner_flair.csv\")\n",
    "pred_df[\"characters\"] = pred_df[\"characters\"].apply(ast.literal_eval)\n",
    "\n",
    "# === STEP 1: Ambil entitas PER dari ground truth ===\n",
    "def extract_per_entities(group):\n",
    "    entities = []\n",
    "    current = []\n",
    "    for word, label in zip(group[\"word\"], group[\"TYPE\"]):\n",
    "        if label == \"B-PER\":\n",
    "            if current:\n",
    "                entities.append(\" \".join(current))\n",
    "            current = [word]\n",
    "        elif label == \"I-PER\":\n",
    "            current.append(word)\n",
    "        else:\n",
    "            if current:\n",
    "                entities.append(\" \".join(current))\n",
    "                current = []\n",
    "    if current:\n",
    "        entities.append(\" \".join(current))\n",
    "    return list(set([e.lower() for e in entities]))\n",
    "\n",
    "gt_entities_df = (\n",
    "    gt_df.groupby([\"story_id\", \"sentence_id\"])\n",
    "    .apply(extract_per_entities)\n",
    "    .reset_index(name=\"true_entities\")\n",
    ")\n",
    "\n",
    "# === STEP 2: Gabungkan prediksi dan ground truth ===\n",
    "merged = pd.merge(pred_df, gt_entities_df, on=[\"story_id\", \"sentence_id\"], how=\"outer\").fillna(\"[]\")\n",
    "merged[\"characters\"] = merged[\"characters\"].apply(lambda x: x if isinstance(x, list) else ast.literal_eval(x))\n",
    "merged[\"true_entities\"] = merged[\"true_entities\"].apply(lambda x: x if isinstance(x, list) else ast.literal_eval(x))\n",
    "\n",
    "# === STEP 3: Evaluasi entity-level ===\n",
    "y_true, y_pred = [], []\n",
    "\n",
    "for _, row in merged.iterrows():\n",
    "    pred_set = set([x.lower() for x in row[\"characters\"]])\n",
    "    true_set = set([x.lower() for x in row[\"true_entities\"]])\n",
    "    all_entities = pred_set.union(true_set)\n",
    "    \n",
    "    for ent in all_entities:\n",
    "        y_true.append(int(ent in true_set))\n",
    "        y_pred.append(int(ent in pred_set))\n",
    "\n",
    "# === STEP 4: Hitung metrik ===\n",
    "precision = precision_score(y_true, y_pred)\n",
    "recall = recall_score(y_true, y_pred)\n",
    "f1 = f1_score(y_true, y_pred)\n",
    "accuracy = accuracy_score(y_true, y_pred)\n",
    "cm = confusion_matrix(y_true, y_pred)\n",
    "\n",
    "# === STEP 5: Print hasil ===\n",
    "print(f\"📊 Flair Evaluation\")\n",
    "print(f\"🔎 Precision : {precision:.4f}\")\n",
    "print(f\"🔎 Recall    : {recall:.4f}\")\n",
    "print(f\"🎯 Accuracy  : {accuracy:.4f}\")\n",
    "print(f\"🏅 F1-score  : {f1:.4f}\")\n",
    "print(\"\\n🧩 Confusion Matrix:\")\n",
    "print(pd.DataFrame(cm, index=[\"Actual Negative (0)\", \"Actual Positive (1)\"],\n",
    "                       columns=[\"Predicted Negative (0)\", \"Predicted Positive (1)\"]))\n"
   ]
  },
  {
   "cell_type": "code",
   "execution_count": 2,
   "id": "8fe42785",
   "metadata": {},
   "outputs": [
    {
     "data": {
      "image/png": "[encoded data removed]",
      "text/plain": [
       "<Figure size 600x400 with 2 Axes>"
      ]
     },
     "metadata": {},
     "output_type": "display_data"
    }
   ],
   "source": [
    "import matplotlib.pyplot as plt\n",
    "import seaborn as sns\n",
    "from sklearn.metrics import confusion_matrix\n",
    "import pandas as pd\n",
    "\n",
    "# After calculating `y_true` and `y_pred`\n",
    "cm = confusion_matrix(y_true, y_pred)\n",
    "cm_df = pd.DataFrame(cm, index=[\"Actual 0\", \"Actual 1\"], columns=[\"Predicted 0\", \"Predicted 1\"])\n",
    "\n",
    "# Plot & save to PNG\n",
    "plt.figure(figsize=(6, 4))\n",
    "sns.heatmap(cm_df, annot=True, fmt=\"d\", cmap=\"Blues\")\n",
    "plt.title(\"Confusion Matrix\")\n",
    "plt.ylabel(\"Actual\")\n",
    "plt.xlabel(\"Predicted\")\n",
    "plt.tight_layout()\n",
    "\n",
    "# Save to your desired local path\n",
    "plt.savefig(\"confusion_matrix_flair.png\")  # or full path like \"C:/Users/YourName/Documents/confusion_matrix_flair.png\"\n",
    "plt.show()  # Optional: display the plot\n"
   ]
  },
  {
   "cell_type": "code",
   "execution_count": 4,
   "id": "e313bc3e",
   "metadata": {},
   "outputs": [
    {
     "name": "stdout",
     "output_type": "stream",
     "text": [
      "['Tador', ' cucu', ' anak semata wayangnya', ' anak', 'tetangga', 'kakek', ' suami', 'neneknya', ' nenek Tador', ' nenek', 'ayah', ' orang tua Tador', ' ayah Tador', ' Orang tuanya', ' Ayah', ' orang tuanya', 'ibu', ' ibu Tador', ' Ibu', ' ibunya', ' Ibu Tador', 'warga', ' warga kampung']\n"
     ]
    }
   ],
   "source": [
    "raw_data = \"\"\"\n",
    "Tador, cucu, anak semata wayangnya, anak\n",
    "tetangga\n",
    "kakek, suami\n",
    "neneknya, nenek Tador, nenek\n",
    "ayah, orang tua Tador, ayah Tador, Orang tuanya, Ayah, orang tuanya\n",
    "ibu, orang tua Tador, ibu Tador, Ibu, Orang tuanya, ibunya, orang tuanya, Ibu Tador\n",
    "warga, warga kampung\n",
    "\"\"\"\n",
    "\n",
    "# Step 1: Split semua baris jadi list token (jangan strip)\n",
    "all_aliases = []\n",
    "\n",
    "for line in raw_data.strip().split('\\n'):\n",
    "    items = line.split(',')  # Tanpa strip\n",
    "    all_aliases.extend(items)\n",
    "\n",
    "# Step 2: Buang duplikat, urutkan sesuai urutan muncul\n",
    "seen = set()\n",
    "unique_aliases = [x for x in all_aliases if not (x in seen or seen.add(x))]\n",
    "\n",
    "# Step 3: Tampilkan hasil\n",
    "print(unique_aliases)\n"
   ]
  },
  {
   "cell_type": "markdown",
   "id": "6f849f06",
   "metadata": {},
   "source": [
    "## flair fine tuned"
   ]
  },
  {
   "cell_type": "code",
   "execution_count": 1,
   "id": "81417cda",
   "metadata": {},
   "outputs": [
    {
     "name": "stdout",
     "output_type": "stream",
     "text": [
      "✅ CoNLL files saved in folder `corpus/`\n"
     ]
    }
   ],
   "source": [
    "import pandas as pd\n",
    "from sklearn.model_selection import train_test_split\n",
    "import os\n",
    "\n",
    "# Load data\n",
    "df = pd.read_csv(\"labelled.csv\")\n",
    "\n",
    "# Optional: convert label \"0\" to \"O\" (standard NER label)\n",
    "df[\"TYPE\"] = df[\"TYPE\"].astype(str).replace(\"0\", \"O\")\n",
    "\n",
    "# Split by sentence\n",
    "grouped = df.groupby([\"story_id\", \"sentence_id\"])\n",
    "\n",
    "# Convert to list of sentences\n",
    "sentences = []\n",
    "for _, group in grouped:\n",
    "    lines = [f\"{row['word']} {row['TYPE']}\" for _, row in group.iterrows()]\n",
    "    sentences.append(\"\\n\".join(lines))\n",
    "\n",
    "# Train/dev split\n",
    "train_sent, dev_sent = train_test_split(sentences, test_size=0.2, random_state=42)\n",
    "\n",
    "# Save to disk\n",
    "os.makedirs(\"corpus\", exist_ok=True)\n",
    "with open(\"corpus/train.txt\", \"w\", encoding=\"utf-8\") as f:\n",
    "    f.write(\"\\n\\n\".join(train_sent))\n",
    "with open(\"corpus/dev.txt\", \"w\", encoding=\"utf-8\") as f:\n",
    "    f.write(\"\\n\\n\".join(dev_sent))\n",
    "with open(\"corpus/test.txt\", \"w\", encoding=\"utf-8\") as f:\n",
    "    f.write(\"\\n\\n\".join(dev_sent))  # reuse dev as test\n",
    "\n",
    "print(\"✅ CoNLL files saved in folder `corpus/`\")\n"
   ]
  },
  {
   "cell_type": "code",
   "execution_count": 4,
   "id": "16766153",
   "metadata": {},
   "outputs": [
    {
     "name": "stdout",
     "output_type": "stream",
     "text": [
      "Counter({'O': 16723, 'B-PER': 1476, 'I-PER': 679, 'i-PER': 2})\n"
     ]
    }
   ],
   "source": [
    "from collections import Counter\n",
    "\n",
    "labels = []\n",
    "with open(\"corpus/train.txt\", encoding=\"utf-8\") as f:\n",
    "    for line in f:\n",
    "        if line.strip():\n",
    "            labels.append(line.strip().split()[-1])\n",
    "\n",
    "print(Counter(labels))\n"
   ]
  },
  {
   "cell_type": "code",
   "execution_count": 5,
   "id": "183c7d35",
   "metadata": {},
   "outputs": [],
   "source": [
    "df[\"TYPE\"] = df[\"TYPE\"].astype(str).str.upper()  # make uppercase\n",
    "df[\"TYPE\"] = df[\"TYPE\"].replace({\n",
    "    \"0\": \"O\",\n",
    "    \"I-PER\": \"I-PER\", # just to be safe\n",
    "    \"i-PER\": \"I-PER\", # fix lowercase typo\n",
    "})\n"
   ]
  },
  {
   "cell_type": "code",
   "execution_count": 7,
   "id": "74124217",
   "metadata": {},
   "outputs": [
    {
     "name": "stdout",
     "output_type": "stream",
     "text": [
      "Counter({'O': 16723, 'B-PER': 1476, 'I-PER': 681})\n"
     ]
    }
   ],
   "source": [
    "from collections import Counter\n",
    "\n",
    "labels = []\n",
    "with open(\"corpus/train.txt\", encoding=\"utf-8\") as f:\n",
    "    for line in f:\n",
    "        if line.strip():\n",
    "            labels.append(line.strip().split()[-1])\n",
    "\n",
    "print(Counter(labels))\n"
   ]
  },
  {
   "cell_type": "code",
   "execution_count": 8,
   "id": "17403961",
   "metadata": {},
   "outputs": [
    {
     "name": "stderr",
     "output_type": "stream",
     "text": [
      "c:\\Users\\rayssa\\Documents\\nusantara-character-classification\\.venv\\lib\\site-packages\\tqdm\\auto.py:21: TqdmWarning: IProgress not found. Please update jupyter and ipywidgets. See https://ipywidgets.readthedocs.io/en/stable/user_install.html\n",
      "  from .autonotebook import tqdm as notebook_tqdm\n"
     ]
    },
    {
     "name": "stdout",
     "output_type": "stream",
     "text": [
      "2025-06-13 01:48:12,064 Reading data from corpus\n",
      "2025-06-13 01:48:12,064 Train: corpus\\train.txt\n",
      "2025-06-13 01:48:12,065 Dev: corpus\\dev.txt\n",
      "2025-06-13 01:48:12,065 Test: corpus\\test.txt\n"
     ]
    },
    {
     "name": "stderr",
     "output_type": "stream",
     "text": [
      "C:\\Users\\rayssa\\AppData\\Local\\Temp\\ipykernel_42624\\1222683190.py:18: DeprecationWarning: Call to deprecated method make_tag_dictionary. (Use 'make_label_dictionary' instead.) -- Deprecated since version 0.8.\n",
      "  tag_dict = corpus.make_tag_dictionary(tag_type=tag_type)\n"
     ]
    },
    {
     "name": "stdout",
     "output_type": "stream",
     "text": [
      "2025-06-13 01:48:14,947 SequenceTagger predicts: Dictionary with 3 tags: O, <START>, <STOP>\n",
      "2025-06-13 01:48:14,977 ----------------------------------------------------------------------------------------------------\n",
      "2025-06-13 01:48:14,979 Model: \"SequenceTagger(\n",
      "  (embeddings): TransformerWordEmbeddings(\n",
      "    (model): BertModel(\n",
      "      (embeddings): BertEmbeddings(\n",
      "        (word_embeddings): Embedding(50001, 768, padding_idx=0)\n",
      "        (position_embeddings): Embedding(512, 768)\n",
      "        (token_type_embeddings): Embedding(2, 768)\n",
      "        (LayerNorm): LayerNorm((768,), eps=1e-12, elementwise_affine=True)\n",
      "        (dropout): Dropout(p=0.1, inplace=False)\n",
      "      )\n",
      "      (encoder): BertEncoder(\n",
      "        (layer): ModuleList(\n",
      "          (0-11): 12 x BertLayer(\n",
      "            (attention): BertAttention(\n",
      "              (self): BertSdpaSelfAttention(\n",
      "                (query): Linear(in_features=768, out_features=768, bias=True)\n",
      "                (key): Linear(in_features=768, out_features=768, bias=True)\n",
      "                (value): Linear(in_features=768, out_features=768, bias=True)\n",
      "                (dropout): Dropout(p=0.1, inplace=False)\n",
      "              )\n",
      "              (output): BertSelfOutput(\n",
      "                (dense): Linear(in_features=768, out_features=768, bias=True)\n",
      "                (LayerNorm): LayerNorm((768,), eps=1e-12, elementwise_affine=True)\n",
      "                (dropout): Dropout(p=0.1, inplace=False)\n",
      "              )\n",
      "            )\n",
      "            (intermediate): BertIntermediate(\n",
      "              (dense): Linear(in_features=768, out_features=3072, bias=True)\n",
      "              (intermediate_act_fn): GELUActivation()\n",
      "            )\n",
      "            (output): BertOutput(\n",
      "              (dense): Linear(in_features=3072, out_features=768, bias=True)\n",
      "              (LayerNorm): LayerNorm((768,), eps=1e-12, elementwise_affine=True)\n",
      "              (dropout): Dropout(p=0.1, inplace=False)\n",
      "            )\n",
      "          )\n",
      "        )\n",
      "      )\n",
      "      (pooler): BertPooler(\n",
      "        (dense): Linear(in_features=768, out_features=768, bias=True)\n",
      "        (activation): Tanh()\n",
      "      )\n",
      "    )\n",
      "  )\n",
      "  (word_dropout): WordDropout(p=0.05)\n",
      "  (locked_dropout): LockedDropout(p=0.5)\n",
      "  (embedding2nn): Linear(in_features=768, out_features=768, bias=True)\n",
      "  (rnn): LSTM(768, 256, batch_first=True, bidirectional=True)\n",
      "  (linear): Linear(in_features=512, out_features=3, bias=True)\n",
      "  (loss_function): ViterbiLoss()\n",
      "  (crf): CRF()\n",
      ")\"\n",
      "2025-06-13 01:48:14,980 ----------------------------------------------------------------------------------------------------\n",
      "2025-06-13 01:48:14,980 Corpus: 925 train + 232 dev + 232 test sentences\n",
      "2025-06-13 01:48:14,981 ----------------------------------------------------------------------------------------------------\n",
      "2025-06-13 01:48:14,981 Train:  925 sentences\n",
      "2025-06-13 01:48:14,982         (train_with_dev=False, train_with_test=False)\n",
      "2025-06-13 01:48:14,982 ----------------------------------------------------------------------------------------------------\n",
      "2025-06-13 01:48:14,983 Training Params:\n",
      "2025-06-13 01:48:14,983  - learning_rate: \"1e-05\" \n",
      "2025-06-13 01:48:14,983  - mini_batch_size: \"8\"\n",
      "2025-06-13 01:48:14,983  - max_epochs: \"10\"\n",
      "2025-06-13 01:48:14,984  - shuffle: \"True\"\n",
      "2025-06-13 01:48:14,984 ----------------------------------------------------------------------------------------------------\n",
      "2025-06-13 01:48:14,985 Plugins:\n",
      "2025-06-13 01:48:14,985  - AnnealOnPlateau | patience: '3', anneal_factor: '0.5', min_learning_rate: '0.0001'\n",
      "2025-06-13 01:48:14,985 ----------------------------------------------------------------------------------------------------\n",
      "2025-06-13 01:48:14,985 Final evaluation on model from best epoch (best-model.pt)\n",
      "2025-06-13 01:48:14,987  - metric: \"('micro avg', 'f1-score')\"\n",
      "2025-06-13 01:48:14,987 ----------------------------------------------------------------------------------------------------\n",
      "2025-06-13 01:48:14,988 Computation:\n",
      "2025-06-13 01:48:14,988  - compute on device: cuda:0\n",
      "2025-06-13 01:48:14,988  - embedding storage: cpu\n",
      "2025-06-13 01:48:14,989 ----------------------------------------------------------------------------------------------------\n",
      "2025-06-13 01:48:14,989 Model training base path: \"flair_ner_finetuned\"\n",
      "2025-06-13 01:48:14,990 ----------------------------------------------------------------------------------------------------\n",
      "2025-06-13 01:48:14,990 ----------------------------------------------------------------------------------------------------\n"
     ]
    },
    {
     "name": "stderr",
     "output_type": "stream",
     "text": [
      "c:\\Users\\rayssa\\Documents\\nusantara-character-classification\\.venv\\lib\\site-packages\\flair\\trainers\\trainer.py:545: FutureWarning: `torch.cuda.amp.GradScaler(args...)` is deprecated. Please use `torch.amp.GradScaler('cuda', args...)` instead.\n",
      "  scaler = torch.cuda.amp.GradScaler(enabled=use_amp and flair.device.type != \"cpu\")\n"
     ]
    },
    {
     "name": "stdout",
     "output_type": "stream",
     "text": [
      "2025-06-13 01:48:16,802 epoch 1 - iter 11/116 - loss 0.00000006 - time (sec): 1.81 - samples/sec: 1233.51 - lr: 0.000010 - momentum: 0.000000\n",
      "2025-06-13 01:48:17,786 epoch 1 - iter 22/116 - loss 0.00000004 - time (sec): 2.80 - samples/sec: 1348.09 - lr: 0.000010 - momentum: 0.000000\n",
      "2025-06-13 01:48:19,118 epoch 1 - iter 33/116 - loss 0.00000002 - time (sec): 4.13 - samples/sec: 1380.58 - lr: 0.000010 - momentum: 0.000000\n",
      "2025-06-13 01:48:20,288 epoch 1 - iter 44/116 - loss 0.00000003 - time (sec): 5.30 - samples/sec: 1402.10 - lr: 0.000010 - momentum: 0.000000\n",
      "2025-06-13 01:48:21,175 epoch 1 - iter 55/116 - loss 0.00000003 - time (sec): 6.18 - samples/sec: 1430.89 - lr: 0.000010 - momentum: 0.000000\n",
      "2025-06-13 01:48:22,129 epoch 1 - iter 66/116 - loss 0.00000001 - time (sec): 7.14 - samples/sec: 1486.32 - lr: 0.000010 - momentum: 0.000000\n",
      "2025-06-13 01:48:23,384 epoch 1 - iter 77/116 - loss -0.00000000 - time (sec): 8.39 - samples/sec: 1498.38 - lr: 0.000010 - momentum: 0.000000\n",
      "2025-06-13 01:48:24,717 epoch 1 - iter 88/116 - loss -0.00000001 - time (sec): 9.72 - samples/sec: 1493.65 - lr: 0.000010 - momentum: 0.000000\n",
      "2025-06-13 01:48:25,890 epoch 1 - iter 99/116 - loss -0.00000000 - time (sec): 10.90 - samples/sec: 1499.49 - lr: 0.000010 - momentum: 0.000000\n",
      "2025-06-13 01:48:26,885 epoch 1 - iter 110/116 - loss -0.00000000 - time (sec): 11.89 - samples/sec: 1518.71 - lr: 0.000010 - momentum: 0.000000\n",
      "2025-06-13 01:48:27,442 ----------------------------------------------------------------------------------------------------\n",
      "2025-06-13 01:48:27,443 EPOCH 1 done: loss -0.0000 - lr: 0.000010\n"
     ]
    },
    {
     "name": "stderr",
     "output_type": "stream",
     "text": [
      "100%|██████████| 4/4 [00:02<00:00,  1.55it/s]"
     ]
    },
    {
     "name": "stdout",
     "output_type": "stream",
     "text": [
      "2025-06-13 01:48:30,039 DEV : loss -2.4443394863737922e-08 - f1-score (micro avg)  0.0\n",
      "2025-06-13 01:48:30,046  - 0 epochs without improvement\n",
      "2025-06-13 01:48:30,047 ----------------------------------------------------------------------------------------------------\n",
      "2025-06-13 01:48:30,048 learning rate too small - quitting training!\n",
      "2025-06-13 01:48:30,049 ----------------------------------------------------------------------------------------------------\n",
      "2025-06-13 01:48:30,050 Saving model ...\n"
     ]
    },
    {
     "name": "stderr",
     "output_type": "stream",
     "text": [
      "\n"
     ]
    },
    {
     "name": "stdout",
     "output_type": "stream",
     "text": [
      "2025-06-13 01:48:30,514 Done.\n",
      "2025-06-13 01:48:30,514 ----------------------------------------------------------------------------------------------------\n",
      "2025-06-13 01:48:30,516 Testing using last state of model ...\n"
     ]
    },
    {
     "name": "stderr",
     "output_type": "stream",
     "text": [
      "100%|██████████| 4/4 [00:02<00:00,  1.85it/s]"
     ]
    },
    {
     "name": "stdout",
     "output_type": "stream",
     "text": [
      "2025-06-13 01:48:32,685 \n",
      "Results:\n",
      "- F-score (micro) 0.0\n",
      "- F-score (macro) 0.0\n",
      "- Accuracy 0.0\n",
      "\n",
      "By class:\n",
      "              precision    recall  f1-score   support\n",
      "\n",
      "         PER     0.0000    0.0000    0.0000     403.0\n",
      "\n",
      "   micro avg     0.0000    0.0000    0.0000     403.0\n",
      "   macro avg     0.0000    0.0000    0.0000     403.0\n",
      "weighted avg     0.0000    0.0000    0.0000     403.0\n",
      "\n",
      "2025-06-13 01:48:32,685 ----------------------------------------------------------------------------------------------------\n"
     ]
    },
    {
     "name": "stderr",
     "output_type": "stream",
     "text": [
      "\n"
     ]
    },
    {
     "data": {
      "text/plain": [
       "{'test_score': 0.0}"
      ]
     },
     "execution_count": 8,
     "metadata": {},
     "output_type": "execute_result"
    }
   ],
   "source": [
    "from flair.data import Corpus\n",
    "from flair.datasets import ColumnCorpus\n",
    "from flair.embeddings import TransformerWordEmbeddings\n",
    "from flair.models import SequenceTagger\n",
    "from flair.trainers import ModelTrainer\n",
    "\n",
    "# Define column structure\n",
    "columns = {0: \"text\", 1: \"ner\"}\n",
    "\n",
    "# Load corpus from CoNLL files\n",
    "corpus = ColumnCorpus(\"corpus\", columns,\n",
    "                      train_file=\"train.txt\",\n",
    "                      dev_file=\"dev.txt\",\n",
    "                      test_file=\"test.txt\")\n",
    "\n",
    "# Define tag dictionary\n",
    "tag_type = \"ner\"\n",
    "tag_dict = corpus.make_tag_dictionary(tag_type=tag_type)\n",
    "\n",
    "# Use transformer embeddings (you can change to IndoBERT etc.)\n",
    "embeddings = TransformerWordEmbeddings(\n",
    "    model=\"indobenchmark/indobert-base-p1\",\n",
    "    fine_tune=True,\n",
    ")\n",
    "\n",
    "# Define tagger model\n",
    "tagger = SequenceTagger(\n",
    "    hidden_size=256,\n",
    "    embeddings=embeddings,\n",
    "    tag_dictionary=tag_dict,\n",
    "    tag_type=tag_type,\n",
    "    use_crf=True,\n",
    ")\n",
    "\n",
    "# Train model\n",
    "trainer = ModelTrainer(tagger, corpus)\n",
    "trainer.train(\n",
    "    base_path=\"flair_ner_finetuned\",  # or a new folder like flair_ner_clean\n",
    "    learning_rate=1e-5,               # lower learning rate for stability\n",
    "    mini_batch_size=8,\n",
    "    max_epochs=10,\n",
    ")\n"
   ]
  },
  {
   "cell_type": "code",
   "execution_count": null,
   "id": "b16b2542",
   "metadata": {},
   "outputs": [],
   "source": []
  }
 ],
 "metadata": {
  "kernelspec": {
   "display_name": ".venv",
   "language": "python",
   "name": "python3"
  },
  "language_info": {
   "codemirror_mode": {
    "name": "ipython",
    "version": 3
   },
   "file_extension": ".py",
   "mimetype": "text/x-python",
   "name": "python",
   "nbconvert_exporter": "python",
   "pygments_lexer": "ipython3",
   "version": "3.10.11"
  }
 },
 "nbformat": 4,
 "nbformat_minor": 5
}
