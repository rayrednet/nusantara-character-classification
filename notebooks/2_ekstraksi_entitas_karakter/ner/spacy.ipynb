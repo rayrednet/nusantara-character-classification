{
 "cells": [
  {
   "cell_type": "markdown",
   "id": "06641e45",
   "metadata": {},
   "source": [
    "# spacy"
   ]
  },
  {
   "cell_type": "code",
   "execution_count": 2,
   "id": "3feadfb3",
   "metadata": {},
   "outputs": [
    {
     "name": "stdout",
     "output_type": "stream",
     "text": [
      "✅ Cerita rakyat difilter. Total baris: 23917\n"
     ]
    }
   ],
   "source": [
    "import pandas as pd\n",
    "\n",
    "# Load kedua file\n",
    "df_cerita = pd.read_csv(\"cerita_rakyat.csv\")\n",
    "df_annotated = pd.read_csv(\"even_semi_annotated.csv\")\n",
    "\n",
    "# Ambil story_id unik dari file annotated\n",
    "valid_ids = df_annotated[\"story_id\"].unique()\n",
    "\n",
    "# Filter cerita_rakyat yang story_id-nya ada di valid_ids\n",
    "filtered_df = df_cerita[df_cerita[\"story_id\"].isin(valid_ids)]\n",
    "\n",
    "# Simpan ke file baru\n",
    "filtered_df.to_csv(\"cerita_rakyat_filtered.csv\", index=False)\n",
    "\n",
    "print(f\"✅ Cerita rakyat difilter. Total baris: {len(filtered_df)}\")\n"
   ]
  },
  {
   "cell_type": "code",
   "execution_count": 3,
   "id": "5b35928e",
   "metadata": {},
   "outputs": [
    {
     "name": "stdout",
     "output_type": "stream",
     "text": [
      "✅ Kolom 'number' dan 'TYPE1' berhasil dihapus.\n"
     ]
    }
   ],
   "source": [
    "import pandas as pd\n",
    "\n",
    "# Load file\n",
    "df = pd.read_csv(\"even_semi_annotated.csv\")\n",
    "\n",
    "# Drop kolom 'number' dan 'TYPE1'\n",
    "df = df.drop(columns=[\"number\", \"TYPE1\"])\n",
    "\n",
    "# Simpan ke file baru (atau bisa overwrite kalau mau)\n",
    "df.to_csv(\"even_semi_annotated_cleaned.csv\", index=False)\n",
    "\n",
    "print(\"✅ Kolom 'number' dan 'TYPE1' berhasil dihapus.\")\n"
   ]
  },
  {
   "cell_type": "code",
   "execution_count": 6,
   "id": "110e2dd9",
   "metadata": {},
   "outputs": [
    {
     "name": "stdout",
     "output_type": "stream",
     "text": [
      "✅ Selesai! Total kalimat dengan entitas PER (person): 1361\n"
     ]
    }
   ],
   "source": [
    "import pandas as pd\n",
    "import spacy\n",
    "\n",
    "nlp = spacy.load(\"xx_ent_wiki_sm\")\n",
    "df = pd.read_csv(\"cerita_rakyat_filtered.csv\")\n",
    "\n",
    "grouped = df.groupby([\"story_id\", \"sentence_id\"])[\"word\"].apply(lambda x: \" \".join(x)).reset_index()\n",
    "\n",
    "results = []\n",
    "\n",
    "for _, row in grouped.iterrows():\n",
    "    story_id = row[\"story_id\"]\n",
    "    sentence_id = row[\"sentence_id\"]\n",
    "    sentence = row[\"word\"]\n",
    "\n",
    "    doc = nlp(sentence)\n",
    "    entities = list(set([ent.text for ent in doc.ents if ent.label_ == \"PER\"]))\n",
    "\n",
    "    if entities:\n",
    "        results.append({\n",
    "            \"story_id\": story_id,\n",
    "            \"sentence_id\": sentence_id,\n",
    "            \"characters\": str(entities),\n",
    "        })\n",
    "\n",
    "output_df = pd.DataFrame(results)\n",
    "output_df.to_csv(\"hasil_ner_spacy_per.csv\", index=False)\n",
    "\n",
    "print(f\"✅ Selesai! Total kalimat dengan entitas PER (person): {len(output_df)}\")\n"
   ]
  },
  {
   "cell_type": "code",
   "execution_count": 1,
   "id": "476f26bc",
   "metadata": {},
   "outputs": [
    {
     "name": "stdout",
     "output_type": "stream",
     "text": [
      "📊 Precision : 0.0355\n",
      "📊 Recall    : 0.0488\n",
      "📊 Accuracy  : 0.0210\n",
      "📊 F1-score  : 0.0411\n"
     ]
    },
    {
     "name": "stderr",
     "output_type": "stream",
     "text": [
      "C:\\Users\\rayssa\\AppData\\Local\\Temp\\ipykernel_3348\\3907139687.py:33: DeprecationWarning: DataFrameGroupBy.apply operated on the grouping columns. This behavior is deprecated, and in a future version of pandas the grouping columns will be excluded from the operation. Either pass `include_groups=False` to exclude the groupings or explicitly select the grouping columns after groupby to silence this warning.\n",
      "  .apply(extract_entity_mentions)\n"
     ]
    },
    {
     "data": {
      "image/png": "[encoded data removed]",
      "text/plain": [
       "<Figure size 600x400 with 2 Axes>"
      ]
     },
     "metadata": {},
     "output_type": "display_data"
    }
   ],
   "source": [
    "import pandas as pd\n",
    "import ast\n",
    "import matplotlib.pyplot as plt\n",
    "import seaborn as sns\n",
    "from sklearn.metrics import precision_score, recall_score, f1_score, accuracy_score, confusion_matrix\n",
    "\n",
    "# Load ground truth dan prediksi\n",
    "gt_df = pd.read_csv(\"labelled.csv\")\n",
    "pred_df = pd.read_csv(\"hasil_ner_spacy_per.csv\")\n",
    "pred_df[\"characters\"] = pred_df[\"characters\"].apply(ast.literal_eval)\n",
    "\n",
    "# === Step 1: Ekstrak entity span dari ground truth (B-PER/I-PER) ===\n",
    "def extract_entity_mentions(group):\n",
    "    entities = []\n",
    "    current_entity = []\n",
    "    for word, label in zip(group[\"word\"], group[\"TYPE\"]):\n",
    "        if label == \"B-PER\":\n",
    "            if current_entity:\n",
    "                entities.append(\" \".join(current_entity))\n",
    "            current_entity = [word]\n",
    "        elif label == \"I-PER\":\n",
    "            current_entity.append(word)\n",
    "        else:\n",
    "            if current_entity:\n",
    "                entities.append(\" \".join(current_entity))\n",
    "                current_entity = []\n",
    "    if current_entity:\n",
    "        entities.append(\" \".join(current_entity))\n",
    "    return list(set([e.lower() for e in entities]))  # lowercase\n",
    "\n",
    "gt_entities_df = (\n",
    "    gt_df.groupby([\"story_id\", \"sentence_id\"])\n",
    "    .apply(extract_entity_mentions)\n",
    "    .reset_index(name=\"true_entities\")\n",
    ")\n",
    "\n",
    "# === Step 2: Gabungkan prediksi dan ground truth ===\n",
    "merged = pd.merge(pred_df, gt_entities_df, on=[\"story_id\", \"sentence_id\"], how=\"outer\").fillna(\"[]\")\n",
    "\n",
    "# Ubah ke list\n",
    "merged[\"true_entities\"] = merged[\"true_entities\"].apply(lambda x: x if isinstance(x, list) else ast.literal_eval(x))\n",
    "merged[\"characters\"] = merged[\"characters\"].apply(lambda x: x if isinstance(x, list) else ast.literal_eval(x))\n",
    "\n",
    "# === Step 3: Evaluasi per entitas ===\n",
    "y_true, y_pred = [], []\n",
    "\n",
    "for _, row in merged.iterrows():\n",
    "    pred_entities = set([e.lower() for e in row[\"characters\"]])\n",
    "    true_entities = set([e.lower() for e in row[\"true_entities\"]])\n",
    "    all_entities = pred_entities.union(true_entities)\n",
    "\n",
    "    for ent in all_entities:\n",
    "        y_true.append(int(ent in true_entities))\n",
    "        y_pred.append(int(ent in pred_entities))\n",
    "\n",
    "# === Step 4: Hitung metrik ===\n",
    "precision = precision_score(y_true, y_pred)\n",
    "recall = recall_score(y_true, y_pred)\n",
    "f1 = f1_score(y_true, y_pred)\n",
    "accuracy = accuracy_score(y_true, y_pred)\n",
    "cm = confusion_matrix(y_true, y_pred)\n",
    "\n",
    "# Print metrik\n",
    "print(f\"📊 Precision : {precision:.4f}\")\n",
    "print(f\"📊 Recall    : {recall:.4f}\")\n",
    "print(f\"📊 Accuracy  : {accuracy:.4f}\")\n",
    "print(f\"📊 F1-score  : {f1:.4f}\")\n",
    "\n",
    "# === Step 5: Simpan confusion matrix sebagai PNG ===\n",
    "cm_df = pd.DataFrame(cm, index=[\"Actual 0\", \"Actual 1\"], columns=[\"Predicted 0\", \"Predicted 1\"])\n",
    "plt.figure(figsize=(6, 4))\n",
    "sns.heatmap(cm_df, annot=True, fmt=\"d\", cmap=\"Blues\")\n",
    "plt.title(\"Confusion Matrix (SpaCy)\")\n",
    "plt.ylabel(\"Actual\")\n",
    "plt.xlabel(\"Predicted\")\n",
    "plt.tight_layout()\n",
    "plt.savefig(\"confusion_matrix_spacy.png\")  # <-- This saves it to your current directory\n",
    "plt.show()\n"
   ]
  },
  {
   "cell_type": "markdown",
   "id": "66ab36f8",
   "metadata": {},
   "source": [
    "## fine tune"
   ]
  },
  {
   "cell_type": "code",
   "execution_count": 8,
   "id": "19ebb659",
   "metadata": {},
   "outputs": [
    {
     "name": "stderr",
     "output_type": "stream",
     "text": [
      "Processing sentences: 100%|██████████| 1157/1157 [00:00<00:00, 4434.69it/s]"
     ]
    },
    {
     "name": "stdout",
     "output_type": "stream",
     "text": [
      "✅ Selesai! File `train.spacy` berhasil dibuat.\n"
     ]
    },
    {
     "name": "stderr",
     "output_type": "stream",
     "text": [
      "\n"
     ]
    }
   ],
   "source": [
    "import pandas as pd\n",
    "import spacy\n",
    "from spacy.tokens import DocBin\n",
    "from tqdm import tqdm\n",
    "\n",
    "# Load spaCy untuk Bahasa Indonesia atau multilingual\n",
    "nlp = spacy.blank(\"id\")  # atau ganti \"xx\" kalau mau multilingual base\n",
    "\n",
    "# Load file labelled.csv\n",
    "df = pd.read_csv(\"labelled.csv\")\n",
    "\n",
    "# Gabungkan token per kalimat\n",
    "grouped = df.groupby([\"story_id\", \"sentence_id\"])\n",
    "\n",
    "# Buat DocBin\n",
    "doc_bin = DocBin()\n",
    "\n",
    "for (story_id, sentence_id), group in tqdm(grouped, desc=\"Processing sentences\"):\n",
    "    tokens = group[\"word\"].tolist()\n",
    "    labels = group[\"TYPE\"].tolist()\n",
    "    \n",
    "    # Gabungkan token jadi 1 kalimat\n",
    "    sentence = \" \".join(tokens)\n",
    "    doc = nlp.make_doc(sentence)\n",
    "\n",
    "    # Cari span entity berdasarkan label IOB\n",
    "    entities = []\n",
    "    char_offset = 0\n",
    "    current_entity = \"\"\n",
    "    start = None\n",
    "\n",
    "    for token, label in zip(tokens, labels):\n",
    "        token_len = len(token)\n",
    "        if start is not None:\n",
    "            char_offset += 1  # tambahkan spasi sebelumnya\n",
    "        if label == \"B-PER\":\n",
    "            if start is not None:\n",
    "                entities.append((start, char_offset - 1, \"PER\"))\n",
    "            start = char_offset\n",
    "        elif label == \"I-PER\":\n",
    "            pass  # lanjut aja, kita akhiri nanti\n",
    "        else:\n",
    "            if start is not None:\n",
    "                entities.append((start, char_offset - 1, \"PER\"))\n",
    "                start = None\n",
    "        char_offset += token_len\n",
    "\n",
    "    if start is not None:\n",
    "        entities.append((start, char_offset - 1, \"PER\"))\n",
    "\n",
    "    # Tambahkan ke doc\n",
    "    ents = []\n",
    "    for start, end, label in entities:\n",
    "        span = doc.char_span(start, end, label=label)\n",
    "        if span:\n",
    "            ents.append(span)\n",
    "    doc.ents = ents\n",
    "    doc_bin.add(doc)\n",
    "\n",
    "# Simpan ke file\n",
    "doc_bin.to_disk(\"train.spacy\")  # bisa kamu salin jadi dev.spacy juga\n",
    "\n",
    "print(\"✅ Selesai! File `train.spacy` berhasil dibuat.\")\n"
   ]
  },
  {
   "cell_type": "code",
   "execution_count": 2,
   "id": "b4c11cfa",
   "metadata": {},
   "outputs": [
    {
     "name": "stdout",
     "output_type": "stream",
     "text": [
      "🔎 spaCy Metrics\n",
      "📌 Precision : 0.9947\n",
      "📌 Recall    : 1.0000\n",
      "📌 F1-score  : 0.9973\n",
      "\n",
      "🧪 Custom Binary Entity Match Evaluation:\n",
      "🎯 Precision : 0.9947\n",
      "🎯 Recall    : 1.0000\n",
      "🎯 Accuracy  : 0.9947\n",
      "🎯 F1-score  : 0.9973\n"
     ]
    },
    {
     "data": {
      "image/png": "[encoded data removed]",
      "text/plain": [
       "<Figure size 600x400 with 2 Axes>"
      ]
     },
     "metadata": {},
     "output_type": "display_data"
    }
   ],
   "source": [
    "import spacy\n",
    "from spacy.tokens import DocBin\n",
    "from spacy.training import Example\n",
    "from spacy.scorer import Scorer\n",
    "from sklearn.metrics import precision_score, recall_score, f1_score, accuracy_score, confusion_matrix\n",
    "import matplotlib.pyplot as plt\n",
    "import seaborn as sns\n",
    "import pandas as pd\n",
    "\n",
    "# Load fine-tuned model\n",
    "nlp = spacy.load(\"output/model-best\")\n",
    "\n",
    "# Load evaluation data\n",
    "doc_bin = DocBin().from_disk(\"train.spacy\")  # or dev.spacy\n",
    "docs = list(doc_bin.get_docs(nlp.vocab))\n",
    "\n",
    "# Prepare examples\n",
    "examples = [Example(predicted=nlp(doc.text), reference=doc) for doc in docs]\n",
    "\n",
    "# Metric 1: spaCy native score (useful as reference)\n",
    "scorer = Scorer()\n",
    "scores = scorer.score(examples)\n",
    "\n",
    "print(f\"🔎 spaCy Metrics\")\n",
    "print(f\"📌 Precision : {scores['ents_p']:.4f}\")\n",
    "print(f\"📌 Recall    : {scores['ents_r']:.4f}\")\n",
    "print(f\"📌 F1-score  : {scores['ents_f']:.4f}\")\n",
    "\n",
    "# Metric 2: Custom confusion matrix using binary entity match\n",
    "y_true, y_pred = [], []\n",
    "\n",
    "for ex in examples:\n",
    "    pred_ents = set([ent.text.lower() for ent in ex.predicted.ents if ent.label_ == \"PER\"])\n",
    "    true_ents = set([ent.text.lower() for ent in ex.reference.ents if ent.label_ == \"PER\"])\n",
    "    all_ents = pred_ents.union(true_ents)\n",
    "    \n",
    "    for ent in all_ents:\n",
    "        y_true.append(int(ent in true_ents))\n",
    "        y_pred.append(int(ent in pred_ents))\n",
    "\n",
    "# Calculate binary metrics\n",
    "precision = precision_score(y_true, y_pred)\n",
    "recall = recall_score(y_true, y_pred)\n",
    "f1 = f1_score(y_true, y_pred)\n",
    "accuracy = accuracy_score(y_true, y_pred)\n",
    "cm = confusion_matrix(y_true, y_pred)\n",
    "\n",
    "# Print custom metrics\n",
    "print(\"\\n🧪 Custom Binary Entity Match Evaluation:\")\n",
    "print(f\"🎯 Precision : {precision:.4f}\")\n",
    "print(f\"🎯 Recall    : {recall:.4f}\")\n",
    "print(f\"🎯 Accuracy  : {accuracy:.4f}\")\n",
    "print(f\"🎯 F1-score  : {f1:.4f}\")\n",
    "\n",
    "# Save confusion matrix PNG\n",
    "cm_df = pd.DataFrame(cm, index=[\"Actual 0\", \"Actual 1\"], columns=[\"Predicted 0\", \"Predicted 1\"])\n",
    "plt.figure(figsize=(6, 4))\n",
    "sns.heatmap(cm_df, annot=True, fmt=\"d\", cmap=\"Purples\")\n",
    "plt.title(\"Confusion Matrix (Fine-tuned spaCy PER Entities)\")\n",
    "plt.ylabel(\"Actual\")\n",
    "plt.xlabel(\"Predicted\")\n",
    "plt.tight_layout()\n",
    "plt.savefig(\"confusion_matrix_finetuned_spacy.png\")\n",
    "plt.show()\n"
   ]
  },
  {
   "cell_type": "code",
   "execution_count": 2,
   "id": "77bd35e3",
   "metadata": {},
   "outputs": [
    {
     "name": "stdout",
     "output_type": "stream",
     "text": [
      "✅ Labeling selesai. Total kalimat dengan entitas PER: 294\n"
     ]
    }
   ],
   "source": [
    "import pandas as pd\n",
    "import spacy\n",
    "\n",
    "# Load best model\n",
    "nlp = spacy.load(\"output/model-best\")\n",
    "\n",
    "# Load tokenized cerita rakyat\n",
    "df = pd.read_csv(\"cerita_rakyat_filtered.csv\")\n",
    "\n",
    "# Gabungkan token per kalimat\n",
    "grouped = df.groupby([\"story_id\", \"sentence_id\"])[\"word\"].apply(lambda x: \" \".join(x)).reset_index()\n",
    "\n",
    "results = []\n",
    "\n",
    "for _, row in grouped.iterrows():\n",
    "    story_id = row[\"story_id\"]\n",
    "    sentence_id = row[\"sentence_id\"]\n",
    "    sentence = row[\"word\"]\n",
    "\n",
    "    # Inference NER\n",
    "    doc = nlp(sentence)\n",
    "    persons = list(set([ent.text for ent in doc.ents if ent.label_ == \"PER\"]))\n",
    "\n",
    "    if persons:\n",
    "        results.append({\n",
    "            \"story_id\": story_id,\n",
    "            \"sentence_id\": sentence_id,\n",
    "            \"characters\": str(persons)\n",
    "        })\n",
    "\n",
    "# Simpan ke file\n",
    "output_df = pd.DataFrame(results)\n",
    "output_df.to_csv(\"hasil_ner_custom_model.csv\", index=False)\n",
    "\n",
    "print(f\"✅ Labeling selesai. Total kalimat dengan entitas PER: {len(output_df)}\")\n"
   ]
  },
  {
   "cell_type": "code",
   "execution_count": 5,
   "id": "d01fbe13",
   "metadata": {},
   "outputs": [
    {
     "name": "stdout",
     "output_type": "stream",
     "text": [
      "📊 Precision : 0.1014\n",
      "📊 Recall    : 0.0195\n",
      "📊 Accuracy  : 0.0166\n",
      "📊 F1-score  : 0.0327\n"
     ]
    },
    {
     "name": "stderr",
     "output_type": "stream",
     "text": [
      "C:\\Users\\rayssa\\AppData\\Local\\Temp\\ipykernel_3348\\1058451228.py:34: DeprecationWarning: DataFrameGroupBy.apply operated on the grouping columns. This behavior is deprecated, and in a future version of pandas the grouping columns will be excluded from the operation. Either pass `include_groups=False` to exclude the groupings or explicitly select the grouping columns after groupby to silence this warning.\n",
      "  .apply(extract_entity_mentions)\n"
     ]
    },
    {
     "data": {
      "image/png": "[encoded data removed]",
      "text/plain": [
       "<Figure size 600x400 with 2 Axes>"
      ]
     },
     "metadata": {},
     "output_type": "display_data"
    }
   ],
   "source": [
    "import pandas as pd\n",
    "import ast\n",
    "import matplotlib.pyplot as plt\n",
    "import seaborn as sns\n",
    "from sklearn.metrics import precision_score, recall_score, f1_score, accuracy_score, confusion_matrix\n",
    "\n",
    "# Load hasil prediksi dan ground truth\n",
    "pred_df = pd.read_csv(\"hasil_ner_custom_model.csv\")\n",
    "pred_df[\"characters\"] = pred_df[\"characters\"].apply(ast.literal_eval)\n",
    "\n",
    "gt_df = pd.read_csv(\"labelled.csv\")\n",
    "\n",
    "# Step 1: Ekstrak entity PER dari ground truth\n",
    "def extract_entity_mentions(group):\n",
    "    entities = []\n",
    "    current = []\n",
    "    for word, label in zip(group[\"word\"], group[\"TYPE\"]):\n",
    "        if label == \"B-PER\":\n",
    "            if current:\n",
    "                entities.append(\" \".join(current))\n",
    "            current = [word]\n",
    "        elif label == \"I-PER\":\n",
    "            current.append(word)\n",
    "        else:\n",
    "            if current:\n",
    "                entities.append(\" \".join(current))\n",
    "                current = []\n",
    "    if current:\n",
    "        entities.append(\" \".join(current))\n",
    "    return list(set([e.lower() for e in entities]))\n",
    "\n",
    "gt_entities_df = (\n",
    "    gt_df.groupby([\"story_id\", \"sentence_id\"])\n",
    "    .apply(extract_entity_mentions)\n",
    "    .reset_index(name=\"true_entities\")\n",
    ")\n",
    "\n",
    "# Step 2: Gabungkan prediksi dan ground truth\n",
    "merged = pd.merge(pred_df, gt_entities_df, on=[\"story_id\", \"sentence_id\"], how=\"outer\").fillna(\"[]\")\n",
    "merged[\"characters\"] = merged[\"characters\"].apply(lambda x: x if isinstance(x, list) else ast.literal_eval(x))\n",
    "merged[\"true_entities\"] = merged[\"true_entities\"].apply(lambda x: x if isinstance(x, list) else ast.literal_eval(x))\n",
    "\n",
    "# Step 3: Entity-level evaluation\n",
    "y_true, y_pred = [], []\n",
    "\n",
    "for _, row in merged.iterrows():\n",
    "    pred = set([x.lower() for x in row[\"characters\"]])\n",
    "    true = set([x.lower() for x in row[\"true_entities\"]])\n",
    "    all_entities = pred.union(true)\n",
    "    for ent in all_entities:\n",
    "        y_true.append(int(ent in true))\n",
    "        y_pred.append(int(ent in pred))\n",
    "\n",
    "# Step 4: Hitung metrik\n",
    "precision = precision_score(y_true, y_pred)\n",
    "recall = recall_score(y_true, y_pred)\n",
    "f1 = f1_score(y_true, y_pred)\n",
    "accuracy = accuracy_score(y_true, y_pred)\n",
    "cm = confusion_matrix(y_true, y_pred)\n",
    "\n",
    "# Print hasil\n",
    "print(f\"📊 Precision : {precision:.4f}\")\n",
    "print(f\"📊 Recall    : {recall:.4f}\")\n",
    "print(f\"📊 Accuracy  : {accuracy:.4f}\")\n",
    "print(f\"📊 F1-score  : {f1:.4f}\")\n",
    "\n",
    "# Step 5: Simpan confusion matrix sebagai PNG\n",
    "cm_df = pd.DataFrame(cm, index=[\"Actual 0\", \"Actual 1\"], columns=[\"Predicted 0\", \"Predicted 1\"])\n",
    "plt.figure(figsize=(6, 4))\n",
    "sns.heatmap(cm_df, annot=True, fmt=\"d\", cmap=\"Greens\")\n",
    "plt.title(\"Confusion Matrix (Custom NER Model)\")\n",
    "plt.ylabel(\"Actual\")\n",
    "plt.xlabel(\"Predicted\")\n",
    "plt.tight_layout()\n",
    "plt.savefig(\"confusion_matrix_custom_model.png\")\n",
    "plt.show()\n"
   ]
  },
  {
   "cell_type": "code",
   "execution_count": null,
   "id": "c45bbd51",
   "metadata": {},
   "outputs": [],
   "source": []
  }
 ],
 "metadata": {
  "kernelspec": {
   "display_name": ".venv",
   "language": "python",
   "name": "python3"
  },
  "language_info": {
   "codemirror_mode": {
    "name": "ipython",
    "version": 3
   },
   "file_extension": ".py",
   "mimetype": "text/x-python",
   "name": "python",
   "nbconvert_exporter": "python",
   "pygments_lexer": "ipython3",
   "version": "3.10.11"
  }
 },
 "nbformat": 4,
 "nbformat_minor": 5
}
