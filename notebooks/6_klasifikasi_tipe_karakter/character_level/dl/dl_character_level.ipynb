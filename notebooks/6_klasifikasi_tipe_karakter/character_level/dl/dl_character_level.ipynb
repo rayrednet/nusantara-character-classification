{
 "cells": [
  {
   "cell_type": "markdown",
   "id": "7e145f57",
   "metadata": {},
   "source": [
    "# deep learning character level models"
   ]
  },
  {
   "cell_type": "markdown",
   "id": "30638e45",
   "metadata": {},
   "source": [
    "## V1: IndoBERT merge text feature only"
   ]
  },
  {
   "cell_type": "code",
   "execution_count": 1,
   "id": "10da3dc0",
   "metadata": {},
   "outputs": [
    {
     "name": "stderr",
     "output_type": "stream",
     "text": [
      "c:\\Users\\rayssa\\Documents\\nusantara-character-classification\\.venv\\lib\\site-packages\\tqdm\\auto.py:21: TqdmWarning: IProgress not found. Please update jupyter and ipywidgets. See https://ipywidgets.readthedocs.io/en/stable/user_install.html\n",
      "  from .autonotebook import tqdm as notebook_tqdm\n"
     ]
    },
    {
     "name": "stdout",
     "output_type": "stream",
     "text": [
      "\n",
      "📚 Fold 1/5\n"
     ]
    },
    {
     "name": "stderr",
     "output_type": "stream",
     "text": [
      "Some weights of BertForSequenceClassification were not initialized from the model checkpoint at indobenchmark/indobert-base-p1 and are newly initialized: ['classifier.bias', 'classifier.weight']\n",
      "You should probably TRAIN this model on a down-stream task to be able to use it for predictions and inference.\n",
      "c:\\Users\\rayssa\\Documents\\nusantara-character-classification\\.venv\\lib\\site-packages\\transformers\\training_args.py:1545: FutureWarning: `evaluation_strategy` is deprecated and will be removed in version 4.46 of 🤗 Transformers. Use `eval_strategy` instead\n",
      "  warnings.warn(\n",
      "c:\\Users\\rayssa\\Documents\\nusantara-character-classification\\.venv\\lib\\site-packages\\sklearn\\metrics\\_classification.py:1565: UndefinedMetricWarning: Precision is ill-defined and being set to 0.0 in labels with no predicted samples. Use `zero_division` parameter to control this behavior.\n",
      "  _warn_prf(average, modifier, f\"{metric.capitalize()} is\", len(result))\n"
     ]
    },
    {
     "name": "stdout",
     "output_type": "stream",
     "text": [
      "{'eval_loss': 0.9404398798942566, 'eval_accuracy': 0.5384615384615384, 'eval_f1': 0.2333333333333333, 'eval_precision': 0.1794871794871795, 'eval_recall': 0.3333333333333333, 'eval_runtime': 0.2239, 'eval_samples_per_second': 174.147, 'eval_steps_per_second': 22.327, 'epoch': 1.0}\n"
     ]
    },
    {
     "name": "stderr",
     "output_type": "stream",
     "text": [
      "c:\\Users\\rayssa\\Documents\\nusantara-character-classification\\.venv\\lib\\site-packages\\sklearn\\metrics\\_classification.py:1565: UndefinedMetricWarning: Precision is ill-defined and being set to 0.0 in labels with no predicted samples. Use `zero_division` parameter to control this behavior.\n",
      "  _warn_prf(average, modifier, f\"{metric.capitalize()} is\", len(result))\n"
     ]
    },
    {
     "name": "stdout",
     "output_type": "stream",
     "text": [
      "{'eval_loss': 0.9238206744194031, 'eval_accuracy': 0.5384615384615384, 'eval_f1': 0.3047433398310591, 'eval_precision': 0.30303030303030304, 'eval_recall': 0.3528693528693529, 'eval_runtime': 0.2167, 'eval_samples_per_second': 179.94, 'eval_steps_per_second': 23.069, 'epoch': 2.0}\n",
      "{'loss': 0.9788, 'grad_norm': 5.70477819442749, 'learning_rate': 1e-05, 'epoch': 2.6315789473684212}\n",
      "{'eval_loss': 0.8688951134681702, 'eval_accuracy': 0.5384615384615384, 'eval_f1': 0.4444444444444444, 'eval_precision': 0.6520763187429854, 'eval_recall': 0.4231990231990232, 'eval_runtime': 0.2045, 'eval_samples_per_second': 190.755, 'eval_steps_per_second': 24.456, 'epoch': 3.0}\n",
      "{'eval_loss': 0.8547136187553406, 'eval_accuracy': 0.5897435897435898, 'eval_f1': 0.47338935574229696, 'eval_precision': 0.7000000000000001, 'eval_recall': 0.45494505494505494, 'eval_runtime': 0.2069, 'eval_samples_per_second': 188.5, 'eval_steps_per_second': 24.167, 'epoch': 4.0}\n",
      "{'eval_loss': 0.7920941710472107, 'eval_accuracy': 0.6666666666666666, 'eval_f1': 0.620939120939121, 'eval_precision': 0.6805555555555555, 'eval_recall': 0.611965811965812, 'eval_runtime': 0.1806, 'eval_samples_per_second': 216.003, 'eval_steps_per_second': 27.693, 'epoch': 5.0}\n",
      "{'loss': 0.6429, 'grad_norm': 5.818337917327881, 'learning_rate': 2e-05, 'epoch': 5.2631578947368425}\n",
      "{'eval_loss': 0.8159672617912292, 'eval_accuracy': 0.6923076923076923, 'eval_f1': 0.6216524216524216, 'eval_precision': 0.6394335511982571, 'eval_recall': 0.618070818070818, 'eval_runtime': 0.2071, 'eval_samples_per_second': 188.36, 'eval_steps_per_second': 24.149, 'epoch': 6.0}\n",
      "{'eval_loss': 1.2672995328903198, 'eval_accuracy': 0.6410256410256411, 'eval_f1': 0.5568992248062016, 'eval_precision': 0.5575757575757576, 'eval_recall': 0.5570207570207572, 'eval_runtime': 0.2107, 'eval_samples_per_second': 185.104, 'eval_steps_per_second': 23.731, 'epoch': 7.0}\n",
      "{'loss': 0.1493, 'grad_norm': 0.8186542391777039, 'learning_rate': 1.4594594594594596e-05, 'epoch': 7.894736842105263}\n",
      "{'eval_loss': 1.2684050798416138, 'eval_accuracy': 0.6666666666666666, 'eval_f1': 0.6120507399577167, 'eval_precision': 0.6060606060606061, 'eval_recall': 0.6236874236874237, 'eval_runtime': 0.2046, 'eval_samples_per_second': 190.628, 'eval_steps_per_second': 24.439, 'epoch': 8.0}\n",
      "{'train_runtime': 33.8872, 'train_samples_per_second': 67.282, 'train_steps_per_second': 8.41, 'train_loss': 0.5837958654094684, 'epoch': 8.0}\n",
      "\n",
      "📚 Fold 2/5\n"
     ]
    },
    {
     "name": "stderr",
     "output_type": "stream",
     "text": [
      "Some weights of BertForSequenceClassification were not initialized from the model checkpoint at indobenchmark/indobert-base-p1 and are newly initialized: ['classifier.bias', 'classifier.weight']\n",
      "You should probably TRAIN this model on a down-stream task to be able to use it for predictions and inference.\n",
      "c:\\Users\\rayssa\\Documents\\nusantara-character-classification\\.venv\\lib\\site-packages\\transformers\\training_args.py:1545: FutureWarning: `evaluation_strategy` is deprecated and will be removed in version 4.46 of 🤗 Transformers. Use `eval_strategy` instead\n",
      "  warnings.warn(\n",
      "c:\\Users\\rayssa\\Documents\\nusantara-character-classification\\.venv\\lib\\site-packages\\sklearn\\metrics\\_classification.py:1565: UndefinedMetricWarning: Precision is ill-defined and being set to 0.0 in labels with no predicted samples. Use `zero_division` parameter to control this behavior.\n",
      "  _warn_prf(average, modifier, f\"{metric.capitalize()} is\", len(result))\n"
     ]
    },
    {
     "name": "stdout",
     "output_type": "stream",
     "text": [
      "{'eval_loss': 0.9625915884971619, 'eval_accuracy': 0.5526315789473685, 'eval_f1': 0.3520531400966183, 'eval_precision': 0.33108866442199775, 'eval_recall': 0.38095238095238093, 'eval_runtime': 0.1595, 'eval_samples_per_second': 238.315, 'eval_steps_per_second': 31.357, 'epoch': 1.0}\n",
      "{'eval_loss': 0.8894913196563721, 'eval_accuracy': 0.5526315789473685, 'eval_f1': 0.43813131313131315, 'eval_precision': 0.6432098765432099, 'eval_recall': 0.41984126984126985, 'eval_runtime': 0.2009, 'eval_samples_per_second': 189.133, 'eval_steps_per_second': 24.886, 'epoch': 2.0}\n",
      "{'loss': 0.9466, 'grad_norm': 11.903669357299805, 'learning_rate': 1e-05, 'epoch': 2.5}\n"
     ]
    },
    {
     "name": "stderr",
     "output_type": "stream",
     "text": [
      "c:\\Users\\rayssa\\Documents\\nusantara-character-classification\\.venv\\lib\\site-packages\\sklearn\\metrics\\_classification.py:1565: UndefinedMetricWarning: Precision is ill-defined and being set to 0.0 in labels with no predicted samples. Use `zero_division` parameter to control this behavior.\n",
      "  _warn_prf(average, modifier, f\"{metric.capitalize()} is\", len(result))\n"
     ]
    },
    {
     "name": "stdout",
     "output_type": "stream",
     "text": [
      "{'eval_loss': 1.0214297771453857, 'eval_accuracy': 0.5526315789473685, 'eval_f1': 0.3358070500927644, 'eval_precision': 0.3142857142857143, 'eval_recall': 0.36904761904761907, 'eval_runtime': 0.1915, 'eval_samples_per_second': 198.429, 'eval_steps_per_second': 26.109, 'epoch': 3.0}\n"
     ]
    },
    {
     "name": "stderr",
     "output_type": "stream",
     "text": [
      "c:\\Users\\rayssa\\Documents\\nusantara-character-classification\\.venv\\lib\\site-packages\\sklearn\\metrics\\_classification.py:1565: UndefinedMetricWarning: Precision is ill-defined and being set to 0.0 in labels with no predicted samples. Use `zero_division` parameter to control this behavior.\n",
      "  _warn_prf(average, modifier, f\"{metric.capitalize()} is\", len(result))\n"
     ]
    },
    {
     "name": "stdout",
     "output_type": "stream",
     "text": [
      "{'eval_loss': 1.0021846294403076, 'eval_accuracy': 0.5526315789473685, 'eval_f1': 0.2413793103448276, 'eval_precision': 0.18918918918918917, 'eval_recall': 0.3333333333333333, 'eval_runtime': 0.1742, 'eval_samples_per_second': 218.194, 'eval_steps_per_second': 28.71, 'epoch': 4.0}\n",
      "{'train_runtime': 18.0017, 'train_samples_per_second': 127.488, 'train_steps_per_second': 16.665, 'train_loss': 0.8755291938781739, 'epoch': 4.0}\n",
      "\n",
      "📚 Fold 3/5\n"
     ]
    },
    {
     "name": "stderr",
     "output_type": "stream",
     "text": [
      "Some weights of BertForSequenceClassification were not initialized from the model checkpoint at indobenchmark/indobert-base-p1 and are newly initialized: ['classifier.bias', 'classifier.weight']\n",
      "You should probably TRAIN this model on a down-stream task to be able to use it for predictions and inference.\n",
      "c:\\Users\\rayssa\\Documents\\nusantara-character-classification\\.venv\\lib\\site-packages\\transformers\\training_args.py:1545: FutureWarning: `evaluation_strategy` is deprecated and will be removed in version 4.46 of 🤗 Transformers. Use `eval_strategy` instead\n",
      "  warnings.warn(\n",
      "c:\\Users\\rayssa\\Documents\\nusantara-character-classification\\.venv\\lib\\site-packages\\sklearn\\metrics\\_classification.py:1565: UndefinedMetricWarning: Precision is ill-defined and being set to 0.0 in labels with no predicted samples. Use `zero_division` parameter to control this behavior.\n",
      "  _warn_prf(average, modifier, f\"{metric.capitalize()} is\", len(result))\n"
     ]
    },
    {
     "name": "stdout",
     "output_type": "stream",
     "text": [
      "{'eval_loss': 0.9875288605690002, 'eval_accuracy': 0.5526315789473685, 'eval_f1': 0.23728813559322035, 'eval_precision': 0.1842105263157895, 'eval_recall': 0.3333333333333333, 'eval_runtime': 0.1482, 'eval_samples_per_second': 256.411, 'eval_steps_per_second': 33.738, 'epoch': 1.0}\n"
     ]
    },
    {
     "name": "stderr",
     "output_type": "stream",
     "text": [
      "c:\\Users\\rayssa\\Documents\\nusantara-character-classification\\.venv\\lib\\site-packages\\sklearn\\metrics\\_classification.py:1565: UndefinedMetricWarning: Precision is ill-defined and being set to 0.0 in labels with no predicted samples. Use `zero_division` parameter to control this behavior.\n",
      "  _warn_prf(average, modifier, f\"{metric.capitalize()} is\", len(result))\n"
     ]
    },
    {
     "name": "stdout",
     "output_type": "stream",
     "text": [
      "{'eval_loss': 0.9028949737548828, 'eval_accuracy': 0.5789473684210527, 'eval_f1': 0.2932330827067669, 'eval_precision': 0.36111111111111116, 'eval_recall': 0.3611111111111111, 'eval_runtime': 0.1664, 'eval_samples_per_second': 228.312, 'eval_steps_per_second': 30.041, 'epoch': 2.0}\n",
      "{'loss': 0.9649, 'grad_norm': 4.485864162445068, 'learning_rate': 1e-05, 'epoch': 2.5}\n"
     ]
    },
    {
     "name": "stderr",
     "output_type": "stream",
     "text": [
      "c:\\Users\\rayssa\\Documents\\nusantara-character-classification\\.venv\\lib\\site-packages\\sklearn\\metrics\\_classification.py:1565: UndefinedMetricWarning: Precision is ill-defined and being set to 0.0 in labels with no predicted samples. Use `zero_division` parameter to control this behavior.\n",
      "  _warn_prf(average, modifier, f\"{metric.capitalize()} is\", len(result))\n"
     ]
    },
    {
     "name": "stdout",
     "output_type": "stream",
     "text": [
      "{'eval_loss': 0.82296222448349, 'eval_accuracy': 0.631578947368421, 'eval_f1': 0.3795454545454546, 'eval_precision': 0.45588235294117646, 'eval_recall': 0.4166666666666667, 'eval_runtime': 0.1729, 'eval_samples_per_second': 219.758, 'eval_steps_per_second': 28.916, 'epoch': 3.0}\n",
      "{'eval_loss': 0.849338710308075, 'eval_accuracy': 0.631578947368421, 'eval_f1': 0.499828001375989, 'eval_precision': 0.734920634920635, 'eval_recall': 0.4793650793650794, 'eval_runtime': 0.1536, 'eval_samples_per_second': 247.384, 'eval_steps_per_second': 32.551, 'epoch': 4.0}\n",
      "{'loss': 0.6337, 'grad_norm': 9.302436828613281, 'learning_rate': 2e-05, 'epoch': 5.0}\n",
      "{'eval_loss': 0.7911232113838196, 'eval_accuracy': 0.6052631578947368, 'eval_f1': 0.5057952069716776, 'eval_precision': 0.5735632183908046, 'eval_recall': 0.5023809523809524, 'eval_runtime': 0.1152, 'eval_samples_per_second': 329.849, 'eval_steps_per_second': 43.401, 'epoch': 5.0}\n"
     ]
    },
    {
     "name": "stderr",
     "output_type": "stream",
     "text": [
      "c:\\Users\\rayssa\\Documents\\nusantara-character-classification\\.venv\\lib\\site-packages\\sklearn\\metrics\\_classification.py:1565: UndefinedMetricWarning: Precision is ill-defined and being set to 0.0 in labels with no predicted samples. Use `zero_division` parameter to control this behavior.\n",
      "  _warn_prf(average, modifier, f\"{metric.capitalize()} is\", len(result))\n"
     ]
    },
    {
     "name": "stdout",
     "output_type": "stream",
     "text": [
      "{'eval_loss': 1.3272813558578491, 'eval_accuracy': 0.5789473684210527, 'eval_f1': 0.3522149600580973, 'eval_precision': 0.39191919191919194, 'eval_recall': 0.3849206349206349, 'eval_runtime': 0.1483, 'eval_samples_per_second': 256.319, 'eval_steps_per_second': 33.726, 'epoch': 6.0}\n",
      "{'eval_loss': 1.5447286367416382, 'eval_accuracy': 0.6842105263157895, 'eval_f1': 0.5600907029478458, 'eval_precision': 0.7817460317460317, 'eval_recall': 0.5349206349206349, 'eval_runtime': 0.1665, 'eval_samples_per_second': 228.289, 'eval_steps_per_second': 30.038, 'epoch': 7.0}\n",
      "{'loss': 0.1456, 'grad_norm': 0.4890534579753876, 'learning_rate': 1.5000000000000002e-05, 'epoch': 7.5}\n",
      "{'eval_loss': 1.639188289642334, 'eval_accuracy': 0.6052631578947368, 'eval_f1': 0.5815295815295816, 'eval_precision': 0.5619047619047618, 'eval_recall': 0.6158730158730158, 'eval_runtime': 0.1675, 'eval_samples_per_second': 226.831, 'eval_steps_per_second': 29.846, 'epoch': 8.0}\n",
      "{'eval_loss': 1.6517493724822998, 'eval_accuracy': 0.631578947368421, 'eval_f1': 0.5388888888888889, 'eval_precision': 0.7446393762183235, 'eval_recall': 0.526984126984127, 'eval_runtime': 0.1659, 'eval_samples_per_second': 229.041, 'eval_steps_per_second': 30.137, 'epoch': 9.0}\n",
      "{'loss': 0.0054, 'grad_norm': 0.036882854998111725, 'learning_rate': 1e-05, 'epoch': 10.0}\n",
      "{'eval_loss': 1.8509198427200317, 'eval_accuracy': 0.631578947368421, 'eval_f1': 0.5776167471819647, 'eval_precision': 0.6262626262626262, 'eval_recall': 0.5539682539682539, 'eval_runtime': 0.1184, 'eval_samples_per_second': 321.055, 'eval_steps_per_second': 42.244, 'epoch': 10.0}\n",
      "{'train_runtime': 39.3766, 'train_samples_per_second': 58.283, 'train_steps_per_second': 7.619, 'train_loss': 0.43738922029733657, 'epoch': 10.0}\n",
      "\n",
      "📚 Fold 4/5\n"
     ]
    },
    {
     "name": "stderr",
     "output_type": "stream",
     "text": [
      "Some weights of BertForSequenceClassification were not initialized from the model checkpoint at indobenchmark/indobert-base-p1 and are newly initialized: ['classifier.bias', 'classifier.weight']\n",
      "You should probably TRAIN this model on a down-stream task to be able to use it for predictions and inference.\n",
      "c:\\Users\\rayssa\\Documents\\nusantara-character-classification\\.venv\\lib\\site-packages\\transformers\\training_args.py:1545: FutureWarning: `evaluation_strategy` is deprecated and will be removed in version 4.46 of 🤗 Transformers. Use `eval_strategy` instead\n",
      "  warnings.warn(\n",
      "c:\\Users\\rayssa\\Documents\\nusantara-character-classification\\.venv\\lib\\site-packages\\sklearn\\metrics\\_classification.py:1565: UndefinedMetricWarning: Precision is ill-defined and being set to 0.0 in labels with no predicted samples. Use `zero_division` parameter to control this behavior.\n",
      "  _warn_prf(average, modifier, f\"{metric.capitalize()} is\", len(result))\n"
     ]
    },
    {
     "name": "stdout",
     "output_type": "stream",
     "text": [
      "{'eval_loss': 0.9894976615905762, 'eval_accuracy': 0.5, 'eval_f1': 0.3356125356125356, 'eval_precision': 0.3134920634920635, 'eval_recall': 0.3611111111111111, 'eval_runtime': 0.1636, 'eval_samples_per_second': 232.288, 'eval_steps_per_second': 30.564, 'epoch': 1.0}\n"
     ]
    },
    {
     "name": "stderr",
     "output_type": "stream",
     "text": [
      "c:\\Users\\rayssa\\Documents\\nusantara-character-classification\\.venv\\lib\\site-packages\\sklearn\\metrics\\_classification.py:1565: UndefinedMetricWarning: Precision is ill-defined and being set to 0.0 in labels with no predicted samples. Use `zero_division` parameter to control this behavior.\n",
      "  _warn_prf(average, modifier, f\"{metric.capitalize()} is\", len(result))\n"
     ]
    },
    {
     "name": "stdout",
     "output_type": "stream",
     "text": [
      "{'eval_loss': 0.9284132719039917, 'eval_accuracy': 0.5263157894736842, 'eval_f1': 0.2298850574712644, 'eval_precision': 0.1801801801801802, 'eval_recall': 0.31746031746031744, 'eval_runtime': 0.1657, 'eval_samples_per_second': 229.375, 'eval_steps_per_second': 30.181, 'epoch': 2.0}\n",
      "{'loss': 0.9389, 'grad_norm': 13.678547859191895, 'learning_rate': 1e-05, 'epoch': 2.5}\n"
     ]
    },
    {
     "name": "stderr",
     "output_type": "stream",
     "text": [
      "c:\\Users\\rayssa\\Documents\\nusantara-character-classification\\.venv\\lib\\site-packages\\sklearn\\metrics\\_classification.py:1565: UndefinedMetricWarning: Precision is ill-defined and being set to 0.0 in labels with no predicted samples. Use `zero_division` parameter to control this behavior.\n",
      "  _warn_prf(average, modifier, f\"{metric.capitalize()} is\", len(result))\n"
     ]
    },
    {
     "name": "stdout",
     "output_type": "stream",
     "text": [
      "{'eval_loss': 0.9809600710868835, 'eval_accuracy': 0.631578947368421, 'eval_f1': 0.4313390313390313, 'eval_precision': 0.40277777777777785, 'eval_recall': 0.46428571428571425, 'eval_runtime': 0.1699, 'eval_samples_per_second': 223.599, 'eval_steps_per_second': 29.421, 'epoch': 3.0}\n"
     ]
    },
    {
     "name": "stderr",
     "output_type": "stream",
     "text": [
      "c:\\Users\\rayssa\\Documents\\nusantara-character-classification\\.venv\\lib\\site-packages\\sklearn\\metrics\\_classification.py:1565: UndefinedMetricWarning: Precision is ill-defined and being set to 0.0 in labels with no predicted samples. Use `zero_division` parameter to control this behavior.\n",
      "  _warn_prf(average, modifier, f\"{metric.capitalize()} is\", len(result))\n"
     ]
    },
    {
     "name": "stdout",
     "output_type": "stream",
     "text": [
      "{'eval_loss': 1.1438077688217163, 'eval_accuracy': 0.5, 'eval_f1': 0.2876190476190476, 'eval_precision': 0.24393358876117496, 'eval_recall': 0.3523809523809524, 'eval_runtime': 0.1649, 'eval_samples_per_second': 230.425, 'eval_steps_per_second': 30.319, 'epoch': 4.0}\n",
      "{'loss': 0.7017, 'grad_norm': 6.461676597595215, 'learning_rate': 2e-05, 'epoch': 5.0}\n",
      "{'eval_loss': 1.1394957304000854, 'eval_accuracy': 0.5526315789473685, 'eval_f1': 0.37187789084181316, 'eval_precision': 0.35664335664335667, 'eval_recall': 0.39285714285714285, 'eval_runtime': 0.1173, 'eval_samples_per_second': 323.829, 'eval_steps_per_second': 42.609, 'epoch': 5.0}\n",
      "{'train_runtime': 19.3741, 'train_samples_per_second': 118.457, 'train_steps_per_second': 15.485, 'train_loss': 0.8203142547607422, 'epoch': 5.0}\n"
     ]
    },
    {
     "name": "stderr",
     "output_type": "stream",
     "text": [
      "c:\\Users\\rayssa\\Documents\\nusantara-character-classification\\.venv\\lib\\site-packages\\sklearn\\metrics\\_classification.py:1565: UndefinedMetricWarning: Precision is ill-defined and being set to 0.0 in labels with no predicted samples. Use `zero_division` parameter to control this behavior.\n",
      "  _warn_prf(average, modifier, f\"{metric.capitalize()} is\", len(result))\n",
      "c:\\Users\\rayssa\\Documents\\nusantara-character-classification\\.venv\\lib\\site-packages\\sklearn\\metrics\\_classification.py:1565: UndefinedMetricWarning: Precision is ill-defined and being set to 0.0 in labels with no predicted samples. Use `zero_division` parameter to control this behavior.\n",
      "  _warn_prf(average, modifier, f\"{metric.capitalize()} is\", len(result))\n",
      "c:\\Users\\rayssa\\Documents\\nusantara-character-classification\\.venv\\lib\\site-packages\\sklearn\\metrics\\_classification.py:1565: UndefinedMetricWarning: Precision is ill-defined and being set to 0.0 in labels with no predicted samples. Use `zero_division` parameter to control this behavior.\n",
      "  _warn_prf(average, modifier, f\"{metric.capitalize()} is\", len(result))\n",
      "c:\\Users\\rayssa\\Documents\\nusantara-character-classification\\.venv\\lib\\site-packages\\sklearn\\metrics\\_classification.py:1565: UndefinedMetricWarning: Precision is ill-defined and being set to 0.0 in labels with no predicted samples. Use `zero_division` parameter to control this behavior.\n",
      "  _warn_prf(average, modifier, f\"{metric.capitalize()} is\", len(result))\n"
     ]
    },
    {
     "name": "stdout",
     "output_type": "stream",
     "text": [
      "\n",
      "📚 Fold 5/5\n"
     ]
    },
    {
     "name": "stderr",
     "output_type": "stream",
     "text": [
      "Some weights of BertForSequenceClassification were not initialized from the model checkpoint at indobenchmark/indobert-base-p1 and are newly initialized: ['classifier.bias', 'classifier.weight']\n",
      "You should probably TRAIN this model on a down-stream task to be able to use it for predictions and inference.\n",
      "c:\\Users\\rayssa\\Documents\\nusantara-character-classification\\.venv\\lib\\site-packages\\transformers\\training_args.py:1545: FutureWarning: `evaluation_strategy` is deprecated and will be removed in version 4.46 of 🤗 Transformers. Use `eval_strategy` instead\n",
      "  warnings.warn(\n",
      "c:\\Users\\rayssa\\Documents\\nusantara-character-classification\\.venv\\lib\\site-packages\\sklearn\\metrics\\_classification.py:1565: UndefinedMetricWarning: Precision is ill-defined and being set to 0.0 in labels with no predicted samples. Use `zero_division` parameter to control this behavior.\n",
      "  _warn_prf(average, modifier, f\"{metric.capitalize()} is\", len(result))\n"
     ]
    },
    {
     "name": "stdout",
     "output_type": "stream",
     "text": [
      "{'eval_loss': 1.0153650045394897, 'eval_accuracy': 0.34210526315789475, 'eval_f1': 0.19565217391304346, 'eval_precision': 0.2253968253968254, 'eval_recall': 0.3243589743589744, 'eval_runtime': 0.1708, 'eval_samples_per_second': 222.436, 'eval_steps_per_second': 29.268, 'epoch': 1.0}\n"
     ]
    },
    {
     "name": "stderr",
     "output_type": "stream",
     "text": [
      "c:\\Users\\rayssa\\Documents\\nusantara-character-classification\\.venv\\lib\\site-packages\\sklearn\\metrics\\_classification.py:1565: UndefinedMetricWarning: Precision is ill-defined and being set to 0.0 in labels with no predicted samples. Use `zero_division` parameter to control this behavior.\n",
      "  _warn_prf(average, modifier, f\"{metric.capitalize()} is\", len(result))\n"
     ]
    },
    {
     "name": "stdout",
     "output_type": "stream",
     "text": [
      "{'eval_loss': 0.9796600341796875, 'eval_accuracy': 0.5526315789473685, 'eval_f1': 0.28153717627401836, 'eval_precision': 0.5135135135135135, 'eval_recall': 0.358974358974359, 'eval_runtime': 0.1624, 'eval_samples_per_second': 233.922, 'eval_steps_per_second': 30.779, 'epoch': 2.0}\n",
      "{'loss': 1.0211, 'grad_norm': 6.524550914764404, 'learning_rate': 1e-05, 'epoch': 2.5}\n"
     ]
    },
    {
     "name": "stderr",
     "output_type": "stream",
     "text": [
      "c:\\Users\\rayssa\\Documents\\nusantara-character-classification\\.venv\\lib\\site-packages\\sklearn\\metrics\\_classification.py:1565: UndefinedMetricWarning: Precision is ill-defined and being set to 0.0 in labels with no predicted samples. Use `zero_division` parameter to control this behavior.\n",
      "  _warn_prf(average, modifier, f\"{metric.capitalize()} is\", len(result))\n"
     ]
    },
    {
     "name": "stdout",
     "output_type": "stream",
     "text": [
      "{'eval_loss': 1.0299036502838135, 'eval_accuracy': 0.5263157894736842, 'eval_f1': 0.3609756097560976, 'eval_precision': 0.3398692810457516, 'eval_recall': 0.38717948717948714, 'eval_runtime': 0.1685, 'eval_samples_per_second': 225.505, 'eval_steps_per_second': 29.672, 'epoch': 3.0}\n",
      "{'eval_loss': 1.0650064945220947, 'eval_accuracy': 0.5, 'eval_f1': 0.33512224209898633, 'eval_precision': 0.31995540691192864, 'eval_recall': 0.3525641025641026, 'eval_runtime': 0.1666, 'eval_samples_per_second': 228.025, 'eval_steps_per_second': 30.003, 'epoch': 4.0}\n",
      "{'loss': 0.5967, 'grad_norm': 13.440051078796387, 'learning_rate': 2e-05, 'epoch': 5.0}\n",
      "{'eval_loss': 1.235257625579834, 'eval_accuracy': 0.5, 'eval_f1': 0.3482758620689655, 'eval_precision': 0.33749999999999997, 'eval_recall': 0.36153846153846153, 'eval_runtime': 0.1167, 'eval_samples_per_second': 325.715, 'eval_steps_per_second': 42.857, 'epoch': 5.0}\n",
      "{'train_runtime': 22.0557, 'train_samples_per_second': 104.055, 'train_steps_per_second': 13.602, 'train_loss': 0.8088888168334961, 'epoch': 5.0}\n"
     ]
    },
    {
     "name": "stderr",
     "output_type": "stream",
     "text": [
      "c:\\Users\\rayssa\\Documents\\nusantara-character-classification\\.venv\\lib\\site-packages\\sklearn\\metrics\\_classification.py:1565: UndefinedMetricWarning: Precision is ill-defined and being set to 0.0 in labels with no predicted samples. Use `zero_division` parameter to control this behavior.\n",
      "  _warn_prf(average, modifier, f\"{metric.capitalize()} is\", len(result))\n",
      "c:\\Users\\rayssa\\Documents\\nusantara-character-classification\\.venv\\lib\\site-packages\\sklearn\\metrics\\_classification.py:1565: UndefinedMetricWarning: Precision is ill-defined and being set to 0.0 in labels with no predicted samples. Use `zero_division` parameter to control this behavior.\n",
      "  _warn_prf(average, modifier, f\"{metric.capitalize()} is\", len(result))\n",
      "c:\\Users\\rayssa\\Documents\\nusantara-character-classification\\.venv\\lib\\site-packages\\sklearn\\metrics\\_classification.py:1565: UndefinedMetricWarning: Precision is ill-defined and being set to 0.0 in labels with no predicted samples. Use `zero_division` parameter to control this behavior.\n",
      "  _warn_prf(average, modifier, f\"{metric.capitalize()} is\", len(result))\n",
      "c:\\Users\\rayssa\\Documents\\nusantara-character-classification\\.venv\\lib\\site-packages\\sklearn\\metrics\\_classification.py:1565: UndefinedMetricWarning: Precision is ill-defined and being set to 0.0 in labels with no predicted samples. Use `zero_division` parameter to control this behavior.\n",
      "  _warn_prf(average, modifier, f\"{metric.capitalize()} is\", len(result))\n"
     ]
    },
    {
     "name": "stdout",
     "output_type": "stream",
     "text": [
      "\n",
      "✅ IndoBERT V1 character-level training complete. Results saved to: results/V1_IndoBERT_Char\n",
      "         Fold  Precision    Recall  F1-score  Accuracy\n",
      "0         1.0   0.639434  0.618071  0.621652  0.692308\n",
      "1         2.0   0.643210  0.419841  0.438131  0.552632\n",
      "2         3.0   0.561905  0.615873  0.581530  0.605263\n",
      "3         4.0   0.402778  0.464286  0.431339  0.631579\n",
      "4         5.0   0.339869  0.387179  0.360976  0.526316\n",
      "Average   3.0   0.517439  0.501050  0.486726  0.601619\n"
     ]
    }
   ],
   "source": [
    "import os\n",
    "import pandas as pd\n",
    "import torch\n",
    "import numpy as np\n",
    "import random\n",
    "from torch.utils.data import Dataset\n",
    "from transformers import AutoTokenizer, AutoModelForSequenceClassification, Trainer, TrainingArguments, EarlyStoppingCallback\n",
    "from sklearn.model_selection import StratifiedKFold\n",
    "from sklearn.metrics import classification_report, confusion_matrix, accuracy_score, precision_recall_fscore_support\n",
    "from sklearn.preprocessing import LabelEncoder\n",
    "import matplotlib.pyplot as plt\n",
    "import seaborn as sns\n",
    "\n",
    "# === Configuration ===\n",
    "FOLDS = 5\n",
    "EPOCHS = 15\n",
    "BATCH_SIZE = 8\n",
    "MODEL_NAME = \"indobenchmark/indobert-base-p1\"\n",
    "OUTPUT_DIR = \"results/V1_IndoBERT_Char\"\n",
    "SEED = 42\n",
    "\n",
    "os.makedirs(OUTPUT_DIR, exist_ok=True)\n",
    "\n",
    "# === Seed setup ===\n",
    "random.seed(SEED)\n",
    "np.random.seed(SEED)\n",
    "torch.manual_seed(SEED)\n",
    "torch.cuda.manual_seed_all(SEED)\n",
    "\n",
    "# === Load dataset ===\n",
    "df = pd.read_csv(\"character_level.csv\")\n",
    "df[\"merged_text\"] = df[\"merged_text\"].fillna(\"\")\n",
    "\n",
    "# Encode labels\n",
    "label_encoder = LabelEncoder()\n",
    "df[\"label\"] = label_encoder.fit_transform(df[\"type\"])\n",
    "texts = df[\"merged_text\"].tolist()\n",
    "labels = df[\"label\"].tolist()\n",
    "\n",
    "# === Compute class weights ===\n",
    "class_counts = np.bincount(labels)\n",
    "class_weights = len(labels) / (len(class_counts) * class_counts)\n",
    "class_weights_tensor = torch.tensor(class_weights, dtype=torch.float).to(torch.device(\"cuda\" if torch.cuda.is_available() else \"cpu\"))\n",
    "\n",
    "# === Dataset class ===\n",
    "class CharacterDataset(Dataset):\n",
    "    def __init__(self, texts, labels, tokenizer, max_len=128):\n",
    "        self.encodings = tokenizer(texts, truncation=True, padding=True, max_length=max_len)\n",
    "        self.labels = labels\n",
    "\n",
    "    def __getitem__(self, idx):\n",
    "        item = {key: torch.tensor(val[idx]) for key, val in self.encodings.items()}\n",
    "        item[\"labels\"] = torch.tensor(self.labels[idx])\n",
    "        return item\n",
    "\n",
    "    def __len__(self):\n",
    "        return len(self.labels)\n",
    "\n",
    "# === Metrics ===\n",
    "def compute_metrics(pred):\n",
    "    labels = pred.label_ids\n",
    "    preds = pred.predictions.argmax(-1)\n",
    "    precision, recall, f1, _ = precision_recall_fscore_support(labels, preds, average='macro')\n",
    "    acc = accuracy_score(labels, preds)\n",
    "    return {'accuracy': acc, 'f1': f1, 'precision': precision, 'recall': recall}\n",
    "\n",
    "# === Tokenizer ===\n",
    "tokenizer = AutoTokenizer.from_pretrained(MODEL_NAME)\n",
    "\n",
    "# === K-Fold setup ===\n",
    "skf = StratifiedKFold(n_splits=FOLDS, shuffle=True, random_state=SEED)\n",
    "fold_metrics = []\n",
    "cumulative_cm = np.zeros((3, 3), dtype=int)\n",
    "\n",
    "for fold, (train_idx, val_idx) in enumerate(skf.split(texts, labels)):\n",
    "    print(f\"\\n📚 Fold {fold + 1}/{FOLDS}\")\n",
    "\n",
    "    train_texts = [texts[i] for i in train_idx]\n",
    "    val_texts = [texts[i] for i in val_idx]\n",
    "    train_labels = [labels[i] for i in train_idx]\n",
    "    val_labels = [labels[i] for i in val_idx]\n",
    "\n",
    "    train_dataset = CharacterDataset(train_texts, train_labels, tokenizer)\n",
    "    val_dataset = CharacterDataset(val_texts, val_labels, tokenizer)\n",
    "\n",
    "    model = AutoModelForSequenceClassification.from_pretrained(MODEL_NAME, num_labels=3)\n",
    "    model.classifier.weight.data = model.classifier.weight.data.to(class_weights_tensor.device) * class_weights_tensor.unsqueeze(1)\n",
    "\n",
    "    fold_dir = os.path.join(OUTPUT_DIR, f\"fold_{fold+1}\")\n",
    "    os.makedirs(fold_dir, exist_ok=True)\n",
    "\n",
    "    training_args = TrainingArguments(\n",
    "        output_dir=fold_dir,\n",
    "        num_train_epochs=EPOCHS,\n",
    "        per_device_train_batch_size=BATCH_SIZE,\n",
    "        per_device_eval_batch_size=BATCH_SIZE,\n",
    "        logging_dir=os.path.join(fold_dir, \"logs\"),\n",
    "        evaluation_strategy=\"epoch\",\n",
    "        save_strategy=\"epoch\",\n",
    "        load_best_model_at_end=True,\n",
    "        metric_for_best_model=\"f1\",\n",
    "        greater_is_better=True,\n",
    "        logging_steps=50,\n",
    "        disable_tqdm=True,\n",
    "        learning_rate=2e-5,\n",
    "        warmup_steps=100,\n",
    "        weight_decay=0.01,\n",
    "        seed=SEED\n",
    "    )\n",
    "\n",
    "    trainer = Trainer(\n",
    "        model=model,\n",
    "        args=training_args,\n",
    "        train_dataset=train_dataset,\n",
    "        eval_dataset=val_dataset,\n",
    "        compute_metrics=compute_metrics,\n",
    "        callbacks=[EarlyStoppingCallback(early_stopping_patience=2)]\n",
    "    )\n",
    "\n",
    "    trainer.train()\n",
    "\n",
    "    # Evaluate\n",
    "    predictions = trainer.predict(val_dataset)\n",
    "    preds = torch.argmax(torch.tensor(predictions.predictions), dim=1).numpy()\n",
    "    true_labels = np.array(val_labels)\n",
    "    pred_labels = preds\n",
    "\n",
    "    decoded_true = label_encoder.inverse_transform(true_labels)\n",
    "    decoded_pred = label_encoder.inverse_transform(pred_labels)\n",
    "\n",
    "    # Classification Report\n",
    "    report = classification_report(decoded_true, decoded_pred, output_dict=True, digits=4)\n",
    "    report_df = pd.DataFrame(report).transpose()\n",
    "    report_df.to_csv(os.path.join(fold_dir, \"classification_report.csv\"))\n",
    "\n",
    "    # Confusion Matrix\n",
    "    cm = confusion_matrix(decoded_true, decoded_pred, labels=label_encoder.classes_)\n",
    "    cm_df = pd.DataFrame(cm, index=label_encoder.classes_, columns=label_encoder.classes_)\n",
    "    cumulative_cm += cm\n",
    "\n",
    "    plt.figure(figsize=(6, 5))\n",
    "    sns.heatmap(cm_df, annot=True, fmt='d', cmap='Blues')\n",
    "    plt.title(f\"Confusion Matrix - Fold {fold + 1} (IndoBERT V1 - Char Level)\")\n",
    "    plt.xlabel(\"Predicted\")\n",
    "    plt.ylabel(\"Actual\")\n",
    "    plt.tight_layout()\n",
    "    plt.savefig(os.path.join(fold_dir, \"confusion_matrix.png\"))\n",
    "    plt.close()\n",
    "\n",
    "    macro = report[\"macro avg\"]\n",
    "    fold_metrics.append({\n",
    "        \"Fold\": fold + 1,\n",
    "        \"Precision\": macro[\"precision\"],\n",
    "        \"Recall\": macro[\"recall\"],\n",
    "        \"F1-score\": macro[\"f1-score\"],\n",
    "        \"Accuracy\": accuracy_score(decoded_true, decoded_pred)\n",
    "    })\n",
    "\n",
    "# === Save summary and average\n",
    "summary_df = pd.DataFrame(fold_metrics)\n",
    "summary_df.loc[\"Average\"] = summary_df.mean(numeric_only=True)\n",
    "summary_df.to_csv(os.path.join(OUTPUT_DIR, \"summary.csv\"), index=False)\n",
    "\n",
    "# === Save Average Confusion Matrix\n",
    "avg_cm = cumulative_cm // FOLDS\n",
    "avg_cm_df = pd.DataFrame(avg_cm, index=label_encoder.classes_, columns=label_encoder.classes_)\n",
    "plt.figure(figsize=(6, 5))\n",
    "sns.heatmap(avg_cm_df, annot=True, fmt='d', cmap='Purples')\n",
    "plt.title(\"Average Confusion Matrix (IndoBERT V1 - Char Level)\")\n",
    "plt.xlabel(\"Predicted\")\n",
    "plt.ylabel(\"Actual\")\n",
    "plt.tight_layout()\n",
    "plt.savefig(os.path.join(OUTPUT_DIR, \"average_confusion_matrix.png\"))\n",
    "plt.close()\n",
    "\n",
    "print(\"\\n✅ IndoBERT V1 character-level training complete. Results saved to:\", OUTPUT_DIR)\n",
    "print(summary_df)\n",
    "\n",
    "def notify_done(path=r'C:\\Users\\rayssa\\Downloads\\fein.mp3'):\n",
    "    import os\n",
    "    if os.path.exists(path):\n",
    "        os.startfile(path)\n",
    "    else:\n",
    "        print(\"⚠️ Notification sound file not found!\")\n",
    "\n",
    "# Call it at the end\n",
    "notify_done()\n",
    "\n"
   ]
  },
  {
   "cell_type": "code",
   "execution_count": 2,
   "id": "79cb32dd",
   "metadata": {},
   "outputs": [
    {
     "name": "stdout",
     "output_type": "stream",
     "text": [
      "✅ Deleted 8 checkpoint folders in: results/V1_IndoBERT_Char\\fold_1\n",
      "✅ Deleted 4 checkpoint folders in: results/V1_IndoBERT_Char\\fold_2\n",
      "✅ Deleted 10 checkpoint folders in: results/V1_IndoBERT_Char\\fold_3\n",
      "✅ Deleted 5 checkpoint folders in: results/V1_IndoBERT_Char\\fold_4\n",
      "✅ Deleted 5 checkpoint folders in: results/V1_IndoBERT_Char\\fold_5\n"
     ]
    }
   ],
   "source": [
    "import os\n",
    "import shutil\n",
    "\n",
    "base_path = \"results/V1_IndoBERT_Char\"\n",
    "\n",
    "for i in range(1, 6):\n",
    "    fold_path = os.path.join(base_path, f\"fold_{i}\")\n",
    "    deleted = 0\n",
    "\n",
    "    for item in os.listdir(fold_path):\n",
    "        item_path = os.path.join(fold_path, item)\n",
    "        if os.path.isdir(item_path) and item.startswith(\"checkpoint\"):\n",
    "            try:\n",
    "                shutil.rmtree(item_path)\n",
    "                deleted += 1\n",
    "            except Exception as e:\n",
    "                print(f\"❌ Failed to delete {item_path}: {e}\")\n",
    "\n",
    "    print(f\"✅ Deleted {deleted} checkpoint folders in: {fold_path}\")\n"
   ]
  },
  {
   "cell_type": "markdown",
   "id": "126ef9d6",
   "metadata": {},
   "source": [
    "## V1: CahyaBERT merge text feature only"
   ]
  },
  {
   "cell_type": "code",
   "execution_count": 3,
   "id": "664a623f",
   "metadata": {},
   "outputs": [
    {
     "name": "stdout",
     "output_type": "stream",
     "text": [
      "\n",
      "📚 Fold 1/5\n"
     ]
    },
    {
     "name": "stderr",
     "output_type": "stream",
     "text": [
      "Some weights of BertForSequenceClassification were not initialized from the model checkpoint at cahya/bert-base-indonesian-1.5G and are newly initialized: ['classifier.bias', 'classifier.weight']\n",
      "You should probably TRAIN this model on a down-stream task to be able to use it for predictions and inference.\n",
      "c:\\Users\\rayssa\\Documents\\nusantara-character-classification\\.venv\\lib\\site-packages\\transformers\\training_args.py:1545: FutureWarning: `evaluation_strategy` is deprecated and will be removed in version 4.46 of 🤗 Transformers. Use `eval_strategy` instead\n",
      "  warnings.warn(\n",
      "c:\\Users\\rayssa\\Documents\\nusantara-character-classification\\.venv\\lib\\site-packages\\sklearn\\metrics\\_classification.py:1565: UndefinedMetricWarning: Precision is ill-defined and being set to 0.0 in labels with no predicted samples. Use `zero_division` parameter to control this behavior.\n",
      "  _warn_prf(average, modifier, f\"{metric.capitalize()} is\", len(result))\n"
     ]
    },
    {
     "name": "stdout",
     "output_type": "stream",
     "text": [
      "{'eval_loss': 0.9630649089813232, 'eval_accuracy': 0.5897435897435898, 'eval_f1': 0.384927536231884, 'eval_precision': 0.3735632183908046, 'eval_recall': 0.41391941391941395, 'eval_runtime': 0.1614, 'eval_samples_per_second': 241.64, 'eval_steps_per_second': 30.98, 'epoch': 1.0}\n"
     ]
    },
    {
     "name": "stderr",
     "output_type": "stream",
     "text": [
      "c:\\Users\\rayssa\\Documents\\nusantara-character-classification\\.venv\\lib\\site-packages\\sklearn\\metrics\\_classification.py:1565: UndefinedMetricWarning: Precision is ill-defined and being set to 0.0 in labels with no predicted samples. Use `zero_division` parameter to control this behavior.\n",
      "  _warn_prf(average, modifier, f\"{metric.capitalize()} is\", len(result))\n"
     ]
    },
    {
     "name": "stdout",
     "output_type": "stream",
     "text": [
      "{'eval_loss': 0.9532976150512695, 'eval_accuracy': 0.5384615384615384, 'eval_f1': 0.2333333333333333, 'eval_precision': 0.1794871794871795, 'eval_recall': 0.3333333333333333, 'eval_runtime': 0.1748, 'eval_samples_per_second': 223.139, 'eval_steps_per_second': 28.608, 'epoch': 2.0}\n",
      "{'loss': 0.9542, 'grad_norm': 5.442663192749023, 'learning_rate': 1e-05, 'epoch': 2.6315789473684212}\n",
      "{'eval_loss': 0.9079520106315613, 'eval_accuracy': 0.6153846153846154, 'eval_f1': 0.4737945492662474, 'eval_precision': 0.6749999999999999, 'eval_recall': 0.5020757020757021, 'eval_runtime': 0.1833, 'eval_samples_per_second': 212.782, 'eval_steps_per_second': 27.28, 'epoch': 3.0}\n",
      "{'eval_loss': 0.8745148777961731, 'eval_accuracy': 0.6153846153846154, 'eval_f1': 0.4769374416433239, 'eval_precision': 0.5682539682539682, 'eval_recall': 0.47081807081807087, 'eval_runtime': 0.1946, 'eval_samples_per_second': 200.434, 'eval_steps_per_second': 25.697, 'epoch': 4.0}\n",
      "{'eval_loss': 0.8417261838912964, 'eval_accuracy': 0.6410256410256411, 'eval_f1': 0.5339912280701754, 'eval_precision': 0.5631234950120398, 'eval_recall': 0.5355311355311355, 'eval_runtime': 0.1802, 'eval_samples_per_second': 216.401, 'eval_steps_per_second': 27.744, 'epoch': 5.0}\n",
      "{'loss': 0.5942, 'grad_norm': 5.6166791915893555, 'learning_rate': 2e-05, 'epoch': 5.2631578947368425}\n",
      "{'eval_loss': 0.9754506349563599, 'eval_accuracy': 0.5897435897435898, 'eval_f1': 0.5296296296296297, 'eval_precision': 0.5409897292250233, 'eval_recall': 0.5448107448107448, 'eval_runtime': 0.1842, 'eval_samples_per_second': 211.678, 'eval_steps_per_second': 27.138, 'epoch': 6.0}\n",
      "{'eval_loss': 1.1657575368881226, 'eval_accuracy': 0.6923076923076923, 'eval_f1': 0.5595238095238095, 'eval_precision': 0.5746031746031747, 'eval_recall': 0.5575091575091575, 'eval_runtime': 0.1991, 'eval_samples_per_second': 195.891, 'eval_steps_per_second': 25.114, 'epoch': 7.0}\n",
      "{'loss': 0.106, 'grad_norm': 0.3602128326892853, 'learning_rate': 1.4594594594594596e-05, 'epoch': 7.894736842105263}\n",
      "{'eval_loss': 1.5805728435516357, 'eval_accuracy': 0.5641025641025641, 'eval_f1': 0.47911609088079676, 'eval_precision': 0.511904761904762, 'eval_recall': 0.4879120879120879, 'eval_runtime': 0.1969, 'eval_samples_per_second': 198.114, 'eval_steps_per_second': 25.399, 'epoch': 8.0}\n",
      "{'eval_loss': 1.512115478515625, 'eval_accuracy': 0.6153846153846154, 'eval_f1': 0.48587781510513867, 'eval_precision': 0.5054945054945055, 'eval_recall': 0.5118437118437119, 'eval_runtime': 0.1988, 'eval_samples_per_second': 196.169, 'eval_steps_per_second': 25.15, 'epoch': 9.0}\n",
      "{'train_runtime': 33.0069, 'train_samples_per_second': 69.076, 'train_steps_per_second': 8.635, 'train_loss': 0.48512293825372615, 'epoch': 9.0}\n",
      "\n",
      "📚 Fold 2/5\n"
     ]
    },
    {
     "name": "stderr",
     "output_type": "stream",
     "text": [
      "Some weights of BertForSequenceClassification were not initialized from the model checkpoint at cahya/bert-base-indonesian-1.5G and are newly initialized: ['classifier.bias', 'classifier.weight']\n",
      "You should probably TRAIN this model on a down-stream task to be able to use it for predictions and inference.\n",
      "c:\\Users\\rayssa\\Documents\\nusantara-character-classification\\.venv\\lib\\site-packages\\transformers\\training_args.py:1545: FutureWarning: `evaluation_strategy` is deprecated and will be removed in version 4.46 of 🤗 Transformers. Use `eval_strategy` instead\n",
      "  warnings.warn(\n",
      "c:\\Users\\rayssa\\Documents\\nusantara-character-classification\\.venv\\lib\\site-packages\\sklearn\\metrics\\_classification.py:1565: UndefinedMetricWarning: Precision is ill-defined and being set to 0.0 in labels with no predicted samples. Use `zero_division` parameter to control this behavior.\n",
      "  _warn_prf(average, modifier, f\"{metric.capitalize()} is\", len(result))\n"
     ]
    },
    {
     "name": "stdout",
     "output_type": "stream",
     "text": [
      "{'eval_loss': 0.9519563913345337, 'eval_accuracy': 0.5526315789473685, 'eval_f1': 0.23728813559322035, 'eval_precision': 0.1842105263157895, 'eval_recall': 0.3333333333333333, 'eval_runtime': 0.1944, 'eval_samples_per_second': 195.428, 'eval_steps_per_second': 25.714, 'epoch': 1.0}\n"
     ]
    },
    {
     "name": "stderr",
     "output_type": "stream",
     "text": [
      "c:\\Users\\rayssa\\Documents\\nusantara-character-classification\\.venv\\lib\\site-packages\\sklearn\\metrics\\_classification.py:1565: UndefinedMetricWarning: Precision is ill-defined and being set to 0.0 in labels with no predicted samples. Use `zero_division` parameter to control this behavior.\n",
      "  _warn_prf(average, modifier, f\"{metric.capitalize()} is\", len(result))\n"
     ]
    },
    {
     "name": "stdout",
     "output_type": "stream",
     "text": [
      "{'eval_loss': 0.9263920783996582, 'eval_accuracy': 0.5526315789473685, 'eval_f1': 0.23728813559322035, 'eval_precision': 0.1842105263157895, 'eval_recall': 0.3333333333333333, 'eval_runtime': 0.1936, 'eval_samples_per_second': 196.236, 'eval_steps_per_second': 25.821, 'epoch': 2.0}\n",
      "{'loss': 1.0329, 'grad_norm': 9.560042381286621, 'learning_rate': 1e-05, 'epoch': 2.5}\n"
     ]
    },
    {
     "name": "stderr",
     "output_type": "stream",
     "text": [
      "c:\\Users\\rayssa\\Documents\\nusantara-character-classification\\.venv\\lib\\site-packages\\sklearn\\metrics\\_classification.py:1565: UndefinedMetricWarning: Precision is ill-defined and being set to 0.0 in labels with no predicted samples. Use `zero_division` parameter to control this behavior.\n",
      "  _warn_prf(average, modifier, f\"{metric.capitalize()} is\", len(result))\n"
     ]
    },
    {
     "name": "stdout",
     "output_type": "stream",
     "text": [
      "{'eval_loss': 0.901319682598114, 'eval_accuracy': 0.6052631578947368, 'eval_f1': 0.38169934640522873, 'eval_precision': 0.37777777777777777, 'eval_recall': 0.41269841269841273, 'eval_runtime': 0.196, 'eval_samples_per_second': 193.916, 'eval_steps_per_second': 25.515, 'epoch': 3.0}\n",
      "{'eval_loss': 0.8459312915802002, 'eval_accuracy': 0.631578947368421, 'eval_f1': 0.5088183421516755, 'eval_precision': 0.7575757575757575, 'eval_recall': 0.5063492063492064, 'eval_runtime': 0.1892, 'eval_samples_per_second': 200.868, 'eval_steps_per_second': 26.43, 'epoch': 4.0}\n",
      "{'loss': 0.682, 'grad_norm': 6.741568088531494, 'learning_rate': 2e-05, 'epoch': 5.0}\n",
      "{'eval_loss': 0.8120551705360413, 'eval_accuracy': 0.6578947368421053, 'eval_f1': 0.5793650793650794, 'eval_precision': 0.5892857142857143, 'eval_recall': 0.6087301587301587, 'eval_runtime': 0.1547, 'eval_samples_per_second': 245.646, 'eval_steps_per_second': 32.322, 'epoch': 5.0}\n",
      "{'eval_loss': 0.8837488293647766, 'eval_accuracy': 0.6842105263157895, 'eval_f1': 0.569328810771919, 'eval_precision': 0.7762237762237763, 'eval_recall': 0.5468253968253968, 'eval_runtime': 0.191, 'eval_samples_per_second': 198.93, 'eval_steps_per_second': 26.175, 'epoch': 6.0}\n",
      "{'eval_loss': 1.091636300086975, 'eval_accuracy': 0.7105263157894737, 'eval_f1': 0.5673469387755102, 'eval_precision': 0.6547619047619048, 'eval_recall': 0.5507936507936507, 'eval_runtime': 0.1882, 'eval_samples_per_second': 201.869, 'eval_steps_per_second': 26.562, 'epoch': 7.0}\n",
      "{'train_runtime': 27.0004, 'train_samples_per_second': 84.999, 'train_steps_per_second': 11.111, 'train_loss': 0.6561957461493356, 'epoch': 7.0}\n",
      "\n",
      "📚 Fold 3/5\n"
     ]
    },
    {
     "name": "stderr",
     "output_type": "stream",
     "text": [
      "Some weights of BertForSequenceClassification were not initialized from the model checkpoint at cahya/bert-base-indonesian-1.5G and are newly initialized: ['classifier.bias', 'classifier.weight']\n",
      "You should probably TRAIN this model on a down-stream task to be able to use it for predictions and inference.\n",
      "c:\\Users\\rayssa\\Documents\\nusantara-character-classification\\.venv\\lib\\site-packages\\transformers\\training_args.py:1545: FutureWarning: `evaluation_strategy` is deprecated and will be removed in version 4.46 of 🤗 Transformers. Use `eval_strategy` instead\n",
      "  warnings.warn(\n",
      "c:\\Users\\rayssa\\Documents\\nusantara-character-classification\\.venv\\lib\\site-packages\\sklearn\\metrics\\_classification.py:1565: UndefinedMetricWarning: Precision is ill-defined and being set to 0.0 in labels with no predicted samples. Use `zero_division` parameter to control this behavior.\n",
      "  _warn_prf(average, modifier, f\"{metric.capitalize()} is\", len(result))\n"
     ]
    },
    {
     "name": "stdout",
     "output_type": "stream",
     "text": [
      "{'eval_loss': 1.0257163047790527, 'eval_accuracy': 0.34210526315789475, 'eval_f1': 0.1935683364254793, 'eval_precision': 0.44144144144144143, 'eval_recall': 0.34920634920634924, 'eval_runtime': 0.1781, 'eval_samples_per_second': 213.356, 'eval_steps_per_second': 28.073, 'epoch': 1.0}\n"
     ]
    },
    {
     "name": "stderr",
     "output_type": "stream",
     "text": [
      "c:\\Users\\rayssa\\Documents\\nusantara-character-classification\\.venv\\lib\\site-packages\\sklearn\\metrics\\_classification.py:1565: UndefinedMetricWarning: Precision is ill-defined and being set to 0.0 in labels with no predicted samples. Use `zero_division` parameter to control this behavior.\n",
      "  _warn_prf(average, modifier, f\"{metric.capitalize()} is\", len(result))\n"
     ]
    },
    {
     "name": "stdout",
     "output_type": "stream",
     "text": [
      "{'eval_loss': 0.9308361411094666, 'eval_accuracy': 0.5526315789473685, 'eval_f1': 0.23728813559322035, 'eval_precision': 0.1842105263157895, 'eval_recall': 0.3333333333333333, 'eval_runtime': 0.1625, 'eval_samples_per_second': 233.802, 'eval_steps_per_second': 30.763, 'epoch': 2.0}\n",
      "{'loss': 1.008, 'grad_norm': 4.706014156341553, 'learning_rate': 1e-05, 'epoch': 2.5}\n"
     ]
    },
    {
     "name": "stderr",
     "output_type": "stream",
     "text": [
      "c:\\Users\\rayssa\\Documents\\nusantara-character-classification\\.venv\\lib\\site-packages\\sklearn\\metrics\\_classification.py:1565: UndefinedMetricWarning: Precision is ill-defined and being set to 0.0 in labels with no predicted samples. Use `zero_division` parameter to control this behavior.\n",
      "  _warn_prf(average, modifier, f\"{metric.capitalize()} is\", len(result))\n"
     ]
    },
    {
     "name": "stdout",
     "output_type": "stream",
     "text": [
      "{'eval_loss': 0.8228441476821899, 'eval_accuracy': 0.5789473684210527, 'eval_f1': 0.326984126984127, 'eval_precision': 0.41269841269841273, 'eval_recall': 0.373015873015873, 'eval_runtime': 0.1675, 'eval_samples_per_second': 226.799, 'eval_steps_per_second': 29.842, 'epoch': 3.0}\n",
      "{'eval_loss': 0.7419528961181641, 'eval_accuracy': 0.631578947368421, 'eval_f1': 0.5113577962791653, 'eval_precision': 0.7156177156177156, 'eval_recall': 0.4912698412698413, 'eval_runtime': 0.1617, 'eval_samples_per_second': 235.045, 'eval_steps_per_second': 30.927, 'epoch': 4.0}\n",
      "{'loss': 0.6173, 'grad_norm': 14.365681648254395, 'learning_rate': 2e-05, 'epoch': 5.0}\n",
      "{'eval_loss': 0.6955307722091675, 'eval_accuracy': 0.7105263157894737, 'eval_f1': 0.7158960202438464, 'eval_precision': 0.7585185185185185, 'eval_recall': 0.6912698412698411, 'eval_runtime': 0.1058, 'eval_samples_per_second': 359.119, 'eval_steps_per_second': 47.253, 'epoch': 5.0}\n",
      "{'eval_loss': 1.1755741834640503, 'eval_accuracy': 0.6052631578947368, 'eval_f1': 0.5527950310559006, 'eval_precision': 0.6812121212121213, 'eval_recall': 0.5142857142857143, 'eval_runtime': 0.1356, 'eval_samples_per_second': 280.19, 'eval_steps_per_second': 36.867, 'epoch': 6.0}\n",
      "{'eval_loss': 1.2774032354354858, 'eval_accuracy': 0.6842105263157895, 'eval_f1': 0.6623847167325428, 'eval_precision': 0.7399999999999999, 'eval_recall': 0.6246031746031746, 'eval_runtime': 0.1407, 'eval_samples_per_second': 270.087, 'eval_steps_per_second': 35.538, 'epoch': 7.0}\n",
      "{'train_runtime': 25.5856, 'train_samples_per_second': 89.699, 'train_steps_per_second': 11.725, 'train_loss': 0.6071934512683324, 'epoch': 7.0}\n",
      "\n",
      "📚 Fold 4/5\n"
     ]
    },
    {
     "name": "stderr",
     "output_type": "stream",
     "text": [
      "Some weights of BertForSequenceClassification were not initialized from the model checkpoint at cahya/bert-base-indonesian-1.5G and are newly initialized: ['classifier.bias', 'classifier.weight']\n",
      "You should probably TRAIN this model on a down-stream task to be able to use it for predictions and inference.\n",
      "c:\\Users\\rayssa\\Documents\\nusantara-character-classification\\.venv\\lib\\site-packages\\transformers\\training_args.py:1545: FutureWarning: `evaluation_strategy` is deprecated and will be removed in version 4.46 of 🤗 Transformers. Use `eval_strategy` instead\n",
      "  warnings.warn(\n",
      "c:\\Users\\rayssa\\Documents\\nusantara-character-classification\\.venv\\lib\\site-packages\\sklearn\\metrics\\_classification.py:1565: UndefinedMetricWarning: Precision is ill-defined and being set to 0.0 in labels with no predicted samples. Use `zero_division` parameter to control this behavior.\n",
      "  _warn_prf(average, modifier, f\"{metric.capitalize()} is\", len(result))\n"
     ]
    },
    {
     "name": "stdout",
     "output_type": "stream",
     "text": [
      "{'eval_loss': 0.9885909557342529, 'eval_accuracy': 0.39473684210526316, 'eval_f1': 0.25354609929078015, 'eval_precision': 0.44761904761904764, 'eval_recall': 0.38095238095238093, 'eval_runtime': 0.1471, 'eval_samples_per_second': 258.337, 'eval_steps_per_second': 33.992, 'epoch': 1.0}\n"
     ]
    },
    {
     "name": "stderr",
     "output_type": "stream",
     "text": [
      "c:\\Users\\rayssa\\Documents\\nusantara-character-classification\\.venv\\lib\\site-packages\\sklearn\\metrics\\_classification.py:1565: UndefinedMetricWarning: Precision is ill-defined and being set to 0.0 in labels with no predicted samples. Use `zero_division` parameter to control this behavior.\n",
      "  _warn_prf(average, modifier, f\"{metric.capitalize()} is\", len(result))\n"
     ]
    },
    {
     "name": "stdout",
     "output_type": "stream",
     "text": [
      "{'eval_loss': 0.9378200173377991, 'eval_accuracy': 0.5526315789473685, 'eval_f1': 0.23728813559322035, 'eval_precision': 0.1842105263157895, 'eval_recall': 0.3333333333333333, 'eval_runtime': 0.1638, 'eval_samples_per_second': 231.979, 'eval_steps_per_second': 30.524, 'epoch': 2.0}\n",
      "{'loss': 1.0325, 'grad_norm': 7.755661487579346, 'learning_rate': 1e-05, 'epoch': 2.5}\n"
     ]
    },
    {
     "name": "stderr",
     "output_type": "stream",
     "text": [
      "c:\\Users\\rayssa\\Documents\\nusantara-character-classification\\.venv\\lib\\site-packages\\sklearn\\metrics\\_classification.py:1565: UndefinedMetricWarning: Precision is ill-defined and being set to 0.0 in labels with no predicted samples. Use `zero_division` parameter to control this behavior.\n",
      "  _warn_prf(average, modifier, f\"{metric.capitalize()} is\", len(result))\n"
     ]
    },
    {
     "name": "stdout",
     "output_type": "stream",
     "text": [
      "{'eval_loss': 0.9031025767326355, 'eval_accuracy': 0.631578947368421, 'eval_f1': 0.3833333333333333, 'eval_precision': 0.5333333333333333, 'eval_recall': 0.4166666666666667, 'eval_runtime': 0.148, 'eval_samples_per_second': 256.79, 'eval_steps_per_second': 33.788, 'epoch': 3.0}\n",
      "{'eval_loss': 0.9276201128959656, 'eval_accuracy': 0.5263157894736842, 'eval_f1': 0.4096618357487922, 'eval_precision': 0.5022222222222222, 'eval_recall': 0.44285714285714284, 'eval_runtime': 0.1448, 'eval_samples_per_second': 262.45, 'eval_steps_per_second': 34.533, 'epoch': 4.0}\n",
      "{'loss': 0.6688, 'grad_norm': 11.439550399780273, 'learning_rate': 2e-05, 'epoch': 5.0}\n",
      "{'eval_loss': 0.9557496905326843, 'eval_accuracy': 0.6578947368421053, 'eval_f1': 0.4497635933806146, 'eval_precision': 0.4252136752136752, 'eval_recall': 0.4801587301587302, 'eval_runtime': 0.127, 'eval_samples_per_second': 299.108, 'eval_steps_per_second': 39.356, 'epoch': 5.0}\n"
     ]
    },
    {
     "name": "stderr",
     "output_type": "stream",
     "text": [
      "c:\\Users\\rayssa\\Documents\\nusantara-character-classification\\.venv\\lib\\site-packages\\sklearn\\metrics\\_classification.py:1565: UndefinedMetricWarning: Precision is ill-defined and being set to 0.0 in labels with no predicted samples. Use `zero_division` parameter to control this behavior.\n",
      "  _warn_prf(average, modifier, f\"{metric.capitalize()} is\", len(result))\n"
     ]
    },
    {
     "name": "stdout",
     "output_type": "stream",
     "text": [
      "{'eval_loss': 1.0841188430786133, 'eval_accuracy': 0.6052631578947368, 'eval_f1': 0.49873737373737376, 'eval_precision': 0.7098765432098766, 'eval_recall': 0.47539682539682543, 'eval_runtime': 0.1596, 'eval_samples_per_second': 238.038, 'eval_steps_per_second': 31.321, 'epoch': 6.0}\n",
      "{'eval_loss': 1.3403056859970093, 'eval_accuracy': 0.6578947368421053, 'eval_f1': 0.5519323671497585, 'eval_precision': 0.7544444444444446, 'eval_recall': 0.530952380952381, 'eval_runtime': 0.154, 'eval_samples_per_second': 246.81, 'eval_steps_per_second': 32.475, 'epoch': 7.0}\n",
      "{'loss': 0.1154, 'grad_norm': 0.6952885985374451, 'learning_rate': 1.5000000000000002e-05, 'epoch': 7.5}\n",
      "{'eval_loss': 1.4969476461410522, 'eval_accuracy': 0.6052631578947368, 'eval_f1': 0.5096618357487922, 'eval_precision': 0.7133333333333334, 'eval_recall': 0.4873015873015873, 'eval_runtime': 0.1603, 'eval_samples_per_second': 237.046, 'eval_steps_per_second': 31.19, 'epoch': 8.0}\n",
      "{'eval_loss': 1.7207326889038086, 'eval_accuracy': 0.6578947368421053, 'eval_f1': 0.5429292929292929, 'eval_precision': 0.7555555555555555, 'eval_recall': 0.5190476190476191, 'eval_runtime': 0.161, 'eval_samples_per_second': 236.015, 'eval_steps_per_second': 31.055, 'epoch': 9.0}\n",
      "{'train_runtime': 33.102, 'train_samples_per_second': 69.331, 'train_steps_per_second': 9.063, 'train_loss': 0.508916030658616, 'epoch': 9.0}\n",
      "\n",
      "📚 Fold 5/5\n"
     ]
    },
    {
     "name": "stderr",
     "output_type": "stream",
     "text": [
      "Some weights of BertForSequenceClassification were not initialized from the model checkpoint at cahya/bert-base-indonesian-1.5G and are newly initialized: ['classifier.bias', 'classifier.weight']\n",
      "You should probably TRAIN this model on a down-stream task to be able to use it for predictions and inference.\n",
      "c:\\Users\\rayssa\\Documents\\nusantara-character-classification\\.venv\\lib\\site-packages\\transformers\\training_args.py:1545: FutureWarning: `evaluation_strategy` is deprecated and will be removed in version 4.46 of 🤗 Transformers. Use `eval_strategy` instead\n",
      "  warnings.warn(\n",
      "c:\\Users\\rayssa\\Documents\\nusantara-character-classification\\.venv\\lib\\site-packages\\sklearn\\metrics\\_classification.py:1565: UndefinedMetricWarning: Precision is ill-defined and being set to 0.0 in labels with no predicted samples. Use `zero_division` parameter to control this behavior.\n",
      "  _warn_prf(average, modifier, f\"{metric.capitalize()} is\", len(result))\n"
     ]
    },
    {
     "name": "stdout",
     "output_type": "stream",
     "text": [
      "{'eval_loss': 1.01413094997406, 'eval_accuracy': 0.5526315789473685, 'eval_f1': 0.28153717627401836, 'eval_precision': 0.5135135135135135, 'eval_recall': 0.358974358974359, 'eval_runtime': 0.1525, 'eval_samples_per_second': 249.2, 'eval_steps_per_second': 32.789, 'epoch': 1.0}\n"
     ]
    },
    {
     "name": "stderr",
     "output_type": "stream",
     "text": [
      "c:\\Users\\rayssa\\Documents\\nusantara-character-classification\\.venv\\lib\\site-packages\\sklearn\\metrics\\_classification.py:1565: UndefinedMetricWarning: Precision is ill-defined and being set to 0.0 in labels with no predicted samples. Use `zero_division` parameter to control this behavior.\n",
      "  _warn_prf(average, modifier, f\"{metric.capitalize()} is\", len(result))\n"
     ]
    },
    {
     "name": "stdout",
     "output_type": "stream",
     "text": [
      "{'eval_loss': 1.0099713802337646, 'eval_accuracy': 0.5263157894736842, 'eval_f1': 0.2298850574712644, 'eval_precision': 0.17543859649122806, 'eval_recall': 0.3333333333333333, 'eval_runtime': 0.1588, 'eval_samples_per_second': 239.272, 'eval_steps_per_second': 31.483, 'epoch': 2.0}\n",
      "{'loss': 1.016, 'grad_norm': 6.842314720153809, 'learning_rate': 1e-05, 'epoch': 2.5}\n"
     ]
    },
    {
     "name": "stderr",
     "output_type": "stream",
     "text": [
      "c:\\Users\\rayssa\\Documents\\nusantara-character-classification\\.venv\\lib\\site-packages\\sklearn\\metrics\\_classification.py:1565: UndefinedMetricWarning: Precision is ill-defined and being set to 0.0 in labels with no predicted samples. Use `zero_division` parameter to control this behavior.\n",
      "  _warn_prf(average, modifier, f\"{metric.capitalize()} is\", len(result))\n"
     ]
    },
    {
     "name": "stdout",
     "output_type": "stream",
     "text": [
      "{'eval_loss': 0.987559974193573, 'eval_accuracy': 0.5263157894736842, 'eval_f1': 0.33889919604205315, 'eval_precision': 0.33205619412515963, 'eval_recall': 0.36923076923076925, 'eval_runtime': 0.1618, 'eval_samples_per_second': 234.842, 'eval_steps_per_second': 30.9, 'epoch': 3.0}\n",
      "{'eval_loss': 0.9942078590393066, 'eval_accuracy': 0.631578947368421, 'eval_f1': 0.5396825396825397, 'eval_precision': 0.7383838383838383, 'eval_recall': 0.5217948717948718, 'eval_runtime': 0.1611, 'eval_samples_per_second': 235.821, 'eval_steps_per_second': 31.029, 'epoch': 4.0}\n",
      "{'loss': 0.586, 'grad_norm': 35.56195831298828, 'learning_rate': 2e-05, 'epoch': 5.0}\n",
      "{'eval_loss': 1.0349252223968506, 'eval_accuracy': 0.6052631578947368, 'eval_f1': 0.5123321123321123, 'eval_precision': 0.5691434468524252, 'eval_recall': 0.5051282051282051, 'eval_runtime': 0.1178, 'eval_samples_per_second': 322.717, 'eval_steps_per_second': 42.463, 'epoch': 5.0}\n",
      "{'eval_loss': 1.27482271194458, 'eval_accuracy': 0.6578947368421053, 'eval_f1': 0.5971787923007436, 'eval_precision': 0.6098901098901099, 'eval_recall': 0.5884615384615385, 'eval_runtime': 0.1485, 'eval_samples_per_second': 255.928, 'eval_steps_per_second': 33.675, 'epoch': 6.0}\n",
      "{'eval_loss': 1.870710849761963, 'eval_accuracy': 0.5789473684210527, 'eval_f1': 0.4139393939393939, 'eval_precision': 0.40277777777777785, 'eval_recall': 0.42948717948717946, 'eval_runtime': 0.1607, 'eval_samples_per_second': 236.533, 'eval_steps_per_second': 31.123, 'epoch': 7.0}\n",
      "{'loss': 0.0834, 'grad_norm': 6.349879264831543, 'learning_rate': 1.5000000000000002e-05, 'epoch': 7.5}\n",
      "{'eval_loss': 2.2876384258270264, 'eval_accuracy': 0.5526315789473685, 'eval_f1': 0.4582491582491583, 'eval_precision': 0.46730158730158733, 'eval_recall': 0.476923076923077, 'eval_runtime': 0.1587, 'eval_samples_per_second': 239.457, 'eval_steps_per_second': 31.508, 'epoch': 8.0}\n",
      "{'train_runtime': 29.3803, 'train_samples_per_second': 78.114, 'train_steps_per_second': 10.211, 'train_loss': 0.5269576061284169, 'epoch': 8.0}\n",
      "\n",
      "✅ CahyaBERT V1 Char training complete. Results saved to: results/V1_CahyaBERT_Char\n",
      "         Fold  Precision    Recall  F1-score  Accuracy\n",
      "0         1.0   0.574603  0.557509  0.559524  0.692308\n",
      "1         2.0   0.589286  0.608730  0.579365  0.657895\n",
      "2         3.0   0.758519  0.691270  0.715896  0.710526\n",
      "3         4.0   0.754444  0.530952  0.551932  0.657895\n",
      "4         5.0   0.609890  0.588462  0.597179  0.657895\n",
      "Average   3.0   0.657348  0.595385  0.600779  0.675304\n"
     ]
    }
   ],
   "source": [
    "import os\n",
    "import pandas as pd\n",
    "import torch\n",
    "import numpy as np\n",
    "import random\n",
    "from torch.utils.data import Dataset\n",
    "from transformers import AutoTokenizer, AutoModelForSequenceClassification, Trainer, TrainingArguments, EarlyStoppingCallback\n",
    "from sklearn.model_selection import StratifiedKFold\n",
    "from sklearn.metrics import classification_report, confusion_matrix, accuracy_score, precision_recall_fscore_support\n",
    "from sklearn.preprocessing import LabelEncoder\n",
    "import matplotlib.pyplot as plt\n",
    "import seaborn as sns\n",
    "\n",
    "# === Configuration ===\n",
    "FOLDS = 5\n",
    "EPOCHS = 15\n",
    "BATCH_SIZE = 8\n",
    "MODEL_NAME = \"cahya/bert-base-indonesian-1.5G\"\n",
    "OUTPUT_DIR = \"results/V1_CahyaBERT_Char\"\n",
    "SEED = 42\n",
    "\n",
    "os.makedirs(OUTPUT_DIR, exist_ok=True)\n",
    "\n",
    "# === Seed setup ===\n",
    "random.seed(SEED)\n",
    "np.random.seed(SEED)\n",
    "torch.manual_seed(SEED)\n",
    "torch.cuda.manual_seed_all(SEED)\n",
    "\n",
    "# === Load dataset ===\n",
    "df = pd.read_csv(\"character_level.csv\")\n",
    "df[\"merged_text\"] = df[\"merged_text\"].fillna(\"\")\n",
    "\n",
    "# Encode labels\n",
    "label_encoder = LabelEncoder()\n",
    "df[\"label\"] = label_encoder.fit_transform(df[\"type\"])\n",
    "texts = df[\"merged_text\"].tolist()\n",
    "labels = df[\"label\"].tolist()\n",
    "\n",
    "# === Compute class weights ===\n",
    "class_counts = np.bincount(labels)\n",
    "class_weights = len(labels) / (len(class_counts) * class_counts)\n",
    "class_weights_tensor = torch.tensor(class_weights, dtype=torch.float).to(torch.device(\"cuda\" if torch.cuda.is_available() else \"cpu\"))\n",
    "\n",
    "# === Dataset class ===\n",
    "class CharacterDataset(Dataset):\n",
    "    def __init__(self, texts, labels, tokenizer, max_len=128):\n",
    "        self.encodings = tokenizer(texts, truncation=True, padding=True, max_length=max_len)\n",
    "        self.labels = labels\n",
    "\n",
    "    def __getitem__(self, idx):\n",
    "        item = {key: torch.tensor(val[idx]) for key, val in self.encodings.items()}\n",
    "        item[\"labels\"] = torch.tensor(self.labels[idx])\n",
    "        return item\n",
    "\n",
    "    def __len__(self):\n",
    "        return len(self.labels)\n",
    "\n",
    "# === Metrics ===\n",
    "def compute_metrics(pred):\n",
    "    labels = pred.label_ids\n",
    "    preds = pred.predictions.argmax(-1)\n",
    "    precision, recall, f1, _ = precision_recall_fscore_support(labels, preds, average='macro')\n",
    "    acc = accuracy_score(labels, preds)\n",
    "    return {'accuracy': acc, 'f1': f1, 'precision': precision, 'recall': recall}\n",
    "\n",
    "# === Tokenizer ===\n",
    "tokenizer = AutoTokenizer.from_pretrained(MODEL_NAME)\n",
    "\n",
    "# === K-Fold setup ===\n",
    "skf = StratifiedKFold(n_splits=FOLDS, shuffle=True, random_state=SEED)\n",
    "fold_metrics = []\n",
    "cumulative_cm = np.zeros((3, 3), dtype=int)\n",
    "\n",
    "for fold, (train_idx, val_idx) in enumerate(skf.split(texts, labels)):\n",
    "    print(f\"\\n\\U0001F4DA Fold {fold + 1}/{FOLDS}\")\n",
    "\n",
    "    train_texts = [texts[i] for i in train_idx]\n",
    "    val_texts = [texts[i] for i in val_idx]\n",
    "    train_labels = [labels[i] for i in train_idx]\n",
    "    val_labels = [labels[i] for i in val_idx]\n",
    "\n",
    "    train_dataset = CharacterDataset(train_texts, train_labels, tokenizer)\n",
    "    val_dataset = CharacterDataset(val_texts, val_labels, tokenizer)\n",
    "\n",
    "    model = AutoModelForSequenceClassification.from_pretrained(MODEL_NAME, num_labels=3)\n",
    "    model.classifier.weight.data = model.classifier.weight.data.to(class_weights_tensor.device) * class_weights_tensor.unsqueeze(1)\n",
    "\n",
    "    fold_dir = os.path.join(OUTPUT_DIR, f\"fold_{fold+1}\")\n",
    "    os.makedirs(fold_dir, exist_ok=True)\n",
    "\n",
    "    training_args = TrainingArguments(\n",
    "        output_dir=fold_dir,\n",
    "        num_train_epochs=EPOCHS,\n",
    "        per_device_train_batch_size=BATCH_SIZE,\n",
    "        per_device_eval_batch_size=BATCH_SIZE,\n",
    "        logging_dir=os.path.join(fold_dir, \"logs\"),\n",
    "        evaluation_strategy=\"epoch\",\n",
    "        save_strategy=\"epoch\",\n",
    "        load_best_model_at_end=True,\n",
    "        metric_for_best_model=\"f1\",\n",
    "        greater_is_better=True,\n",
    "        logging_steps=50,\n",
    "        disable_tqdm=True,\n",
    "        learning_rate=2e-5,\n",
    "        warmup_steps=100,\n",
    "        weight_decay=0.01,\n",
    "        seed=SEED\n",
    "    )\n",
    "\n",
    "    trainer = Trainer(\n",
    "        model=model,\n",
    "        args=training_args,\n",
    "        train_dataset=train_dataset,\n",
    "        eval_dataset=val_dataset,\n",
    "        compute_metrics=compute_metrics,\n",
    "        callbacks=[EarlyStoppingCallback(early_stopping_patience=2)]\n",
    "    )\n",
    "\n",
    "    trainer.train()\n",
    "\n",
    "    # Evaluate\n",
    "    predictions = trainer.predict(val_dataset)\n",
    "    preds = torch.argmax(torch.tensor(predictions.predictions), dim=1).numpy()\n",
    "    true_labels = np.array(val_labels)\n",
    "    pred_labels = preds\n",
    "\n",
    "    decoded_true = label_encoder.inverse_transform(true_labels)\n",
    "    decoded_pred = label_encoder.inverse_transform(pred_labels)\n",
    "\n",
    "    report = classification_report(decoded_true, decoded_pred, output_dict=True, digits=4)\n",
    "    report_df = pd.DataFrame(report).transpose()\n",
    "    report_df.to_csv(os.path.join(fold_dir, \"classification_report.csv\"))\n",
    "\n",
    "    cm = confusion_matrix(decoded_true, decoded_pred, labels=label_encoder.classes_)\n",
    "    cm_df = pd.DataFrame(cm, index=label_encoder.classes_, columns=label_encoder.classes_)\n",
    "    cumulative_cm += cm\n",
    "\n",
    "    plt.figure(figsize=(6, 5))\n",
    "    sns.heatmap(cm_df, annot=True, fmt='d', cmap='Blues')\n",
    "    plt.title(f\"Confusion Matrix - Fold {fold + 1} (CahyaBERT V1 Char)\")\n",
    "    plt.xlabel(\"Predicted\")\n",
    "    plt.ylabel(\"Actual\")\n",
    "    plt.tight_layout()\n",
    "    plt.savefig(os.path.join(fold_dir, \"confusion_matrix.png\"))\n",
    "    plt.close()\n",
    "\n",
    "    macro = report[\"macro avg\"]\n",
    "    fold_metrics.append({\n",
    "        \"Fold\": fold + 1,\n",
    "        \"Precision\": macro[\"precision\"],\n",
    "        \"Recall\": macro[\"recall\"],\n",
    "        \"F1-score\": macro[\"f1-score\"],\n",
    "        \"Accuracy\": accuracy_score(decoded_true, decoded_pred)\n",
    "    })\n",
    "\n",
    "# === Save summary and average\n",
    "summary_df = pd.DataFrame(fold_metrics)\n",
    "summary_df.loc[\"Average\"] = summary_df.mean(numeric_only=True)\n",
    "summary_df.to_csv(os.path.join(OUTPUT_DIR, \"summary.csv\"), index=False)\n",
    "\n",
    "avg_cm = cumulative_cm // FOLDS\n",
    "avg_cm_df = pd.DataFrame(avg_cm, index=label_encoder.classes_, columns=label_encoder.classes_)\n",
    "plt.figure(figsize=(6, 5))\n",
    "sns.heatmap(avg_cm_df, annot=True, fmt='d', cmap='Purples')\n",
    "plt.title(\"Average Confusion Matrix (CahyaBERT V1 Char)\")\n",
    "plt.xlabel(\"Predicted\")\n",
    "plt.ylabel(\"Actual\")\n",
    "plt.tight_layout()\n",
    "plt.savefig(os.path.join(OUTPUT_DIR, \"average_confusion_matrix.png\"))\n",
    "plt.close()\n",
    "\n",
    "print(\"\\n✅ CahyaBERT V1 Char training complete. Results saved to:\", OUTPUT_DIR)\n",
    "print(summary_df)\n"
   ]
  },
  {
   "cell_type": "code",
   "execution_count": 5,
   "id": "1953f916",
   "metadata": {},
   "outputs": [
    {
     "name": "stdout",
     "output_type": "stream",
     "text": [
      "✅ Deleted 9 checkpoint folders in: results/V1_CahyaBERT_Char\\fold_1\n",
      "✅ Deleted 7 checkpoint folders in: results/V1_CahyaBERT_Char\\fold_2\n",
      "✅ Deleted 7 checkpoint folders in: results/V1_CahyaBERT_Char\\fold_3\n",
      "✅ Deleted 9 checkpoint folders in: results/V1_CahyaBERT_Char\\fold_4\n",
      "✅ Deleted 8 checkpoint folders in: results/V1_CahyaBERT_Char\\fold_5\n"
     ]
    }
   ],
   "source": [
    "import os\n",
    "import shutil\n",
    "\n",
    "base_path = \"results/V1_CahyaBERT_Char\"\n",
    "\n",
    "# Loop through each fold\n",
    "for i in range(1, 6):\n",
    "    fold_path = os.path.join(base_path, f\"fold_{i}\")\n",
    "    deleted = 0\n",
    "\n",
    "    for item in os.listdir(fold_path):\n",
    "        item_path = os.path.join(fold_path, item)\n",
    "        if os.path.isdir(item_path) and item.startswith(\"checkpoint\"):\n",
    "            try:\n",
    "                shutil.rmtree(item_path)\n",
    "                deleted += 1\n",
    "            except Exception as e:\n",
    "                print(f\"❌ Failed to delete {item_path}: {e}\")\n",
    "\n",
    "    print(f\"✅ Deleted {deleted} checkpoint folders in: {fold_path}\")\n"
   ]
  },
  {
   "cell_type": "markdown",
   "id": "1f87d663",
   "metadata": {},
   "source": [
    "## V1: IndoLEM merge text feature only"
   ]
  },
  {
   "cell_type": "code",
   "execution_count": 6,
   "id": "832c9c8c",
   "metadata": {},
   "outputs": [
    {
     "name": "stdout",
     "output_type": "stream",
     "text": [
      "\n",
      "📚 Fold 1/5\n"
     ]
    },
    {
     "name": "stderr",
     "output_type": "stream",
     "text": [
      "Some weights of BertForSequenceClassification were not initialized from the model checkpoint at indolem/indobert-base-uncased and are newly initialized: ['classifier.bias', 'classifier.weight']\n",
      "You should probably TRAIN this model on a down-stream task to be able to use it for predictions and inference.\n",
      "c:\\Users\\rayssa\\Documents\\nusantara-character-classification\\.venv\\lib\\site-packages\\transformers\\training_args.py:1545: FutureWarning: `evaluation_strategy` is deprecated and will be removed in version 4.46 of 🤗 Transformers. Use `eval_strategy` instead\n",
      "  warnings.warn(\n",
      "c:\\Users\\rayssa\\Documents\\nusantara-character-classification\\.venv\\lib\\site-packages\\sklearn\\metrics\\_classification.py:1565: UndefinedMetricWarning: Precision is ill-defined and being set to 0.0 in labels with no predicted samples. Use `zero_division` parameter to control this behavior.\n",
      "  _warn_prf(average, modifier, f\"{metric.capitalize()} is\", len(result))\n"
     ]
    },
    {
     "name": "stdout",
     "output_type": "stream",
     "text": [
      "{'eval_loss': 1.0084253549575806, 'eval_accuracy': 0.38461538461538464, 'eval_f1': 0.25862068965517243, 'eval_precision': 0.2849462365591398, 'eval_recall': 0.3455433455433455, 'eval_runtime': 0.1853, 'eval_samples_per_second': 210.475, 'eval_steps_per_second': 26.984, 'epoch': 1.0}\n"
     ]
    },
    {
     "name": "stderr",
     "output_type": "stream",
     "text": [
      "c:\\Users\\rayssa\\Documents\\nusantara-character-classification\\.venv\\lib\\site-packages\\sklearn\\metrics\\_classification.py:1565: UndefinedMetricWarning: Precision is ill-defined and being set to 0.0 in labels with no predicted samples. Use `zero_division` parameter to control this behavior.\n",
      "  _warn_prf(average, modifier, f\"{metric.capitalize()} is\", len(result))\n"
     ]
    },
    {
     "name": "stdout",
     "output_type": "stream",
     "text": [
      "{'eval_loss': 0.9888337254524231, 'eval_accuracy': 0.5384615384615384, 'eval_f1': 0.2333333333333333, 'eval_precision': 0.1794871794871795, 'eval_recall': 0.3333333333333333, 'eval_runtime': 0.2026, 'eval_samples_per_second': 192.505, 'eval_steps_per_second': 24.68, 'epoch': 2.0}\n",
      "{'loss': 1.0218, 'grad_norm': 13.019701957702637, 'learning_rate': 1e-05, 'epoch': 2.6315789473684212}\n"
     ]
    },
    {
     "name": "stderr",
     "output_type": "stream",
     "text": [
      "c:\\Users\\rayssa\\Documents\\nusantara-character-classification\\.venv\\lib\\site-packages\\sklearn\\metrics\\_classification.py:1565: UndefinedMetricWarning: Precision is ill-defined and being set to 0.0 in labels with no predicted samples. Use `zero_division` parameter to control this behavior.\n",
      "  _warn_prf(average, modifier, f\"{metric.capitalize()} is\", len(result))\n"
     ]
    },
    {
     "name": "stdout",
     "output_type": "stream",
     "text": [
      "{'eval_loss': 0.9416763186454773, 'eval_accuracy': 0.5384615384615384, 'eval_f1': 0.2333333333333333, 'eval_precision': 0.1794871794871795, 'eval_recall': 0.3333333333333333, 'eval_runtime': 0.1997, 'eval_samples_per_second': 195.315, 'eval_steps_per_second': 25.04, 'epoch': 3.0}\n",
      "{'train_runtime': 11.2954, 'train_samples_per_second': 201.852, 'train_steps_per_second': 25.232, 'train_loss': 1.009564157117877, 'epoch': 3.0}\n"
     ]
    },
    {
     "name": "stderr",
     "output_type": "stream",
     "text": [
      "c:\\Users\\rayssa\\Documents\\nusantara-character-classification\\.venv\\lib\\site-packages\\sklearn\\metrics\\_classification.py:1565: UndefinedMetricWarning: Precision is ill-defined and being set to 0.0 in labels with no predicted samples. Use `zero_division` parameter to control this behavior.\n",
      "  _warn_prf(average, modifier, f\"{metric.capitalize()} is\", len(result))\n",
      "c:\\Users\\rayssa\\Documents\\nusantara-character-classification\\.venv\\lib\\site-packages\\sklearn\\metrics\\_classification.py:1565: UndefinedMetricWarning: Precision is ill-defined and being set to 0.0 in labels with no predicted samples. Use `zero_division` parameter to control this behavior.\n",
      "  _warn_prf(average, modifier, f\"{metric.capitalize()} is\", len(result))\n",
      "c:\\Users\\rayssa\\Documents\\nusantara-character-classification\\.venv\\lib\\site-packages\\sklearn\\metrics\\_classification.py:1565: UndefinedMetricWarning: Precision is ill-defined and being set to 0.0 in labels with no predicted samples. Use `zero_division` parameter to control this behavior.\n",
      "  _warn_prf(average, modifier, f\"{metric.capitalize()} is\", len(result))\n",
      "c:\\Users\\rayssa\\Documents\\nusantara-character-classification\\.venv\\lib\\site-packages\\sklearn\\metrics\\_classification.py:1565: UndefinedMetricWarning: Precision is ill-defined and being set to 0.0 in labels with no predicted samples. Use `zero_division` parameter to control this behavior.\n",
      "  _warn_prf(average, modifier, f\"{metric.capitalize()} is\", len(result))\n"
     ]
    },
    {
     "name": "stdout",
     "output_type": "stream",
     "text": [
      "\n",
      "📚 Fold 2/5\n"
     ]
    },
    {
     "name": "stderr",
     "output_type": "stream",
     "text": [
      "Some weights of BertForSequenceClassification were not initialized from the model checkpoint at indolem/indobert-base-uncased and are newly initialized: ['classifier.bias', 'classifier.weight']\n",
      "You should probably TRAIN this model on a down-stream task to be able to use it for predictions and inference.\n",
      "c:\\Users\\rayssa\\Documents\\nusantara-character-classification\\.venv\\lib\\site-packages\\transformers\\training_args.py:1545: FutureWarning: `evaluation_strategy` is deprecated and will be removed in version 4.46 of 🤗 Transformers. Use `eval_strategy` instead\n",
      "  warnings.warn(\n",
      "c:\\Users\\rayssa\\Documents\\nusantara-character-classification\\.venv\\lib\\site-packages\\sklearn\\metrics\\_classification.py:1565: UndefinedMetricWarning: Precision is ill-defined and being set to 0.0 in labels with no predicted samples. Use `zero_division` parameter to control this behavior.\n",
      "  _warn_prf(average, modifier, f\"{metric.capitalize()} is\", len(result))\n"
     ]
    },
    {
     "name": "stdout",
     "output_type": "stream",
     "text": [
      "{'eval_loss': 0.9678980112075806, 'eval_accuracy': 0.42105263157894735, 'eval_f1': 0.20512820512820515, 'eval_precision': 0.17204301075268816, 'eval_recall': 0.25396825396825395, 'eval_runtime': 0.1932, 'eval_samples_per_second': 196.72, 'eval_steps_per_second': 25.884, 'epoch': 1.0}\n"
     ]
    },
    {
     "name": "stderr",
     "output_type": "stream",
     "text": [
      "c:\\Users\\rayssa\\Documents\\nusantara-character-classification\\.venv\\lib\\site-packages\\sklearn\\metrics\\_classification.py:1565: UndefinedMetricWarning: Precision is ill-defined and being set to 0.0 in labels with no predicted samples. Use `zero_division` parameter to control this behavior.\n",
      "  _warn_prf(average, modifier, f\"{metric.capitalize()} is\", len(result))\n"
     ]
    },
    {
     "name": "stdout",
     "output_type": "stream",
     "text": [
      "{'eval_loss': 0.9309274554252625, 'eval_accuracy': 0.5526315789473685, 'eval_f1': 0.23728813559322035, 'eval_precision': 0.1842105263157895, 'eval_recall': 0.3333333333333333, 'eval_runtime': 0.1911, 'eval_samples_per_second': 198.84, 'eval_steps_per_second': 26.163, 'epoch': 2.0}\n",
      "{'loss': 1.0102, 'grad_norm': 12.650572776794434, 'learning_rate': 1e-05, 'epoch': 2.5}\n"
     ]
    },
    {
     "name": "stderr",
     "output_type": "stream",
     "text": [
      "c:\\Users\\rayssa\\Documents\\nusantara-character-classification\\.venv\\lib\\site-packages\\sklearn\\metrics\\_classification.py:1565: UndefinedMetricWarning: Precision is ill-defined and being set to 0.0 in labels with no predicted samples. Use `zero_division` parameter to control this behavior.\n",
      "  _warn_prf(average, modifier, f\"{metric.capitalize()} is\", len(result))\n"
     ]
    },
    {
     "name": "stdout",
     "output_type": "stream",
     "text": [
      "{'eval_loss': 0.9218710064888, 'eval_accuracy': 0.5526315789473685, 'eval_f1': 0.3525046382189239, 'eval_precision': 0.3357142857142857, 'eval_recall': 0.38095238095238093, 'eval_runtime': 0.1756, 'eval_samples_per_second': 216.461, 'eval_steps_per_second': 28.482, 'epoch': 3.0}\n",
      "{'eval_loss': 0.8703567385673523, 'eval_accuracy': 0.6052631578947368, 'eval_f1': 0.4080071974808817, 'eval_precision': 0.8611111111111112, 'eval_recall': 0.42777777777777776, 'eval_runtime': 0.152, 'eval_samples_per_second': 250.07, 'eval_steps_per_second': 32.904, 'epoch': 4.0}\n",
      "{'loss': 0.831, 'grad_norm': 59.717041015625, 'learning_rate': 2e-05, 'epoch': 5.0}\n",
      "{'eval_loss': 0.8924054503440857, 'eval_accuracy': 0.5789473684210527, 'eval_f1': 0.4816423886191328, 'eval_precision': 0.5367965367965367, 'eval_recall': 0.4714285714285715, 'eval_runtime': 0.141, 'eval_samples_per_second': 269.437, 'eval_steps_per_second': 35.452, 'epoch': 5.0}\n",
      "{'eval_loss': 0.9542252421379089, 'eval_accuracy': 0.6052631578947368, 'eval_f1': 0.48788799852629644, 'eval_precision': 0.5512820512820512, 'eval_recall': 0.47539682539682543, 'eval_runtime': 0.1591, 'eval_samples_per_second': 238.907, 'eval_steps_per_second': 31.435, 'epoch': 6.0}\n",
      "{'eval_loss': 0.8750685453414917, 'eval_accuracy': 0.7105263157894737, 'eval_f1': 0.5788982259570495, 'eval_precision': 0.7222222222222222, 'eval_recall': 0.5507936507936507, 'eval_runtime': 0.1791, 'eval_samples_per_second': 212.145, 'eval_steps_per_second': 27.914, 'epoch': 7.0}\n",
      "{'loss': 0.506, 'grad_norm': 20.70832061767578, 'learning_rate': 1.5000000000000002e-05, 'epoch': 7.5}\n",
      "{'eval_loss': 0.9651744961738586, 'eval_accuracy': 0.6578947368421053, 'eval_f1': 0.5403433035255422, 'eval_precision': 0.7459207459207459, 'eval_recall': 0.5190476190476191, 'eval_runtime': 0.1931, 'eval_samples_per_second': 196.786, 'eval_steps_per_second': 25.893, 'epoch': 8.0}\n",
      "{'eval_loss': 0.9053241610527039, 'eval_accuracy': 0.5789473684210527, 'eval_f1': 0.5427350427350427, 'eval_precision': 0.5873015873015873, 'eval_recall': 0.5222222222222223, 'eval_runtime': 0.1701, 'eval_samples_per_second': 223.429, 'eval_steps_per_second': 29.399, 'epoch': 9.0}\n",
      "{'train_runtime': 33.3706, 'train_samples_per_second': 68.773, 'train_steps_per_second': 8.99, 'train_loss': 0.7049940374162462, 'epoch': 9.0}\n",
      "\n",
      "📚 Fold 3/5\n"
     ]
    },
    {
     "name": "stderr",
     "output_type": "stream",
     "text": [
      "Some weights of BertForSequenceClassification were not initialized from the model checkpoint at indolem/indobert-base-uncased and are newly initialized: ['classifier.bias', 'classifier.weight']\n",
      "You should probably TRAIN this model on a down-stream task to be able to use it for predictions and inference.\n",
      "c:\\Users\\rayssa\\Documents\\nusantara-character-classification\\.venv\\lib\\site-packages\\transformers\\training_args.py:1545: FutureWarning: `evaluation_strategy` is deprecated and will be removed in version 4.46 of 🤗 Transformers. Use `eval_strategy` instead\n",
      "  warnings.warn(\n",
      "c:\\Users\\rayssa\\Documents\\nusantara-character-classification\\.venv\\lib\\site-packages\\sklearn\\metrics\\_classification.py:1565: UndefinedMetricWarning: Precision is ill-defined and being set to 0.0 in labels with no predicted samples. Use `zero_division` parameter to control this behavior.\n",
      "  _warn_prf(average, modifier, f\"{metric.capitalize()} is\", len(result))\n"
     ]
    },
    {
     "name": "stdout",
     "output_type": "stream",
     "text": [
      "{'eval_loss': 0.9547747373580933, 'eval_accuracy': 0.5526315789473685, 'eval_f1': 0.3536507936507937, 'eval_precision': 0.3435504469987228, 'eval_recall': 0.38095238095238093, 'eval_runtime': 0.1737, 'eval_samples_per_second': 218.743, 'eval_steps_per_second': 28.782, 'epoch': 1.0}\n"
     ]
    },
    {
     "name": "stderr",
     "output_type": "stream",
     "text": [
      "c:\\Users\\rayssa\\Documents\\nusantara-character-classification\\.venv\\lib\\site-packages\\sklearn\\metrics\\_classification.py:1565: UndefinedMetricWarning: Precision is ill-defined and being set to 0.0 in labels with no predicted samples. Use `zero_division` parameter to control this behavior.\n",
      "  _warn_prf(average, modifier, f\"{metric.capitalize()} is\", len(result))\n"
     ]
    },
    {
     "name": "stdout",
     "output_type": "stream",
     "text": [
      "{'eval_loss': 0.9269683957099915, 'eval_accuracy': 0.5789473684210527, 'eval_f1': 0.2926613616268789, 'eval_precision': 0.5225225225225225, 'eval_recall': 0.3611111111111111, 'eval_runtime': 0.1731, 'eval_samples_per_second': 219.495, 'eval_steps_per_second': 28.881, 'epoch': 2.0}\n",
      "{'loss': 1.0351, 'grad_norm': 42.08567810058594, 'learning_rate': 1e-05, 'epoch': 2.5}\n"
     ]
    },
    {
     "name": "stderr",
     "output_type": "stream",
     "text": [
      "c:\\Users\\rayssa\\Documents\\nusantara-character-classification\\.venv\\lib\\site-packages\\sklearn\\metrics\\_classification.py:1565: UndefinedMetricWarning: Precision is ill-defined and being set to 0.0 in labels with no predicted samples. Use `zero_division` parameter to control this behavior.\n",
      "  _warn_prf(average, modifier, f\"{metric.capitalize()} is\", len(result))\n"
     ]
    },
    {
     "name": "stdout",
     "output_type": "stream",
     "text": [
      "{'eval_loss': 0.8466724753379822, 'eval_accuracy': 0.5789473684210527, 'eval_f1': 0.2926613616268789, 'eval_precision': 0.5225225225225225, 'eval_recall': 0.3611111111111111, 'eval_runtime': 0.1802, 'eval_samples_per_second': 210.833, 'eval_steps_per_second': 27.741, 'epoch': 3.0}\n",
      "{'train_runtime': 10.9312, 'train_samples_per_second': 209.949, 'train_steps_per_second': 27.444, 'train_loss': 1.0090376377105712, 'epoch': 3.0}\n",
      "\n",
      "📚 Fold 4/5\n"
     ]
    },
    {
     "name": "stderr",
     "output_type": "stream",
     "text": [
      "c:\\Users\\rayssa\\Documents\\nusantara-character-classification\\.venv\\lib\\site-packages\\sklearn\\metrics\\_classification.py:1565: UndefinedMetricWarning: Precision is ill-defined and being set to 0.0 in labels with no predicted samples. Use `zero_division` parameter to control this behavior.\n",
      "  _warn_prf(average, modifier, f\"{metric.capitalize()} is\", len(result))\n",
      "c:\\Users\\rayssa\\Documents\\nusantara-character-classification\\.venv\\lib\\site-packages\\sklearn\\metrics\\_classification.py:1565: UndefinedMetricWarning: Precision is ill-defined and being set to 0.0 in labels with no predicted samples. Use `zero_division` parameter to control this behavior.\n",
      "  _warn_prf(average, modifier, f\"{metric.capitalize()} is\", len(result))\n",
      "c:\\Users\\rayssa\\Documents\\nusantara-character-classification\\.venv\\lib\\site-packages\\sklearn\\metrics\\_classification.py:1565: UndefinedMetricWarning: Precision is ill-defined and being set to 0.0 in labels with no predicted samples. Use `zero_division` parameter to control this behavior.\n",
      "  _warn_prf(average, modifier, f\"{metric.capitalize()} is\", len(result))\n",
      "c:\\Users\\rayssa\\Documents\\nusantara-character-classification\\.venv\\lib\\site-packages\\sklearn\\metrics\\_classification.py:1565: UndefinedMetricWarning: Precision is ill-defined and being set to 0.0 in labels with no predicted samples. Use `zero_division` parameter to control this behavior.\n",
      "  _warn_prf(average, modifier, f\"{metric.capitalize()} is\", len(result))\n",
      "Some weights of BertForSequenceClassification were not initialized from the model checkpoint at indolem/indobert-base-uncased and are newly initialized: ['classifier.bias', 'classifier.weight']\n",
      "You should probably TRAIN this model on a down-stream task to be able to use it for predictions and inference.\n",
      "c:\\Users\\rayssa\\Documents\\nusantara-character-classification\\.venv\\lib\\site-packages\\transformers\\training_args.py:1545: FutureWarning: `evaluation_strategy` is deprecated and will be removed in version 4.46 of 🤗 Transformers. Use `eval_strategy` instead\n",
      "  warnings.warn(\n",
      "c:\\Users\\rayssa\\Documents\\nusantara-character-classification\\.venv\\lib\\site-packages\\sklearn\\metrics\\_classification.py:1565: UndefinedMetricWarning: Precision is ill-defined and being set to 0.0 in labels with no predicted samples. Use `zero_division` parameter to control this behavior.\n",
      "  _warn_prf(average, modifier, f\"{metric.capitalize()} is\", len(result))\n"
     ]
    },
    {
     "name": "stdout",
     "output_type": "stream",
     "text": [
      "{'eval_loss': 0.9489225149154663, 'eval_accuracy': 0.5263157894736842, 'eval_f1': 0.34031746031746035, 'eval_precision': 0.33205619412515963, 'eval_recall': 0.36507936507936506, 'eval_runtime': 0.1525, 'eval_samples_per_second': 249.189, 'eval_steps_per_second': 32.788, 'epoch': 1.0}\n"
     ]
    },
    {
     "name": "stderr",
     "output_type": "stream",
     "text": [
      "c:\\Users\\rayssa\\Documents\\nusantara-character-classification\\.venv\\lib\\site-packages\\sklearn\\metrics\\_classification.py:1565: UndefinedMetricWarning: Precision is ill-defined and being set to 0.0 in labels with no predicted samples. Use `zero_division` parameter to control this behavior.\n",
      "  _warn_prf(average, modifier, f\"{metric.capitalize()} is\", len(result))\n"
     ]
    },
    {
     "name": "stdout",
     "output_type": "stream",
     "text": [
      "{'eval_loss': 0.923588216304779, 'eval_accuracy': 0.5789473684210527, 'eval_f1': 0.2926613616268789, 'eval_precision': 0.5225225225225225, 'eval_recall': 0.3611111111111111, 'eval_runtime': 0.1683, 'eval_samples_per_second': 225.797, 'eval_steps_per_second': 29.71, 'epoch': 2.0}\n",
      "{'loss': 0.9983, 'grad_norm': 11.265708923339844, 'learning_rate': 1e-05, 'epoch': 2.5}\n"
     ]
    },
    {
     "name": "stderr",
     "output_type": "stream",
     "text": [
      "c:\\Users\\rayssa\\Documents\\nusantara-character-classification\\.venv\\lib\\site-packages\\sklearn\\metrics\\_classification.py:1565: UndefinedMetricWarning: Precision is ill-defined and being set to 0.0 in labels with no predicted samples. Use `zero_division` parameter to control this behavior.\n",
      "  _warn_prf(average, modifier, f\"{metric.capitalize()} is\", len(result))\n"
     ]
    },
    {
     "name": "stdout",
     "output_type": "stream",
     "text": [
      "{'eval_loss': 0.9126076102256775, 'eval_accuracy': 0.631578947368421, 'eval_f1': 0.4037763253449527, 'eval_precision': 0.46868686868686876, 'eval_recall': 0.42857142857142855, 'eval_runtime': 0.1654, 'eval_samples_per_second': 229.716, 'eval_steps_per_second': 30.226, 'epoch': 3.0}\n",
      "{'eval_loss': 0.947067141532898, 'eval_accuracy': 0.631578947368421, 'eval_f1': 0.49951267056530213, 'eval_precision': 0.5436507936507936, 'eval_recall': 0.4912698412698413, 'eval_runtime': 0.1673, 'eval_samples_per_second': 227.151, 'eval_steps_per_second': 29.888, 'epoch': 4.0}\n",
      "{'loss': 0.8222, 'grad_norm': 18.870418548583984, 'learning_rate': 2e-05, 'epoch': 5.0}\n",
      "{'eval_loss': 1.0191903114318848, 'eval_accuracy': 0.42105263157894735, 'eval_f1': 0.304383788254756, 'eval_precision': 0.3444444444444444, 'eval_recall': 0.3611111111111111, 'eval_runtime': 0.1204, 'eval_samples_per_second': 315.725, 'eval_steps_per_second': 41.543, 'epoch': 5.0}\n",
      "{'eval_loss': 0.9336427450180054, 'eval_accuracy': 0.6842105263157895, 'eval_f1': 0.5762962962962962, 'eval_precision': 0.7745726495726496, 'eval_recall': 0.5587301587301586, 'eval_runtime': 0.1633, 'eval_samples_per_second': 232.691, 'eval_steps_per_second': 30.617, 'epoch': 6.0}\n",
      "{'eval_loss': 0.9718034863471985, 'eval_accuracy': 0.6052631578947368, 'eval_f1': 0.516856657773466, 'eval_precision': 0.5794633642930856, 'eval_recall': 0.523015873015873, 'eval_runtime': 0.1469, 'eval_samples_per_second': 258.603, 'eval_steps_per_second': 34.027, 'epoch': 7.0}\n",
      "{'loss': 0.4885, 'grad_norm': 11.631327629089355, 'learning_rate': 1.5000000000000002e-05, 'epoch': 7.5}\n"
     ]
    },
    {
     "name": "stderr",
     "output_type": "stream",
     "text": [
      "c:\\Users\\rayssa\\Documents\\nusantara-character-classification\\.venv\\lib\\site-packages\\sklearn\\metrics\\_classification.py:1565: UndefinedMetricWarning: Precision is ill-defined and being set to 0.0 in labels with no predicted samples. Use `zero_division` parameter to control this behavior.\n",
      "  _warn_prf(average, modifier, f\"{metric.capitalize()} is\", len(result))\n"
     ]
    },
    {
     "name": "stdout",
     "output_type": "stream",
     "text": [
      "{'eval_loss': 1.116209864616394, 'eval_accuracy': 0.631578947368421, 'eval_f1': 0.4399551066217733, 'eval_precision': 0.4096618357487922, 'eval_recall': 0.4761904761904761, 'eval_runtime': 0.1368, 'eval_samples_per_second': 277.817, 'eval_steps_per_second': 36.555, 'epoch': 8.0}\n",
      "{'train_runtime': 28.3524, 'train_samples_per_second': 80.945, 'train_steps_per_second': 10.581, 'train_loss': 0.7562841683626175, 'epoch': 8.0}\n",
      "\n",
      "📚 Fold 5/5\n"
     ]
    },
    {
     "name": "stderr",
     "output_type": "stream",
     "text": [
      "Some weights of BertForSequenceClassification were not initialized from the model checkpoint at indolem/indobert-base-uncased and are newly initialized: ['classifier.bias', 'classifier.weight']\n",
      "You should probably TRAIN this model on a down-stream task to be able to use it for predictions and inference.\n",
      "c:\\Users\\rayssa\\Documents\\nusantara-character-classification\\.venv\\lib\\site-packages\\transformers\\training_args.py:1545: FutureWarning: `evaluation_strategy` is deprecated and will be removed in version 4.46 of 🤗 Transformers. Use `eval_strategy` instead\n",
      "  warnings.warn(\n",
      "c:\\Users\\rayssa\\Documents\\nusantara-character-classification\\.venv\\lib\\site-packages\\sklearn\\metrics\\_classification.py:1565: UndefinedMetricWarning: Precision is ill-defined and being set to 0.0 in labels with no predicted samples. Use `zero_division` parameter to control this behavior.\n",
      "  _warn_prf(average, modifier, f\"{metric.capitalize()} is\", len(result))\n"
     ]
    },
    {
     "name": "stdout",
     "output_type": "stream",
     "text": [
      "{'eval_loss': 1.0032979249954224, 'eval_accuracy': 0.47368421052631576, 'eval_f1': 0.24909222948438636, 'eval_precision': 0.25, 'eval_recall': 0.308974358974359, 'eval_runtime': 0.1514, 'eval_samples_per_second': 251.01, 'eval_steps_per_second': 33.028, 'epoch': 1.0}\n"
     ]
    },
    {
     "name": "stderr",
     "output_type": "stream",
     "text": [
      "c:\\Users\\rayssa\\Documents\\nusantara-character-classification\\.venv\\lib\\site-packages\\sklearn\\metrics\\_classification.py:1565: UndefinedMetricWarning: Precision is ill-defined and being set to 0.0 in labels with no predicted samples. Use `zero_division` parameter to control this behavior.\n",
      "  _warn_prf(average, modifier, f\"{metric.capitalize()} is\", len(result))\n"
     ]
    },
    {
     "name": "stdout",
     "output_type": "stream",
     "text": [
      "{'eval_loss': 1.0248081684112549, 'eval_accuracy': 0.5263157894736842, 'eval_f1': 0.2298850574712644, 'eval_precision': 0.17543859649122806, 'eval_recall': 0.3333333333333333, 'eval_runtime': 0.1517, 'eval_samples_per_second': 250.54, 'eval_steps_per_second': 32.966, 'epoch': 2.0}\n",
      "{'loss': 1.0171, 'grad_norm': 11.680184364318848, 'learning_rate': 1e-05, 'epoch': 2.5}\n"
     ]
    },
    {
     "name": "stderr",
     "output_type": "stream",
     "text": [
      "c:\\Users\\rayssa\\Documents\\nusantara-character-classification\\.venv\\lib\\site-packages\\sklearn\\metrics\\_classification.py:1565: UndefinedMetricWarning: Precision is ill-defined and being set to 0.0 in labels with no predicted samples. Use `zero_division` parameter to control this behavior.\n",
      "  _warn_prf(average, modifier, f\"{metric.capitalize()} is\", len(result))\n"
     ]
    },
    {
     "name": "stdout",
     "output_type": "stream",
     "text": [
      "{'eval_loss': 1.0093648433685303, 'eval_accuracy': 0.5263157894736842, 'eval_f1': 0.2298850574712644, 'eval_precision': 0.17543859649122806, 'eval_recall': 0.3333333333333333, 'eval_runtime': 0.1463, 'eval_samples_per_second': 259.807, 'eval_steps_per_second': 34.185, 'epoch': 3.0}\n",
      "{'train_runtime': 10.7519, 'train_samples_per_second': 213.452, 'train_steps_per_second': 27.902, 'train_loss': 0.9898479143778484, 'epoch': 3.0}\n"
     ]
    },
    {
     "name": "stderr",
     "output_type": "stream",
     "text": [
      "c:\\Users\\rayssa\\Documents\\nusantara-character-classification\\.venv\\lib\\site-packages\\sklearn\\metrics\\_classification.py:1565: UndefinedMetricWarning: Precision is ill-defined and being set to 0.0 in labels with no predicted samples. Use `zero_division` parameter to control this behavior.\n",
      "  _warn_prf(average, modifier, f\"{metric.capitalize()} is\", len(result))\n",
      "c:\\Users\\rayssa\\Documents\\nusantara-character-classification\\.venv\\lib\\site-packages\\sklearn\\metrics\\_classification.py:1565: UndefinedMetricWarning: Precision is ill-defined and being set to 0.0 in labels with no predicted samples. Use `zero_division` parameter to control this behavior.\n",
      "  _warn_prf(average, modifier, f\"{metric.capitalize()} is\", len(result))\n",
      "c:\\Users\\rayssa\\Documents\\nusantara-character-classification\\.venv\\lib\\site-packages\\sklearn\\metrics\\_classification.py:1565: UndefinedMetricWarning: Precision is ill-defined and being set to 0.0 in labels with no predicted samples. Use `zero_division` parameter to control this behavior.\n",
      "  _warn_prf(average, modifier, f\"{metric.capitalize()} is\", len(result))\n",
      "c:\\Users\\rayssa\\Documents\\nusantara-character-classification\\.venv\\lib\\site-packages\\sklearn\\metrics\\_classification.py:1565: UndefinedMetricWarning: Precision is ill-defined and being set to 0.0 in labels with no predicted samples. Use `zero_division` parameter to control this behavior.\n",
      "  _warn_prf(average, modifier, f\"{metric.capitalize()} is\", len(result))\n"
     ]
    },
    {
     "name": "stdout",
     "output_type": "stream",
     "text": [
      "\n",
      "✅ IndoLEM V1 Character-level training complete. Results saved to: results/V1_IndoLEM_Character\n",
      "         Fold  Precision    Recall  F1-score  Accuracy\n",
      "0         1.0   0.284946  0.345543  0.258621  0.384615\n",
      "1         2.0   0.722222  0.550794  0.578898  0.710526\n",
      "2         3.0   0.343550  0.380952  0.353651  0.552632\n",
      "3         4.0   0.774573  0.558730  0.576296  0.684211\n",
      "4         5.0   0.250000  0.308974  0.249092  0.473684\n",
      "Average   3.0   0.475058  0.428999  0.403312  0.561134\n"
     ]
    }
   ],
   "source": [
    "import os\n",
    "import pandas as pd\n",
    "import torch\n",
    "import numpy as np\n",
    "import random\n",
    "from torch.utils.data import Dataset\n",
    "from transformers import AutoTokenizer, AutoModelForSequenceClassification, Trainer, TrainingArguments, EarlyStoppingCallback\n",
    "from sklearn.model_selection import StratifiedKFold\n",
    "from sklearn.metrics import classification_report, confusion_matrix, accuracy_score, precision_recall_fscore_support\n",
    "from sklearn.preprocessing import LabelEncoder\n",
    "import matplotlib.pyplot as plt\n",
    "import seaborn as sns\n",
    "\n",
    "# === Configuration ===\n",
    "FOLDS = 5\n",
    "EPOCHS = 15\n",
    "BATCH_SIZE = 8\n",
    "MODEL_NAME = \"indolem/indobert-base-uncased\"\n",
    "OUTPUT_DIR = \"results/V1_IndoLEM_Character\"\n",
    "SEED = 42\n",
    "\n",
    "os.makedirs(OUTPUT_DIR, exist_ok=True)\n",
    "\n",
    "# === Seed setup ===\n",
    "random.seed(SEED)\n",
    "np.random.seed(SEED)\n",
    "torch.manual_seed(SEED)\n",
    "torch.cuda.manual_seed_all(SEED)\n",
    "\n",
    "# === Load dataset ===\n",
    "df = pd.read_csv(\"character_level.csv\")\n",
    "df[\"merged_text\"] = df[\"merged_text\"].fillna(\"\")\n",
    "\n",
    "label_encoder = LabelEncoder()\n",
    "df[\"label\"] = label_encoder.fit_transform(df[\"type\"])\n",
    "texts = df[\"merged_text\"].tolist()\n",
    "labels = df[\"label\"].tolist()\n",
    "\n",
    "# === Compute class weights ===\n",
    "class_counts = np.bincount(labels)\n",
    "class_weights = len(labels) / (len(class_counts) * class_counts)\n",
    "class_weights_tensor = torch.tensor(class_weights, dtype=torch.float).to(torch.device(\"cuda\" if torch.cuda.is_available() else \"cpu\"))\n",
    "\n",
    "# === Dataset class ===\n",
    "class CharacterDataset(Dataset):\n",
    "    def __init__(self, texts, labels, tokenizer, max_len=128):\n",
    "        self.encodings = tokenizer(texts, truncation=True, padding=True, max_length=max_len)\n",
    "        self.labels = labels\n",
    "\n",
    "    def __getitem__(self, idx):\n",
    "        item = {key: torch.tensor(val[idx]) for key, val in self.encodings.items()}\n",
    "        item[\"labels\"] = torch.tensor(self.labels[idx])\n",
    "        return item\n",
    "\n",
    "    def __len__(self):\n",
    "        return len(self.labels)\n",
    "\n",
    "# === Metrics ===\n",
    "def compute_metrics(pred):\n",
    "    labels = pred.label_ids\n",
    "    preds = pred.predictions.argmax(-1)\n",
    "    precision, recall, f1, _ = precision_recall_fscore_support(labels, preds, average='macro')\n",
    "    acc = accuracy_score(labels, preds)\n",
    "    return {'accuracy': acc, 'f1': f1, 'precision': precision, 'recall': recall}\n",
    "\n",
    "# === Tokenizer ===\n",
    "tokenizer = AutoTokenizer.from_pretrained(MODEL_NAME)\n",
    "\n",
    "# === K-Fold setup ===\n",
    "skf = StratifiedKFold(n_splits=FOLDS, shuffle=True, random_state=SEED)\n",
    "fold_metrics = []\n",
    "cumulative_cm = np.zeros((3, 3), dtype=int)\n",
    "\n",
    "for fold, (train_idx, val_idx) in enumerate(skf.split(texts, labels)):\n",
    "    print(f\"\\n📚 Fold {fold + 1}/{FOLDS}\")\n",
    "\n",
    "    train_texts = [texts[i] for i in train_idx]\n",
    "    val_texts = [texts[i] for i in val_idx]\n",
    "    train_labels = [labels[i] for i in train_idx]\n",
    "    val_labels = [labels[i] for i in val_idx]\n",
    "\n",
    "    train_dataset = CharacterDataset(train_texts, train_labels, tokenizer)\n",
    "    val_dataset = CharacterDataset(val_texts, val_labels, tokenizer)\n",
    "\n",
    "    model = AutoModelForSequenceClassification.from_pretrained(MODEL_NAME, num_labels=3)\n",
    "    model.classifier.weight.data = model.classifier.weight.data.to(class_weights_tensor.device) * class_weights_tensor.unsqueeze(1)\n",
    "\n",
    "    fold_dir = os.path.join(OUTPUT_DIR, f\"fold_{fold+1}\")\n",
    "    os.makedirs(fold_dir, exist_ok=True)\n",
    "\n",
    "    training_args = TrainingArguments(\n",
    "        output_dir=fold_dir,\n",
    "        num_train_epochs=EPOCHS,\n",
    "        per_device_train_batch_size=BATCH_SIZE,\n",
    "        per_device_eval_batch_size=BATCH_SIZE,\n",
    "        logging_dir=os.path.join(fold_dir, \"logs\"),\n",
    "        evaluation_strategy=\"epoch\",\n",
    "        save_strategy=\"epoch\",\n",
    "        load_best_model_at_end=True,\n",
    "        metric_for_best_model=\"f1\",\n",
    "        greater_is_better=True,\n",
    "        logging_steps=50,\n",
    "        disable_tqdm=True,\n",
    "        learning_rate=2e-5,\n",
    "        warmup_steps=100,\n",
    "        weight_decay=0.01,\n",
    "        seed=SEED\n",
    "    )\n",
    "\n",
    "    trainer = Trainer(\n",
    "        model=model,\n",
    "        args=training_args,\n",
    "        train_dataset=train_dataset,\n",
    "        eval_dataset=val_dataset,\n",
    "        compute_metrics=compute_metrics,\n",
    "        callbacks=[EarlyStoppingCallback(early_stopping_patience=2)]\n",
    "    )\n",
    "\n",
    "    trainer.train()\n",
    "\n",
    "    # Evaluate\n",
    "    predictions = trainer.predict(val_dataset)\n",
    "    preds = torch.argmax(torch.tensor(predictions.predictions), dim=1).numpy()\n",
    "    true_labels = np.array(val_labels)\n",
    "    pred_labels = preds\n",
    "\n",
    "    decoded_true = label_encoder.inverse_transform(true_labels)\n",
    "    decoded_pred = label_encoder.inverse_transform(pred_labels)\n",
    "\n",
    "    # Classification Report\n",
    "    report = classification_report(decoded_true, decoded_pred, output_dict=True, digits=4)\n",
    "    report_df = pd.DataFrame(report).transpose()\n",
    "    report_df.to_csv(os.path.join(fold_dir, \"classification_report.csv\"))\n",
    "\n",
    "    # Confusion Matrix\n",
    "    cm = confusion_matrix(decoded_true, decoded_pred, labels=label_encoder.classes_)\n",
    "    cm_df = pd.DataFrame(cm, index=label_encoder.classes_, columns=label_encoder.classes_)\n",
    "    cumulative_cm += cm\n",
    "\n",
    "    plt.figure(figsize=(6, 5))\n",
    "    sns.heatmap(cm_df, annot=True, fmt='d', cmap='Blues')\n",
    "    plt.title(f\"Confusion Matrix - Fold {fold + 1} (IndoLEM V1 Character)\")\n",
    "    plt.xlabel(\"Predicted\")\n",
    "    plt.ylabel(\"Actual\")\n",
    "    plt.tight_layout()\n",
    "    plt.savefig(os.path.join(fold_dir, \"confusion_matrix.png\"))\n",
    "    plt.close()\n",
    "\n",
    "    macro = report[\"macro avg\"]\n",
    "    fold_metrics.append({\n",
    "        \"Fold\": fold + 1,\n",
    "        \"Precision\": macro[\"precision\"],\n",
    "        \"Recall\": macro[\"recall\"],\n",
    "        \"F1-score\": macro[\"f1-score\"],\n",
    "        \"Accuracy\": accuracy_score(decoded_true, decoded_pred)\n",
    "    })\n",
    "\n",
    "# === Save summary and average\n",
    "summary_df = pd.DataFrame(fold_metrics)\n",
    "summary_df.loc[\"Average\"] = summary_df.mean(numeric_only=True)\n",
    "summary_df.to_csv(os.path.join(OUTPUT_DIR, \"summary.csv\"), index=False)\n",
    "\n",
    "# === Save Average Confusion Matrix\n",
    "avg_cm = cumulative_cm // FOLDS\n",
    "avg_cm_df = pd.DataFrame(avg_cm, index=label_encoder.classes_, columns=label_encoder.classes_)\n",
    "plt.figure(figsize=(6, 5))\n",
    "sns.heatmap(avg_cm_df, annot=True, fmt='d', cmap='Purples')\n",
    "plt.title(\"Average Confusion Matrix (IndoLEM V1 Character)\")\n",
    "plt.xlabel(\"Predicted\")\n",
    "plt.ylabel(\"Actual\")\n",
    "plt.tight_layout()\n",
    "plt.savefig(os.path.join(OUTPUT_DIR, \"average_confusion_matrix.png\"))\n",
    "plt.close()\n",
    "\n",
    "print(\"\\n✅ IndoLEM V1 Character-level training complete. Results saved to:\", OUTPUT_DIR)\n",
    "print(summary_df)\n"
   ]
  },
  {
   "cell_type": "code",
   "execution_count": 8,
   "id": "f3c284fa",
   "metadata": {},
   "outputs": [
    {
     "name": "stdout",
     "output_type": "stream",
     "text": [
      "✅ Deleted 3 checkpoint folders in: results/V1_IndoLEM_Char\\fold_1\n",
      "✅ Deleted 9 checkpoint folders in: results/V1_IndoLEM_Char\\fold_2\n",
      "✅ Deleted 3 checkpoint folders in: results/V1_IndoLEM_Char\\fold_3\n",
      "✅ Deleted 8 checkpoint folders in: results/V1_IndoLEM_Char\\fold_4\n",
      "✅ Deleted 3 checkpoint folders in: results/V1_IndoLEM_Char\\fold_5\n"
     ]
    }
   ],
   "source": [
    "import os\n",
    "import shutil\n",
    "\n",
    "base_path = \"results/V1_IndoLEM_Char\"\n",
    "\n",
    "# Loop through each fold directory\n",
    "for i in range(1, 6):\n",
    "    fold_path = os.path.join(base_path, f\"fold_{i}\")\n",
    "    deleted = 0\n",
    "\n",
    "    if os.path.exists(fold_path):\n",
    "        for item in os.listdir(fold_path):\n",
    "            item_path = os.path.join(fold_path, item)\n",
    "            if os.path.isdir(item_path) and item.startswith(\"checkpoint\"):\n",
    "                try:\n",
    "                    shutil.rmtree(item_path)\n",
    "                    deleted += 1\n",
    "                except Exception as e:\n",
    "                    print(f\"❌ Failed to delete {item_path}: {e}\")\n",
    "\n",
    "        print(f\"✅ Deleted {deleted} checkpoint folders in: {fold_path}\")\n",
    "    else:\n",
    "        print(f\"⚠️ Fold path not found: {fold_path}\")\n"
   ]
  },
  {
   "cell_type": "markdown",
   "id": "1ddd004a",
   "metadata": {},
   "source": [
    "## comparison between V1 models"
   ]
  },
  {
   "cell_type": "code",
   "execution_count": 2,
   "id": "f8c80323",
   "metadata": {},
   "outputs": [
    {
     "name": "stdout",
     "output_type": "stream",
     "text": [
      "🏆 V1 Character-Level Leaderboard (Merged Text):\n",
      "           Precision  Recall  F1-score  Accuracy\n",
      "CahyaBERT     0.6573  0.5954    0.6008    0.6753\n",
      "IndoBERT      0.5174  0.5011    0.4867    0.6016\n",
      "IndoLEM       0.4751  0.4290    0.4033    0.5611\n"
     ]
    },
    {
     "name": "stderr",
     "output_type": "stream",
     "text": [
      "C:\\Users\\rayssa\\AppData\\Local\\Temp\\ipykernel_47524\\4237848108.py:49: UserWarning: Glyph 128202 (\\N{BAR CHART}) missing from font(s) DejaVu Sans.\n",
      "  plt.tight_layout()\n",
      "C:\\Users\\rayssa\\AppData\\Local\\Temp\\ipykernel_47524\\4237848108.py:50: UserWarning: Glyph 128202 (\\N{BAR CHART}) missing from font(s) DejaVu Sans.\n",
      "  plt.savefig(\"results/V1_Character_Model_Comparison.png\")\n",
      "c:\\Users\\rayssa\\Documents\\nusantara-character-classification\\.venv\\lib\\site-packages\\IPython\\core\\pylabtools.py:170: UserWarning: Glyph 128202 (\\N{BAR CHART}) missing from font(s) DejaVu Sans.\n",
      "  fig.canvas.print_figure(bytes_io, **kw)\n"
     ]
    },
    {
     "data": {
      "image/png": "[encoded data removed]",
      "text/plain": [
       "<Figure size 1000x600 with 1 Axes>"
      ]
     },
     "metadata": {},
     "output_type": "display_data"
    }
   ],
   "source": [
    "import pandas as pd\n",
    "import matplotlib.pyplot as plt\n",
    "\n",
    "# === Define model summary paths ===\n",
    "model_paths = {\n",
    "    \"IndoBERT\": \"results/V1_IndoBERT_Char/summary.csv\",\n",
    "    \"CahyaBERT\": \"results/V1_CahyaBERT_Char/summary.csv\",\n",
    "    \"IndoLEM\": \"results/V1_IndoLEM_Char/summary.csv\"\n",
    "}\n",
    "\n",
    "# === Load and extract average metrics ===\n",
    "summary_data = {}\n",
    "for model_name, path in model_paths.items():\n",
    "    df = pd.read_csv(path)\n",
    "\n",
    "    # Normalize Fold column\n",
    "    if \"Fold\" in df.columns:\n",
    "        df[\"Fold\"] = df[\"Fold\"].astype(str)\n",
    "        avg_row = df[df[\"Fold\"].str.lower() == \"average\"]\n",
    "        if avg_row.empty:\n",
    "            avg_row = df.tail(1)\n",
    "    else:\n",
    "        avg_row = df.tail(1)\n",
    "\n",
    "    # Normalize column names\n",
    "    col_map = {col.lower().replace(\"-\", \"\").replace(\"_\", \"\"): col for col in df.columns}\n",
    "    summary_data[model_name] = {\n",
    "        \"Precision\": avg_row[col_map.get(\"precision\", \"Precision\")].values[0],\n",
    "        \"Recall\": avg_row[col_map.get(\"recall\", \"Recall\")].values[0],\n",
    "        \"F1-score\": avg_row[col_map.get(\"f1score\", \"F1-score\")].values[0],\n",
    "        \"Accuracy\": avg_row[col_map.get(\"accuracy\", \"Accuracy\")].values[0],\n",
    "    }\n",
    "\n",
    "# === Create leaderboard DataFrame ===\n",
    "leaderboard_df = pd.DataFrame.from_dict(summary_data, orient=\"index\")\n",
    "leaderboard_df = leaderboard_df.sort_values(by=\"F1-score\", ascending=False)\n",
    "\n",
    "# === Display leaderboard ===\n",
    "print(\"🏆 V1 Character-Level Leaderboard (Merged Text):\")\n",
    "print(leaderboard_df.round(4))\n",
    "\n",
    "# === Bar plot comparison ===\n",
    "leaderboard_df.plot(kind=\"bar\", figsize=(10, 6))\n",
    "plt.title(\"📊 V1 Character-Level Evaluation Comparison (Merged Text)\")\n",
    "plt.ylabel(\"Score\")\n",
    "plt.ylim(0, 1)\n",
    "plt.xticks(rotation=0)\n",
    "plt.legend(title=\"Metrics\")\n",
    "plt.tight_layout()\n",
    "plt.savefig(\"results/V1_Character_Model_Comparison.png\")\n",
    "plt.show()\n"
   ]
  },
  {
   "cell_type": "markdown",
   "id": "e1682824",
   "metadata": {},
   "source": [
    "## V2: IndoBERT merge text + numerical feature"
   ]
  },
  {
   "cell_type": "code",
   "execution_count": null,
   "id": "4e070cee",
   "metadata": {},
   "outputs": [
    {
     "name": "stderr",
     "output_type": "stream",
     "text": [
      "c:\\Users\\rayssa\\Documents\\nusantara-character-classification\\.venv\\lib\\site-packages\\tqdm\\auto.py:21: TqdmWarning: IProgress not found. Please update jupyter and ipywidgets. See https://ipywidgets.readthedocs.io/en/stable/user_install.html\n",
      "  from .autonotebook import tqdm as notebook_tqdm\n"
     ]
    },
    {
     "name": "stdout",
     "output_type": "stream",
     "text": [
      "\n",
      "📚 Fold 1/5\n"
     ]
    },
    {
     "name": "stderr",
     "output_type": "stream",
     "text": [
      "c:\\Users\\rayssa\\Documents\\nusantara-character-classification\\.venv\\lib\\site-packages\\transformers\\training_args.py:1545: FutureWarning: `evaluation_strategy` is deprecated and will be removed in version 4.46 of 🤗 Transformers. Use `eval_strategy` instead\n",
      "  warnings.warn(\n"
     ]
    },
    {
     "name": "stdout",
     "output_type": "stream",
     "text": [
      "{'eval_loss': 1.0928058624267578, 'eval_accuracy': 0.4358974358974359, 'eval_f1': 0.4045977011494253, 'eval_precision': 0.4604377104377104, 'eval_recall': 0.4593406593406593, 'eval_runtime': 0.2262, 'eval_samples_per_second': 172.394, 'eval_steps_per_second': 22.102, 'epoch': 1.0}\n",
      "{'eval_loss': 1.0472323894500732, 'eval_accuracy': 0.48717948717948717, 'eval_f1': 0.42512967512967514, 'eval_precision': 0.4527777777777778, 'eval_recall': 0.43052503052503055, 'eval_runtime': 0.1857, 'eval_samples_per_second': 209.985, 'eval_steps_per_second': 26.921, 'epoch': 2.0}\n",
      "{'loss': 1.0817, 'grad_norm': 7.807872772216797, 'learning_rate': 1e-05, 'epoch': 2.6315789473684212}\n",
      "{'eval_loss': 1.0796692371368408, 'eval_accuracy': 0.46153846153846156, 'eval_f1': 0.39586983065243936, 'eval_precision': 0.3896825396825397, 'eval_recall': 0.4166056166056166, 'eval_runtime': 0.2017, 'eval_samples_per_second': 193.399, 'eval_steps_per_second': 24.795, 'epoch': 3.0}\n",
      "{'eval_loss': 1.0044111013412476, 'eval_accuracy': 0.5641025641025641, 'eval_f1': 0.5092592592592593, 'eval_precision': 0.5265151515151515, 'eval_recall': 0.49963369963369964, 'eval_runtime': 0.1891, 'eval_samples_per_second': 206.222, 'eval_steps_per_second': 26.439, 'epoch': 4.0}\n",
      "{'eval_loss': 1.054162859916687, 'eval_accuracy': 0.5641025641025641, 'eval_f1': 0.4603174603174603, 'eval_precision': 0.46428571428571425, 'eval_recall': 0.4586080586080586, 'eval_runtime': 0.1947, 'eval_samples_per_second': 200.323, 'eval_steps_per_second': 25.682, 'epoch': 5.0}\n",
      "{'loss': 0.7691, 'grad_norm': 4.628798484802246, 'learning_rate': 2e-05, 'epoch': 5.2631578947368425}\n",
      "{'eval_loss': 1.0332967042922974, 'eval_accuracy': 0.5897435897435898, 'eval_f1': 0.4765312701482914, 'eval_precision': 0.48473748473748474, 'eval_recall': 0.495970695970696, 'eval_runtime': 0.1925, 'eval_samples_per_second': 202.615, 'eval_steps_per_second': 25.976, 'epoch': 6.0}\n",
      "{'train_runtime': 23.7821, 'train_samples_per_second': 95.871, 'train_steps_per_second': 11.984, 'train_loss': 0.875145673751831, 'epoch': 6.0}\n",
      "\n",
      "📚 Fold 2/5\n"
     ]
    },
    {
     "name": "stderr",
     "output_type": "stream",
     "text": [
      "c:\\Users\\rayssa\\Documents\\nusantara-character-classification\\.venv\\lib\\site-packages\\transformers\\training_args.py:1545: FutureWarning: `evaluation_strategy` is deprecated and will be removed in version 4.46 of 🤗 Transformers. Use `eval_strategy` instead\n",
      "  warnings.warn(\n"
     ]
    },
    {
     "name": "stdout",
     "output_type": "stream",
     "text": [
      "{'eval_loss': 1.1019494533538818, 'eval_accuracy': 0.5, 'eval_f1': 0.3667538506248184, 'eval_precision': 0.37280701754385964, 'eval_recall': 0.3849206349206349, 'eval_runtime': 0.2106, 'eval_samples_per_second': 180.406, 'eval_steps_per_second': 23.738, 'epoch': 1.0}\n",
      "{'eval_loss': 1.0321533679962158, 'eval_accuracy': 0.5526315789473685, 'eval_f1': 0.4761904761904762, 'eval_precision': 0.6805555555555555, 'eval_recall': 0.45555555555555555, 'eval_runtime': 0.179, 'eval_samples_per_second': 212.325, 'eval_steps_per_second': 27.937, 'epoch': 2.0}\n",
      "{'loss': 1.0856, 'grad_norm': 13.534708023071289, 'learning_rate': 1e-05, 'epoch': 2.5}\n"
     ]
    },
    {
     "name": "stderr",
     "output_type": "stream",
     "text": [
      "c:\\Users\\rayssa\\Documents\\nusantara-character-classification\\.venv\\lib\\site-packages\\sklearn\\metrics\\_classification.py:1565: UndefinedMetricWarning: Precision is ill-defined and being set to 0.0 in labels with no predicted samples. Use `zero_division` parameter to control this behavior.\n",
      "  _warn_prf(average, modifier, f\"{metric.capitalize()} is\", len(result))\n"
     ]
    },
    {
     "name": "stdout",
     "output_type": "stream",
     "text": [
      "{'eval_loss': 1.0109543800354004, 'eval_accuracy': 0.5263157894736842, 'eval_f1': 0.36015325670498083, 'eval_precision': 0.3398692810457516, 'eval_recall': 0.38888888888888884, 'eval_runtime': 0.1814, 'eval_samples_per_second': 209.536, 'eval_steps_per_second': 27.571, 'epoch': 3.0}\n",
      "{'eval_loss': 0.875551700592041, 'eval_accuracy': 0.631578947368421, 'eval_f1': 0.5938264633916809, 'eval_precision': 0.5865800865800866, 'eval_recall': 0.6047619047619047, 'eval_runtime': 0.1509, 'eval_samples_per_second': 251.835, 'eval_steps_per_second': 33.136, 'epoch': 4.0}\n",
      "{'loss': 0.8099, 'grad_norm': 38.19603729248047, 'learning_rate': 2e-05, 'epoch': 5.0}\n",
      "{'eval_loss': 0.9496976733207703, 'eval_accuracy': 0.5526315789473685, 'eval_f1': 0.4583255524431995, 'eval_precision': 0.4666666666666666, 'eval_recall': 0.5095238095238096, 'eval_runtime': 0.1412, 'eval_samples_per_second': 269.109, 'eval_steps_per_second': 35.409, 'epoch': 5.0}\n",
      "{'eval_loss': 0.8686912655830383, 'eval_accuracy': 0.6052631578947368, 'eval_f1': 0.5424242424242425, 'eval_precision': 0.5414078674948241, 'eval_recall': 0.5650793650793651, 'eval_runtime': 0.158, 'eval_samples_per_second': 240.502, 'eval_steps_per_second': 31.645, 'epoch': 6.0}\n",
      "{'train_runtime': 23.2863, 'train_samples_per_second': 98.556, 'train_steps_per_second': 12.883, 'train_loss': 0.8660171508789063, 'epoch': 6.0}\n",
      "\n",
      "📚 Fold 3/5\n"
     ]
    },
    {
     "name": "stderr",
     "output_type": "stream",
     "text": [
      "c:\\Users\\rayssa\\Documents\\nusantara-character-classification\\.venv\\lib\\site-packages\\transformers\\training_args.py:1545: FutureWarning: `evaluation_strategy` is deprecated and will be removed in version 4.46 of 🤗 Transformers. Use `eval_strategy` instead\n",
      "  warnings.warn(\n"
     ]
    },
    {
     "name": "stdout",
     "output_type": "stream",
     "text": [
      "{'eval_loss': 1.1037224531173706, 'eval_accuracy': 0.4473684210526316, 'eval_f1': 0.34385964912280703, 'eval_precision': 0.36349924585218707, 'eval_recall': 0.32936507936507936, 'eval_runtime': 0.1574, 'eval_samples_per_second': 241.407, 'eval_steps_per_second': 31.764, 'epoch': 1.0}\n",
      "{'eval_loss': 1.0021480321884155, 'eval_accuracy': 0.5789473684210527, 'eval_f1': 0.41135925006892754, 'eval_precision': 0.3996101364522417, 'eval_recall': 0.4444444444444444, 'eval_runtime': 0.1794, 'eval_samples_per_second': 211.784, 'eval_steps_per_second': 27.866, 'epoch': 2.0}\n",
      "{'loss': 1.0922, 'grad_norm': 8.0380220413208, 'learning_rate': 1e-05, 'epoch': 2.5}\n",
      "{'eval_loss': 0.9598384499549866, 'eval_accuracy': 0.631578947368421, 'eval_f1': 0.48892230576441104, 'eval_precision': 0.5755336617405583, 'eval_recall': 0.4793650793650794, 'eval_runtime': 0.1756, 'eval_samples_per_second': 216.46, 'eval_steps_per_second': 28.482, 'epoch': 3.0}\n",
      "{'eval_loss': 0.9714931845664978, 'eval_accuracy': 0.5526315789473685, 'eval_f1': 0.45481481481481484, 'eval_precision': 0.6581196581196581, 'eval_recall': 0.4317460317460317, 'eval_runtime': 0.1676, 'eval_samples_per_second': 226.733, 'eval_steps_per_second': 29.833, 'epoch': 4.0}\n",
      "{'loss': 0.8287, 'grad_norm': 15.206242561340332, 'learning_rate': 2e-05, 'epoch': 5.0}\n",
      "{'eval_loss': 0.8493574857711792, 'eval_accuracy': 0.6578947368421053, 'eval_f1': 0.5686609686609686, 'eval_precision': 0.5972222222222222, 'eval_recall': 0.5968253968253968, 'eval_runtime': 0.1321, 'eval_samples_per_second': 287.628, 'eval_steps_per_second': 37.846, 'epoch': 5.0}\n",
      "{'eval_loss': 1.393801212310791, 'eval_accuracy': 0.631578947368421, 'eval_f1': 0.4977777777777777, 'eval_precision': 0.7183908045977011, 'eval_recall': 0.4793650793650794, 'eval_runtime': 0.1519, 'eval_samples_per_second': 250.126, 'eval_steps_per_second': 32.911, 'epoch': 6.0}\n",
      "{'eval_loss': 1.5469967126846313, 'eval_accuracy': 0.631578947368421, 'eval_f1': 0.5, 'eval_precision': 0.5416666666666666, 'eval_recall': 0.4912698412698413, 'eval_runtime': 0.1833, 'eval_samples_per_second': 207.282, 'eval_steps_per_second': 27.274, 'epoch': 7.0}\n",
      "{'train_runtime': 27.2268, 'train_samples_per_second': 84.292, 'train_steps_per_second': 11.019, 'train_loss': 0.7704421383993966, 'epoch': 7.0}\n",
      "\n",
      "📚 Fold 4/5\n"
     ]
    },
    {
     "name": "stderr",
     "output_type": "stream",
     "text": [
      "c:\\Users\\rayssa\\Documents\\nusantara-character-classification\\.venv\\lib\\site-packages\\transformers\\training_args.py:1545: FutureWarning: `evaluation_strategy` is deprecated and will be removed in version 4.46 of 🤗 Transformers. Use `eval_strategy` instead\n",
      "  warnings.warn(\n"
     ]
    },
    {
     "name": "stdout",
     "output_type": "stream",
     "text": [
      "{'eval_loss': 1.0792902708053589, 'eval_accuracy': 0.47368421052631576, 'eval_f1': 0.3397813288477713, 'eval_precision': 0.4181034482758621, 'eval_recall': 0.4166666666666667, 'eval_runtime': 0.1739, 'eval_samples_per_second': 218.576, 'eval_steps_per_second': 28.76, 'epoch': 1.0}\n",
      "{'eval_loss': 1.0331928730010986, 'eval_accuracy': 0.5263157894736842, 'eval_f1': 0.3694083694083694, 'eval_precision': 0.3800322061191626, 'eval_recall': 0.36507936507936506, 'eval_runtime': 0.1639, 'eval_samples_per_second': 231.858, 'eval_steps_per_second': 30.508, 'epoch': 2.0}\n",
      "{'loss': 1.0599, 'grad_norm': 12.1351957321167, 'learning_rate': 1e-05, 'epoch': 2.5}\n",
      "{'eval_loss': 1.0389174222946167, 'eval_accuracy': 0.631578947368421, 'eval_f1': 0.46428571428571425, 'eval_precision': 0.4506578947368421, 'eval_recall': 0.48809523809523814, 'eval_runtime': 0.177, 'eval_samples_per_second': 214.65, 'eval_steps_per_second': 28.243, 'epoch': 3.0}\n",
      "{'eval_loss': 1.2403236627578735, 'eval_accuracy': 0.4473684210526316, 'eval_f1': 0.30158730158730157, 'eval_precision': 0.27976190476190477, 'eval_recall': 0.37142857142857144, 'eval_runtime': 0.197, 'eval_samples_per_second': 192.911, 'eval_steps_per_second': 25.383, 'epoch': 4.0}\n",
      "{'loss': 0.7803, 'grad_norm': 43.848175048828125, 'learning_rate': 2e-05, 'epoch': 5.0}\n",
      "{'eval_loss': 1.3315775394439697, 'eval_accuracy': 0.6578947368421053, 'eval_f1': 0.4819976771196283, 'eval_precision': 0.4583333333333333, 'eval_recall': 0.5158730158730159, 'eval_runtime': 0.1523, 'eval_samples_per_second': 249.496, 'eval_steps_per_second': 32.828, 'epoch': 5.0}\n",
      "{'eval_loss': 1.717942476272583, 'eval_accuracy': 0.631578947368421, 'eval_f1': 0.44755244755244755, 'eval_precision': 0.42236024844720493, 'eval_recall': 0.4761904761904761, 'eval_runtime': 0.1448, 'eval_samples_per_second': 262.456, 'eval_steps_per_second': 34.534, 'epoch': 6.0}\n",
      "{'eval_loss': 1.8036426305770874, 'eval_accuracy': 0.6052631578947368, 'eval_f1': 0.4372759856630824, 'eval_precision': 0.4161793372319688, 'eval_recall': 0.4841269841269842, 'eval_runtime': 0.1663, 'eval_samples_per_second': 228.548, 'eval_steps_per_second': 30.072, 'epoch': 7.0}\n",
      "{'train_runtime': 27.8705, 'train_samples_per_second': 82.345, 'train_steps_per_second': 10.764, 'train_loss': 0.7440687724522181, 'epoch': 7.0}\n",
      "\n",
      "📚 Fold 5/5\n"
     ]
    },
    {
     "name": "stderr",
     "output_type": "stream",
     "text": [
      "c:\\Users\\rayssa\\Documents\\nusantara-character-classification\\.venv\\lib\\site-packages\\transformers\\training_args.py:1545: FutureWarning: `evaluation_strategy` is deprecated and will be removed in version 4.46 of 🤗 Transformers. Use `eval_strategy` instead\n",
      "  warnings.warn(\n"
     ]
    },
    {
     "name": "stdout",
     "output_type": "stream",
     "text": [
      "{'eval_loss': 1.1039416790008545, 'eval_accuracy': 0.3157894736842105, 'eval_f1': 0.25336021505376344, 'eval_precision': 0.27432216905901113, 'eval_recall': 0.26282051282051283, 'eval_runtime': 0.1794, 'eval_samples_per_second': 211.862, 'eval_steps_per_second': 27.877, 'epoch': 1.0}\n",
      "{'eval_loss': 1.103592872619629, 'eval_accuracy': 0.5, 'eval_f1': 0.3462962962962963, 'eval_precision': 0.3381818181818182, 'eval_recall': 0.36153846153846153, 'eval_runtime': 0.1671, 'eval_samples_per_second': 227.471, 'eval_steps_per_second': 29.93, 'epoch': 2.0}\n",
      "{'loss': 1.0446, 'grad_norm': 8.744224548339844, 'learning_rate': 1e-05, 'epoch': 2.5}\n",
      "{'eval_loss': 1.1267839670181274, 'eval_accuracy': 0.4473684210526316, 'eval_f1': 0.30511463844797176, 'eval_precision': 0.2922077922077922, 'eval_recall': 0.31923076923076926, 'eval_runtime': 0.174, 'eval_samples_per_second': 218.355, 'eval_steps_per_second': 28.731, 'epoch': 3.0}\n",
      "{'eval_loss': 1.146850347518921, 'eval_accuracy': 0.4473684210526316, 'eval_f1': 0.2970542635658915, 'eval_precision': 0.286231884057971, 'eval_recall': 0.31025641025641026, 'eval_runtime': 0.1655, 'eval_samples_per_second': 229.612, 'eval_steps_per_second': 30.212, 'epoch': 4.0}\n",
      "{'train_runtime': 15.3998, 'train_samples_per_second': 149.028, 'train_steps_per_second': 19.481, 'train_loss': 0.9729493379592895, 'epoch': 4.0}\n",
      "\n",
      "✅ IndoBERT V2 character-level training complete. Results saved to: results/V2_IndoBERT_Char\n",
      "         Fold  Precision    Recall        F1  Accuracy\n",
      "0         1.0   0.526515  0.499634  0.509259  0.564103\n",
      "1         2.0   0.586580  0.604762  0.593826  0.631579\n",
      "2         3.0   0.597222  0.596825  0.568661  0.657895\n",
      "3         4.0   0.458333  0.515873  0.481998  0.657895\n",
      "4         5.0   0.338182  0.361538  0.346296  0.500000\n",
      "Average   3.0   0.501367  0.515726  0.500008  0.602294\n"
     ]
    }
   ],
   "source": [
    "# === IndoBERT V2: Character-Level (Merged Text + Numeric) ===\n",
    "\n",
    "import os\n",
    "import pandas as pd\n",
    "import torch\n",
    "import numpy as np\n",
    "import random\n",
    "import matplotlib.pyplot as plt\n",
    "import seaborn as sns\n",
    "\n",
    "from torch.utils.data import Dataset\n",
    "from transformers import AutoTokenizer, Trainer, TrainingArguments, EarlyStoppingCallback\n",
    "from transformers import BertModel\n",
    "import torch.nn as nn\n",
    "from sklearn.model_selection import StratifiedKFold\n",
    "from sklearn.preprocessing import LabelEncoder, StandardScaler\n",
    "from sklearn.metrics import classification_report, confusion_matrix, accuracy_score, precision_recall_fscore_support\n",
    "\n",
    "# === Config ===\n",
    "FOLDS = 5\n",
    "EPOCHS = 15\n",
    "BATCH_SIZE = 8\n",
    "MODEL_NAME = \"indobenchmark/indobert-base-p1\"\n",
    "OUTPUT_DIR = \"results/V2_IndoBERT_Char\"\n",
    "SEED = 42\n",
    "os.makedirs(OUTPUT_DIR, exist_ok=True)\n",
    "\n",
    "# === Seed Control ===\n",
    "random.seed(SEED)\n",
    "np.random.seed(SEED)\n",
    "torch.manual_seed(SEED)\n",
    "torch.cuda.manual_seed_all(SEED)\n",
    "\n",
    "# === Load and preprocess data ===\n",
    "df = pd.read_csv(\"character_level.csv\")\n",
    "df[\"merged_text\"] = df[\"merged_text\"].fillna(\"\")\n",
    "\n",
    "# Encode labels\n",
    "label_encoder = LabelEncoder()\n",
    "labels = label_encoder.fit_transform(df[\"type\"])\n",
    "texts = df[\"merged_text\"].tolist()\n",
    "\n",
    "# === Normalize numeric features ===\n",
    "to_scale = [\"mention_count\", \"word_count\"]\n",
    "scaler = StandardScaler()\n",
    "df[to_scale] = scaler.fit_transform(df[to_scale])\n",
    "numeric_cols = [\"mention_count\", \"word_count\"]\n",
    "\n",
    "# === Compute class weights ===\n",
    "class_counts = np.bincount(labels)\n",
    "class_weights = len(labels) / (len(class_counts) * class_counts)\n",
    "class_weights_tensor = torch.tensor(class_weights, dtype=torch.float)\n",
    "\n",
    "# === Dataset ===\n",
    "class CharacterWithNumericDataset(Dataset):\n",
    "    def __init__(self, texts, labels, numeric_feats, tokenizer, max_len=128):\n",
    "        self.encodings = tokenizer(texts, truncation=True, padding=True, max_length=max_len)\n",
    "        self.labels = labels\n",
    "        self.numeric_feats = torch.tensor(numeric_feats, dtype=torch.float)\n",
    "\n",
    "    def __getitem__(self, idx):\n",
    "        item = {key: torch.tensor(val[idx]) for key, val in self.encodings.items()}\n",
    "        item[\"labels\"] = torch.tensor(self.labels[idx])\n",
    "        item[\"numeric_feats\"] = self.numeric_feats[idx]\n",
    "        return item\n",
    "\n",
    "    def __len__(self):\n",
    "        return len(self.labels)\n",
    "\n",
    "# === Model ===\n",
    "class BERTWithNumeric(nn.Module):\n",
    "    def __init__(self, model_name, num_labels, num_numeric_features, class_weights):\n",
    "        super().__init__()\n",
    "        self.bert = BertModel.from_pretrained(model_name)\n",
    "        self.dropout = nn.Dropout(0.3)\n",
    "        self.classifier = nn.Linear(self.bert.config.hidden_size + num_numeric_features, num_labels)\n",
    "        self.loss_fn = nn.CrossEntropyLoss(weight=class_weights)\n",
    "\n",
    "    def forward(self, input_ids, attention_mask, numeric_feats, labels=None):\n",
    "        bert_output = self.bert(input_ids=input_ids, attention_mask=attention_mask)\n",
    "        pooled_output = bert_output.pooler_output\n",
    "        combined = torch.cat((pooled_output, numeric_feats), dim=1)\n",
    "        logits = self.classifier(self.dropout(combined))\n",
    "\n",
    "        loss = None\n",
    "        if labels is not None:\n",
    "            loss = self.loss_fn(logits, labels)\n",
    "\n",
    "        return {\"loss\": loss, \"logits\": logits}\n",
    "\n",
    "# === Custom Collator ===\n",
    "class CustomCollator:\n",
    "    def __call__(self, batch):\n",
    "        input_ids = torch.stack([item[\"input_ids\"] for item in batch])\n",
    "        attention_mask = torch.stack([item[\"attention_mask\"] for item in batch])\n",
    "        labels = torch.stack([item[\"labels\"] for item in batch])\n",
    "        numeric_feats = torch.stack([item[\"numeric_feats\"] for item in batch])\n",
    "        return {\n",
    "            \"input_ids\": input_ids,\n",
    "            \"attention_mask\": attention_mask,\n",
    "            \"labels\": labels,\n",
    "            \"numeric_feats\": numeric_feats\n",
    "        }\n",
    "\n",
    "# === Metrics ===\n",
    "def compute_metrics(pred):\n",
    "    labels = pred.label_ids\n",
    "    preds = pred.predictions.argmax(-1)\n",
    "    precision, recall, f1, _ = precision_recall_fscore_support(labels, preds, average='macro')\n",
    "    acc = accuracy_score(labels, preds)\n",
    "    return {'accuracy': acc, 'f1': f1, 'precision': precision, 'recall': recall}\n",
    "\n",
    "# === Tokenizer ===\n",
    "tokenizer = AutoTokenizer.from_pretrained(MODEL_NAME)\n",
    "\n",
    "# === K-Fold CV ===\n",
    "skf = StratifiedKFold(n_splits=FOLDS, shuffle=True, random_state=SEED)\n",
    "fold_metrics = []\n",
    "cumulative_cm = np.zeros((3, 3), dtype=int)\n",
    "\n",
    "for fold, (train_idx, val_idx) in enumerate(skf.split(texts, labels)):\n",
    "    print(f\"\\n📚 Fold {fold + 1}/{FOLDS}\")\n",
    "\n",
    "    train_texts = [texts[i] for i in train_idx]\n",
    "    val_texts = [texts[i] for i in val_idx]\n",
    "    train_labels = [labels[i] for i in train_idx]\n",
    "    val_labels = [labels[i] for i in val_idx]\n",
    "\n",
    "    train_numeric = df.iloc[train_idx][numeric_cols].values\n",
    "    val_numeric = df.iloc[val_idx][numeric_cols].values\n",
    "\n",
    "    train_dataset = CharacterWithNumericDataset(train_texts, train_labels, train_numeric, tokenizer)\n",
    "    val_dataset = CharacterWithNumericDataset(val_texts, val_labels, val_numeric, tokenizer)\n",
    "\n",
    "    device = torch.device(\"cuda\" if torch.cuda.is_available() else \"cpu\")\n",
    "    model = BERTWithNumeric(MODEL_NAME, num_labels=3, num_numeric_features=2, class_weights=class_weights_tensor.to(device))\n",
    "\n",
    "    fold_dir = os.path.join(OUTPUT_DIR, f\"fold_{fold+1}\")\n",
    "    os.makedirs(fold_dir, exist_ok=True)\n",
    "\n",
    "    training_args = TrainingArguments(\n",
    "        output_dir=fold_dir,\n",
    "        num_train_epochs=EPOCHS,\n",
    "        per_device_train_batch_size=BATCH_SIZE,\n",
    "        per_device_eval_batch_size=BATCH_SIZE,\n",
    "        logging_dir=os.path.join(fold_dir, \"logs\"),\n",
    "        evaluation_strategy=\"epoch\",\n",
    "        save_strategy=\"epoch\",\n",
    "        load_best_model_at_end=True,\n",
    "        metric_for_best_model=\"f1\",\n",
    "        greater_is_better=True,\n",
    "        logging_steps=50,\n",
    "        disable_tqdm=True,\n",
    "        learning_rate=2e-5,\n",
    "        warmup_steps=100,\n",
    "        weight_decay=0.01,\n",
    "        seed=SEED\n",
    "    )\n",
    "\n",
    "    trainer = Trainer(\n",
    "        model=model,\n",
    "        args=training_args,\n",
    "        train_dataset=train_dataset,\n",
    "        eval_dataset=val_dataset,\n",
    "        data_collator=CustomCollator(),\n",
    "        compute_metrics=compute_metrics,\n",
    "        callbacks=[EarlyStoppingCallback(early_stopping_patience=2)]\n",
    "    )\n",
    "\n",
    "    trainer.train()\n",
    "\n",
    "    # Evaluate\n",
    "    predictions = trainer.predict(val_dataset)\n",
    "    preds = torch.argmax(torch.tensor(predictions.predictions), dim=1).numpy()\n",
    "    true_labels = np.array(val_labels)\n",
    "    pred_labels = preds\n",
    "\n",
    "    decoded_true = label_encoder.inverse_transform(true_labels)\n",
    "    decoded_pred = label_encoder.inverse_transform(pred_labels)\n",
    "\n",
    "    report = classification_report(decoded_true, decoded_pred, output_dict=True, digits=4)\n",
    "    report_df = pd.DataFrame(report).transpose()\n",
    "    report_df.to_csv(os.path.join(fold_dir, \"classification_report.csv\"))\n",
    "\n",
    "    cm = confusion_matrix(decoded_true, decoded_pred, labels=label_encoder.classes_)\n",
    "    cm_df = pd.DataFrame(cm, index=label_encoder.classes_, columns=label_encoder.classes_)\n",
    "    cumulative_cm += cm\n",
    "\n",
    "    plt.figure(figsize=(6, 5))\n",
    "    sns.heatmap(cm_df, annot=True, fmt='d', cmap='Blues')\n",
    "    plt.title(f\"Confusion Matrix - Fold {fold + 1} (IndoBERT V2 - Char Level)\")\n",
    "    plt.xlabel(\"Predicted\")\n",
    "    plt.ylabel(\"Actual\")\n",
    "    plt.tight_layout()\n",
    "    plt.savefig(os.path.join(fold_dir, \"confusion_matrix.png\"))\n",
    "    plt.close()\n",
    "\n",
    "    macro = report[\"macro avg\"]\n",
    "    fold_metrics.append({\n",
    "        \"Fold\": fold + 1,\n",
    "        \"Precision\": macro[\"precision\"],\n",
    "        \"Recall\": macro[\"recall\"],\n",
    "        \"F1\": macro[\"f1-score\"],\n",
    "        \"Accuracy\": accuracy_score(decoded_true, decoded_pred)\n",
    "    })\n",
    "\n",
    "# === Summary ===\n",
    "summary_df = pd.DataFrame(fold_metrics)\n",
    "summary_df.loc[\"Average\"] = summary_df.mean(numeric_only=True)\n",
    "summary_df.to_csv(os.path.join(OUTPUT_DIR, \"summary.csv\"), index=False)\n",
    "\n",
    "avg_cm = cumulative_cm // FOLDS\n",
    "avg_cm_df = pd.DataFrame(avg_cm, index=label_encoder.classes_, columns=label_encoder.classes_)\n",
    "plt.figure(figsize=(6, 5))\n",
    "sns.heatmap(avg_cm_df, annot=True, fmt='d', cmap='Purples')\n",
    "plt.title(\"Average Confusion Matrix (5-Fold - IndoBERT V2 - Char Level)\")\n",
    "plt.xlabel(\"Predicted\")\n",
    "plt.ylabel(\"Actual\")\n",
    "plt.tight_layout()\n",
    "plt.savefig(os.path.join(OUTPUT_DIR, \"average_confusion_matrix.png\"))\n",
    "plt.close()\n",
    "\n",
    "print(\"\\n✅ IndoBERT V2 character-level training complete. Results saved to:\", OUTPUT_DIR)\n",
    "print(summary_df)"
   ]
  },
  {
   "cell_type": "code",
   "execution_count": 2,
   "id": "e7d11a19",
   "metadata": {},
   "outputs": [
    {
     "name": "stdout",
     "output_type": "stream",
     "text": [
      "✅ Deleted 6 checkpoint folders in: results/V2_IndoBERT_Char\\fold_1\n",
      "✅ Deleted 6 checkpoint folders in: results/V2_IndoBERT_Char\\fold_2\n",
      "✅ Deleted 7 checkpoint folders in: results/V2_IndoBERT_Char\\fold_3\n",
      "✅ Deleted 7 checkpoint folders in: results/V2_IndoBERT_Char\\fold_4\n",
      "✅ Deleted 4 checkpoint folders in: results/V2_IndoBERT_Char\\fold_5\n"
     ]
    }
   ],
   "source": [
    "import os\n",
    "import shutil\n",
    "\n",
    "base_path = \"results/V2_IndoBERT_Char\"\n",
    "\n",
    "# Loop through each fold\n",
    "for i in range(1, 6):\n",
    "    fold_path = os.path.join(base_path, f\"fold_{i}\")\n",
    "    deleted = 0\n",
    "\n",
    "    # Delete folders that start with 'checkpoint'\n",
    "    for item in os.listdir(fold_path):\n",
    "        item_path = os.path.join(fold_path, item)\n",
    "        if os.path.isdir(item_path) and item.startswith(\"checkpoint\"):\n",
    "            try:\n",
    "                shutil.rmtree(item_path)\n",
    "                deleted += 1\n",
    "            except Exception as e:\n",
    "                print(f\"❌ Failed to delete {item_path}: {e}\")\n",
    "\n",
    "    print(f\"✅ Deleted {deleted} checkpoint folders in: {fold_path}\")\n"
   ]
  },
  {
   "cell_type": "markdown",
   "id": "ccdd9bc1",
   "metadata": {},
   "source": [
    "## V2: CahyaBERT merge text + numerical feature"
   ]
  },
  {
   "cell_type": "code",
   "execution_count": 1,
   "id": "a9e37395",
   "metadata": {},
   "outputs": [
    {
     "name": "stderr",
     "output_type": "stream",
     "text": [
      "c:\\Users\\rayssa\\Documents\\nusantara-character-classification\\.venv\\lib\\site-packages\\tqdm\\auto.py:21: TqdmWarning: IProgress not found. Please update jupyter and ipywidgets. See https://ipywidgets.readthedocs.io/en/stable/user_install.html\n",
      "  from .autonotebook import tqdm as notebook_tqdm\n"
     ]
    },
    {
     "name": "stdout",
     "output_type": "stream",
     "text": [
      "\n",
      "📚 Fold 1/5\n"
     ]
    },
    {
     "name": "stderr",
     "output_type": "stream",
     "text": [
      "c:\\Users\\rayssa\\Documents\\nusantara-character-classification\\.venv\\lib\\site-packages\\transformers\\training_args.py:1545: FutureWarning: `evaluation_strategy` is deprecated and will be removed in version 4.46 of 🤗 Transformers. Use `eval_strategy` instead\n",
      "  warnings.warn(\n",
      "c:\\Users\\rayssa\\Documents\\nusantara-character-classification\\.venv\\lib\\site-packages\\sklearn\\metrics\\_classification.py:1565: UndefinedMetricWarning: Precision is ill-defined and being set to 0.0 in labels with no predicted samples. Use `zero_division` parameter to control this behavior.\n",
      "  _warn_prf(average, modifier, f\"{metric.capitalize()} is\", len(result))\n"
     ]
    },
    {
     "name": "stdout",
     "output_type": "stream",
     "text": [
      "{'eval_loss': 1.1046069860458374, 'eval_accuracy': 0.358974358974359, 'eval_f1': 0.20023767082590613, 'eval_precision': 0.4473684210526316, 'eval_recall': 0.34920634920634924, 'eval_runtime': 0.2016, 'eval_samples_per_second': 193.454, 'eval_steps_per_second': 24.802, 'epoch': 1.0}\n"
     ]
    },
    {
     "name": "stderr",
     "output_type": "stream",
     "text": [
      "c:\\Users\\rayssa\\Documents\\nusantara-character-classification\\.venv\\lib\\site-packages\\sklearn\\metrics\\_classification.py:1565: UndefinedMetricWarning: Precision is ill-defined and being set to 0.0 in labels with no predicted samples. Use `zero_division` parameter to control this behavior.\n",
      "  _warn_prf(average, modifier, f\"{metric.capitalize()} is\", len(result))\n"
     ]
    },
    {
     "name": "stdout",
     "output_type": "stream",
     "text": [
      "{'eval_loss': 1.0538806915283203, 'eval_accuracy': 0.5641025641025641, 'eval_f1': 0.3701814058956916, 'eval_precision': 0.3538961038961039, 'eval_recall': 0.398046398046398, 'eval_runtime': 0.1827, 'eval_samples_per_second': 213.487, 'eval_steps_per_second': 27.37, 'epoch': 2.0}\n",
      "{'loss': 1.0881, 'grad_norm': 7.813492774963379, 'learning_rate': 1e-05, 'epoch': 2.6315789473684212}\n",
      "{'eval_loss': 1.0177555084228516, 'eval_accuracy': 0.5128205128205128, 'eval_f1': 0.47719298245614034, 'eval_precision': 0.4862745098039216, 'eval_recall': 0.4776556776556777, 'eval_runtime': 0.1812, 'eval_samples_per_second': 215.187, 'eval_steps_per_second': 27.588, 'epoch': 3.0}\n",
      "{'eval_loss': 0.9971977472305298, 'eval_accuracy': 0.5897435897435898, 'eval_f1': 0.4795434969853574, 'eval_precision': 0.4963924963924964, 'eval_recall': 0.4744810744810744, 'eval_runtime': 0.2051, 'eval_samples_per_second': 190.136, 'eval_steps_per_second': 24.376, 'epoch': 4.0}\n",
      "{'eval_loss': 0.9385798573493958, 'eval_accuracy': 0.5641025641025641, 'eval_f1': 0.5235209235209236, 'eval_precision': 0.5523809523809523, 'eval_recall': 0.528937728937729, 'eval_runtime': 0.181, 'eval_samples_per_second': 215.495, 'eval_steps_per_second': 27.628, 'epoch': 5.0}\n",
      "{'loss': 0.7084, 'grad_norm': 7.571972370147705, 'learning_rate': 2e-05, 'epoch': 5.2631578947368425}\n",
      "{'eval_loss': 1.1671258211135864, 'eval_accuracy': 0.5641025641025641, 'eval_f1': 0.5199049316696375, 'eval_precision': 0.5595238095238095, 'eval_recall': 0.5387057387057387, 'eval_runtime': 0.1778, 'eval_samples_per_second': 219.358, 'eval_steps_per_second': 28.123, 'epoch': 6.0}\n",
      "{'eval_loss': 1.4209628105163574, 'eval_accuracy': 0.6153846153846154, 'eval_f1': 0.5705128205128206, 'eval_precision': 0.5598611914401389, 'eval_recall': 0.591941391941392, 'eval_runtime': 0.1716, 'eval_samples_per_second': 227.254, 'eval_steps_per_second': 29.135, 'epoch': 7.0}\n",
      "{'loss': 0.1284, 'grad_norm': 0.2394743710756302, 'learning_rate': 1.4594594594594596e-05, 'epoch': 7.894736842105263}\n",
      "{'eval_loss': 2.093670606613159, 'eval_accuracy': 0.48717948717948717, 'eval_f1': 0.4207516339869281, 'eval_precision': 0.47763347763347763, 'eval_recall': 0.43052503052503055, 'eval_runtime': 0.1801, 'eval_samples_per_second': 216.536, 'eval_steps_per_second': 27.761, 'epoch': 8.0}\n",
      "{'eval_loss': 1.742852807044983, 'eval_accuracy': 0.5897435897435898, 'eval_f1': 0.5337763012181617, 'eval_precision': 0.5155723905723906, 'eval_recall': 0.5975579975579975, 'eval_runtime': 0.1561, 'eval_samples_per_second': 249.913, 'eval_steps_per_second': 32.04, 'epoch': 9.0}\n",
      "{'train_runtime': 32.7091, 'train_samples_per_second': 69.705, 'train_steps_per_second': 8.713, 'train_loss': 0.5644804228816116, 'epoch': 9.0}\n",
      "\n",
      "📚 Fold 2/5\n"
     ]
    },
    {
     "name": "stderr",
     "output_type": "stream",
     "text": [
      "c:\\Users\\rayssa\\Documents\\nusantara-character-classification\\.venv\\lib\\site-packages\\transformers\\training_args.py:1545: FutureWarning: `evaluation_strategy` is deprecated and will be removed in version 4.46 of 🤗 Transformers. Use `eval_strategy` instead\n",
      "  warnings.warn(\n"
     ]
    },
    {
     "name": "stdout",
     "output_type": "stream",
     "text": [
      "{'eval_loss': 1.0941054821014404, 'eval_accuracy': 0.39473684210526316, 'eval_f1': 0.336024336024336, 'eval_precision': 0.34722222222222215, 'eval_recall': 0.3365079365079365, 'eval_runtime': 0.2034, 'eval_samples_per_second': 186.781, 'eval_steps_per_second': 24.576, 'epoch': 1.0}\n"
     ]
    },
    {
     "name": "stderr",
     "output_type": "stream",
     "text": [
      "c:\\Users\\rayssa\\Documents\\nusantara-character-classification\\.venv\\lib\\site-packages\\sklearn\\metrics\\_classification.py:1565: UndefinedMetricWarning: Precision is ill-defined and being set to 0.0 in labels with no predicted samples. Use `zero_division` parameter to control this behavior.\n",
      "  _warn_prf(average, modifier, f\"{metric.capitalize()} is\", len(result))\n"
     ]
    },
    {
     "name": "stdout",
     "output_type": "stream",
     "text": [
      "{'eval_loss': 1.0725644826889038, 'eval_accuracy': 0.5263157894736842, 'eval_f1': 0.37625861155272916, 'eval_precision': 0.38974358974358975, 'eval_recall': 0.4365079365079365, 'eval_runtime': 0.1886, 'eval_samples_per_second': 201.454, 'eval_steps_per_second': 26.507, 'epoch': 2.0}\n",
      "{'loss': 1.1085, 'grad_norm': 10.08932876586914, 'learning_rate': 1e-05, 'epoch': 2.5}\n",
      "{'eval_loss': 1.0339330434799194, 'eval_accuracy': 0.47368421052631576, 'eval_f1': 0.3263246425567704, 'eval_precision': 0.31470588235294117, 'eval_recall': 0.3452380952380953, 'eval_runtime': 0.172, 'eval_samples_per_second': 220.976, 'eval_steps_per_second': 29.076, 'epoch': 3.0}\n",
      "{'eval_loss': 0.9434431195259094, 'eval_accuracy': 0.6578947368421053, 'eval_f1': 0.5939571150097466, 'eval_precision': 0.6170634920634921, 'eval_recall': 0.6087301587301587, 'eval_runtime': 0.17, 'eval_samples_per_second': 223.497, 'eval_steps_per_second': 29.408, 'epoch': 4.0}\n",
      "{'loss': 0.7854, 'grad_norm': 9.894837379455566, 'learning_rate': 2e-05, 'epoch': 5.0}\n",
      "{'eval_loss': 0.8325425982475281, 'eval_accuracy': 0.6578947368421053, 'eval_f1': 0.5939571150097466, 'eval_precision': 0.6170634920634921, 'eval_recall': 0.6087301587301587, 'eval_runtime': 0.1359, 'eval_samples_per_second': 279.596, 'eval_steps_per_second': 36.789, 'epoch': 5.0}\n",
      "{'eval_loss': 0.885808527469635, 'eval_accuracy': 0.7368421052631579, 'eval_f1': 0.691725768321513, 'eval_precision': 0.7435897435897436, 'eval_recall': 0.6682539682539682, 'eval_runtime': 0.1516, 'eval_samples_per_second': 250.704, 'eval_steps_per_second': 32.987, 'epoch': 6.0}\n",
      "{'eval_loss': 1.4471194744110107, 'eval_accuracy': 0.631578947368421, 'eval_f1': 0.5191285403050109, 'eval_precision': 0.5850574712643678, 'eval_recall': 0.5182539682539683, 'eval_runtime': 0.1407, 'eval_samples_per_second': 269.994, 'eval_steps_per_second': 35.526, 'epoch': 7.0}\n",
      "{'loss': 0.1716, 'grad_norm': 6.960962295532227, 'learning_rate': 1.5000000000000002e-05, 'epoch': 7.5}\n",
      "{'eval_loss': 1.5927931070327759, 'eval_accuracy': 0.6578947368421053, 'eval_f1': 0.5353535353535354, 'eval_precision': 0.5519323671497585, 'eval_recall': 0.530952380952381, 'eval_runtime': 0.1949, 'eval_samples_per_second': 194.961, 'eval_steps_per_second': 25.653, 'epoch': 8.0}\n",
      "{'train_runtime': 29.1838, 'train_samples_per_second': 78.64, 'train_steps_per_second': 10.28, 'train_loss': 0.647536699846387, 'epoch': 8.0}\n",
      "\n",
      "📚 Fold 3/5\n"
     ]
    },
    {
     "name": "stderr",
     "output_type": "stream",
     "text": [
      "c:\\Users\\rayssa\\Documents\\nusantara-character-classification\\.venv\\lib\\site-packages\\transformers\\training_args.py:1545: FutureWarning: `evaluation_strategy` is deprecated and will be removed in version 4.46 of 🤗 Transformers. Use `eval_strategy` instead\n",
      "  warnings.warn(\n"
     ]
    },
    {
     "name": "stdout",
     "output_type": "stream",
     "text": [
      "{'eval_loss': 1.0792983770370483, 'eval_accuracy': 0.3684210526315789, 'eval_f1': 0.3625005441643812, 'eval_precision': 0.4222222222222222, 'eval_recall': 0.5119047619047619, 'eval_runtime': 0.193, 'eval_samples_per_second': 196.869, 'eval_steps_per_second': 25.904, 'epoch': 1.0}\n",
      "{'eval_loss': 1.0480180978775024, 'eval_accuracy': 0.5526315789473685, 'eval_f1': 0.38183347350714886, 'eval_precision': 0.36764705882352944, 'eval_recall': 0.4047619047619048, 'eval_runtime': 0.1746, 'eval_samples_per_second': 217.687, 'eval_steps_per_second': 28.643, 'epoch': 2.0}\n",
      "{'loss': 1.0826, 'grad_norm': 8.097698211669922, 'learning_rate': 1e-05, 'epoch': 2.5}\n"
     ]
    },
    {
     "name": "stderr",
     "output_type": "stream",
     "text": [
      "c:\\Users\\rayssa\\Documents\\nusantara-character-classification\\.venv\\lib\\site-packages\\sklearn\\metrics\\_classification.py:1565: UndefinedMetricWarning: Precision is ill-defined and being set to 0.0 in labels with no predicted samples. Use `zero_division` parameter to control this behavior.\n",
      "  _warn_prf(average, modifier, f\"{metric.capitalize()} is\", len(result))\n"
     ]
    },
    {
     "name": "stdout",
     "output_type": "stream",
     "text": [
      "{'eval_loss': 0.972531795501709, 'eval_accuracy': 0.5789473684210527, 'eval_f1': 0.3810386473429952, 'eval_precision': 0.361391694725028, 'eval_recall': 0.4087301587301588, 'eval_runtime': 0.191, 'eval_samples_per_second': 198.926, 'eval_steps_per_second': 26.175, 'epoch': 3.0}\n",
      "{'eval_loss': 0.8803847432136536, 'eval_accuracy': 0.6842105263157895, 'eval_f1': 0.5777777777777778, 'eval_precision': 0.7807017543859649, 'eval_recall': 0.5706349206349206, 'eval_runtime': 0.1782, 'eval_samples_per_second': 213.206, 'eval_steps_per_second': 28.053, 'epoch': 4.0}\n",
      "{'loss': 0.8119, 'grad_norm': 12.16065502166748, 'learning_rate': 2e-05, 'epoch': 5.0}\n",
      "{'eval_loss': 0.7154113054275513, 'eval_accuracy': 0.6578947368421053, 'eval_f1': 0.6290143964562569, 'eval_precision': 0.6180856180856181, 'eval_recall': 0.6595238095238095, 'eval_runtime': 0.0957, 'eval_samples_per_second': 397.021, 'eval_steps_per_second': 52.24, 'epoch': 5.0}\n",
      "{'eval_loss': 0.8164384961128235, 'eval_accuracy': 0.7105263157894737, 'eval_f1': 0.7150793650793651, 'eval_precision': 0.7150793650793651, 'eval_recall': 0.7150793650793651, 'eval_runtime': 0.1758, 'eval_samples_per_second': 216.126, 'eval_steps_per_second': 28.438, 'epoch': 6.0}\n",
      "{'eval_loss': 1.1051162481307983, 'eval_accuracy': 0.7105263157894737, 'eval_f1': 0.6904761904761904, 'eval_precision': 0.6908212560386473, 'eval_recall': 0.7031746031746032, 'eval_runtime': 0.1702, 'eval_samples_per_second': 223.268, 'eval_steps_per_second': 29.377, 'epoch': 7.0}\n",
      "{'loss': 0.1826, 'grad_norm': 0.49094316363334656, 'learning_rate': 1.5000000000000002e-05, 'epoch': 7.5}\n",
      "{'eval_loss': 1.4909545183181763, 'eval_accuracy': 0.7105263157894737, 'eval_f1': 0.6942028985507247, 'eval_precision': 0.715, 'eval_recall': 0.6912698412698411, 'eval_runtime': 0.1561, 'eval_samples_per_second': 243.369, 'eval_steps_per_second': 32.022, 'epoch': 8.0}\n",
      "{'train_runtime': 29.522, 'train_samples_per_second': 77.739, 'train_steps_per_second': 10.162, 'train_loss': 0.6500103355385363, 'epoch': 8.0}\n",
      "\n",
      "📚 Fold 4/5\n"
     ]
    },
    {
     "name": "stderr",
     "output_type": "stream",
     "text": [
      "c:\\Users\\rayssa\\Documents\\nusantara-character-classification\\.venv\\lib\\site-packages\\transformers\\training_args.py:1545: FutureWarning: `evaluation_strategy` is deprecated and will be removed in version 4.46 of 🤗 Transformers. Use `eval_strategy` instead\n",
      "  warnings.warn(\n"
     ]
    },
    {
     "name": "stdout",
     "output_type": "stream",
     "text": [
      "{'eval_loss': 1.0947870016098022, 'eval_accuracy': 0.4473684210526316, 'eval_f1': 0.40321769733534435, 'eval_precision': 0.5023809523809524, 'eval_recall': 0.4968253968253969, 'eval_runtime': 0.1823, 'eval_samples_per_second': 208.5, 'eval_steps_per_second': 27.434, 'epoch': 1.0}\n",
      "{'eval_loss': 1.0683311223983765, 'eval_accuracy': 0.6052631578947368, 'eval_f1': 0.43747893495112905, 'eval_precision': 0.4393939393939394, 'eval_recall': 0.4365079365079365, 'eval_runtime': 0.1398, 'eval_samples_per_second': 271.839, 'eval_steps_per_second': 35.768, 'epoch': 2.0}\n",
      "{'loss': 1.0786, 'grad_norm': 9.678706169128418, 'learning_rate': 1e-05, 'epoch': 2.5}\n"
     ]
    },
    {
     "name": "stderr",
     "output_type": "stream",
     "text": [
      "c:\\Users\\rayssa\\Documents\\nusantara-character-classification\\.venv\\lib\\site-packages\\sklearn\\metrics\\_classification.py:1565: UndefinedMetricWarning: Precision is ill-defined and being set to 0.0 in labels with no predicted samples. Use `zero_division` parameter to control this behavior.\n",
      "  _warn_prf(average, modifier, f\"{metric.capitalize()} is\", len(result))\n"
     ]
    },
    {
     "name": "stdout",
     "output_type": "stream",
     "text": [
      "{'eval_loss': 1.0376487970352173, 'eval_accuracy': 0.6052631578947368, 'eval_f1': 0.4300903774587985, 'eval_precision': 0.4136321195144725, 'eval_recall': 0.4841269841269842, 'eval_runtime': 0.1644, 'eval_samples_per_second': 231.155, 'eval_steps_per_second': 30.415, 'epoch': 3.0}\n",
      "{'eval_loss': 1.041115164756775, 'eval_accuracy': 0.5, 'eval_f1': 0.44095532950022115, 'eval_precision': 0.5174019607843138, 'eval_recall': 0.4896825396825397, 'eval_runtime': 0.1662, 'eval_samples_per_second': 228.631, 'eval_steps_per_second': 30.083, 'epoch': 4.0}\n",
      "{'loss': 0.767, 'grad_norm': 7.554291725158691, 'learning_rate': 2e-05, 'epoch': 5.0}\n",
      "{'eval_loss': 1.138381004333496, 'eval_accuracy': 0.5526315789473685, 'eval_f1': 0.49112749112749104, 'eval_precision': 0.73, 'eval_recall': 0.515079365079365, 'eval_runtime': 0.1238, 'eval_samples_per_second': 307.021, 'eval_steps_per_second': 40.398, 'epoch': 5.0}\n",
      "{'eval_loss': 1.3334976434707642, 'eval_accuracy': 0.5526315789473685, 'eval_f1': 0.4923747276688453, 'eval_precision': 0.7070707070707071, 'eval_recall': 0.5031746031746032, 'eval_runtime': 0.1619, 'eval_samples_per_second': 234.764, 'eval_steps_per_second': 30.89, 'epoch': 6.0}\n",
      "{'eval_loss': 1.7458575963974, 'eval_accuracy': 0.5789473684210527, 'eval_f1': 0.5009620009620009, 'eval_precision': 0.5698412698412699, 'eval_recall': 0.5190476190476191, 'eval_runtime': 0.1303, 'eval_samples_per_second': 291.664, 'eval_steps_per_second': 38.377, 'epoch': 7.0}\n",
      "{'loss': 0.1441, 'grad_norm': 1.062279462814331, 'learning_rate': 1.5000000000000002e-05, 'epoch': 7.5}\n",
      "{'eval_loss': 2.179824113845825, 'eval_accuracy': 0.6052631578947368, 'eval_f1': 0.5268817204301075, 'eval_precision': 0.7319688109161794, 'eval_recall': 0.523015873015873, 'eval_runtime': 0.1474, 'eval_samples_per_second': 257.728, 'eval_steps_per_second': 33.912, 'epoch': 8.0}\n",
      "{'eval_loss': 2.365497350692749, 'eval_accuracy': 0.5789473684210527, 'eval_f1': 0.49309793664632373, 'eval_precision': 0.5190058479532164, 'eval_recall': 0.5071428571428571, 'eval_runtime': 0.1403, 'eval_samples_per_second': 270.927, 'eval_steps_per_second': 35.648, 'epoch': 9.0}\n",
      "{'loss': 0.0206, 'grad_norm': 0.03641453757882118, 'learning_rate': 1e-05, 'epoch': 10.0}\n",
      "{'eval_loss': 2.4768714904785156, 'eval_accuracy': 0.6842105263157895, 'eval_f1': 0.5813953488372093, 'eval_precision': 0.7757575757575758, 'eval_recall': 0.5706349206349206, 'eval_runtime': 0.1236, 'eval_samples_per_second': 307.497, 'eval_steps_per_second': 40.46, 'epoch': 10.0}\n",
      "{'eval_loss': 2.476294994354248, 'eval_accuracy': 0.6578947368421053, 'eval_f1': 0.5634920634920636, 'eval_precision': 0.7589285714285715, 'eval_recall': 0.5547619047619048, 'eval_runtime': 0.1589, 'eval_samples_per_second': 239.156, 'eval_steps_per_second': 31.468, 'epoch': 11.0}\n",
      "{'eval_loss': 2.6736907958984375, 'eval_accuracy': 0.5789473684210527, 'eval_f1': 0.4989543114543114, 'eval_precision': 0.5666666666666667, 'eval_recall': 0.5071428571428571, 'eval_runtime': 0.1559, 'eval_samples_per_second': 243.823, 'eval_steps_per_second': 32.082, 'epoch': 12.0}\n",
      "{'train_runtime': 43.1238, 'train_samples_per_second': 53.219, 'train_steps_per_second': 6.957, 'train_loss': 0.41976104285568, 'epoch': 12.0}\n",
      "\n",
      "📚 Fold 5/5\n"
     ]
    },
    {
     "name": "stderr",
     "output_type": "stream",
     "text": [
      "c:\\Users\\rayssa\\Documents\\nusantara-character-classification\\.venv\\lib\\site-packages\\transformers\\training_args.py:1545: FutureWarning: `evaluation_strategy` is deprecated and will be removed in version 4.46 of 🤗 Transformers. Use `eval_strategy` instead\n",
      "  warnings.warn(\n",
      "c:\\Users\\rayssa\\Documents\\nusantara-character-classification\\.venv\\lib\\site-packages\\sklearn\\metrics\\_classification.py:1565: UndefinedMetricWarning: Precision is ill-defined and being set to 0.0 in labels with no predicted samples. Use `zero_division` parameter to control this behavior.\n",
      "  _warn_prf(average, modifier, f\"{metric.capitalize()} is\", len(result))\n"
     ]
    },
    {
     "name": "stdout",
     "output_type": "stream",
     "text": [
      "{'eval_loss': 1.0976380109786987, 'eval_accuracy': 0.5526315789473685, 'eval_f1': 0.31299927378358755, 'eval_precision': 0.35294117647058826, 'eval_recall': 0.367948717948718, 'eval_runtime': 0.1596, 'eval_samples_per_second': 238.039, 'eval_steps_per_second': 31.321, 'epoch': 1.0}\n"
     ]
    },
    {
     "name": "stderr",
     "output_type": "stream",
     "text": [
      "c:\\Users\\rayssa\\Documents\\nusantara-character-classification\\.venv\\lib\\site-packages\\sklearn\\metrics\\_classification.py:1565: UndefinedMetricWarning: Precision is ill-defined and being set to 0.0 in labels with no predicted samples. Use `zero_division` parameter to control this behavior.\n",
      "  _warn_prf(average, modifier, f\"{metric.capitalize()} is\", len(result))\n"
     ]
    },
    {
     "name": "stdout",
     "output_type": "stream",
     "text": [
      "{'eval_loss': 1.0806934833526611, 'eval_accuracy': 0.5526315789473685, 'eval_f1': 0.38888888888888884, 'eval_precision': 0.3684210526315789, 'eval_recall': 0.4217948717948718, 'eval_runtime': 0.1601, 'eval_samples_per_second': 237.346, 'eval_steps_per_second': 31.23, 'epoch': 2.0}\n",
      "{'loss': 1.0706, 'grad_norm': 9.18968391418457, 'learning_rate': 1e-05, 'epoch': 2.5}\n",
      "{'eval_loss': 1.0886441469192505, 'eval_accuracy': 0.5, 'eval_f1': 0.34545454545454546, 'eval_precision': 0.3333333333333333, 'eval_recall': 0.36153846153846153, 'eval_runtime': 0.1618, 'eval_samples_per_second': 234.858, 'eval_steps_per_second': 30.902, 'epoch': 3.0}\n",
      "{'eval_loss': 1.0964604616165161, 'eval_accuracy': 0.5789473684210527, 'eval_f1': 0.4789473684210526, 'eval_precision': 0.48148148148148157, 'eval_recall': 0.4794871794871794, 'eval_runtime': 0.1363, 'eval_samples_per_second': 278.822, 'eval_steps_per_second': 36.687, 'epoch': 4.0}\n",
      "{'loss': 0.7434, 'grad_norm': 55.206424713134766, 'learning_rate': 2e-05, 'epoch': 5.0}\n",
      "{'eval_loss': 1.283142328262329, 'eval_accuracy': 0.5789473684210527, 'eval_f1': 0.549049049049049, 'eval_precision': 0.5406162464985994, 'eval_recall': 0.5705128205128206, 'eval_runtime': 0.1179, 'eval_samples_per_second': 322.246, 'eval_steps_per_second': 42.401, 'epoch': 5.0}\n",
      "{'eval_loss': 1.473435401916504, 'eval_accuracy': 0.5526315789473685, 'eval_f1': 0.5132275132275133, 'eval_precision': 0.5280701754385965, 'eval_recall': 0.5038461538461538, 'eval_runtime': 0.147, 'eval_samples_per_second': 258.521, 'eval_steps_per_second': 34.016, 'epoch': 6.0}\n",
      "{'eval_loss': 2.125235080718994, 'eval_accuracy': 0.5, 'eval_f1': 0.3333333333333333, 'eval_precision': 0.32564102564102565, 'eval_recall': 0.3525641025641026, 'eval_runtime': 0.1608, 'eval_samples_per_second': 236.32, 'eval_steps_per_second': 31.095, 'epoch': 7.0}\n",
      "{'train_runtime': 25.1446, 'train_samples_per_second': 91.272, 'train_steps_per_second': 11.931, 'train_loss': 0.7211836065564837, 'epoch': 7.0}\n",
      "\n",
      "✅ CahyaBERT V2 character-level training complete. Results saved to: results/V2_CahyaBERT_Char\n",
      "\n",
      "📊 Final Evaluation Summary (Average Across Folds):\n",
      "\n",
      "Precision    0.6670\n",
      "Recall       0.6233\n",
      "F1           0.6216\n",
      "Accuracy     0.6652\n",
      "Name: Average, dtype: float64\n"
     ]
    }
   ],
   "source": [
    "# === IndoBERT V2: Character-Level (Merged Text + Numeric) ===\n",
    "\n",
    "import os\n",
    "import pandas as pd\n",
    "import torch\n",
    "import numpy as np\n",
    "import random\n",
    "import matplotlib.pyplot as plt\n",
    "import seaborn as sns\n",
    "\n",
    "from torch.utils.data import Dataset\n",
    "from transformers import AutoTokenizer, Trainer, TrainingArguments, EarlyStoppingCallback\n",
    "from transformers import BertModel\n",
    "import torch.nn as nn\n",
    "from sklearn.model_selection import StratifiedKFold\n",
    "from sklearn.preprocessing import LabelEncoder, StandardScaler\n",
    "from sklearn.metrics import classification_report, confusion_matrix, accuracy_score, precision_recall_fscore_support\n",
    "\n",
    "# === Config ===\n",
    "FOLDS = 5\n",
    "EPOCHS = 15\n",
    "BATCH_SIZE = 8\n",
    "MODEL_NAME = \"cahya/bert-base-indonesian-1.5G\"\n",
    "OUTPUT_DIR = \"results/V2_CahyaBERT_Char\"\n",
    "SEED = 42\n",
    "os.makedirs(OUTPUT_DIR, exist_ok=True)\n",
    "\n",
    "# === Seed Control ===\n",
    "random.seed(SEED)\n",
    "np.random.seed(SEED)\n",
    "torch.manual_seed(SEED)\n",
    "torch.cuda.manual_seed_all(SEED)\n",
    "\n",
    "# === Load and preprocess data ===\n",
    "df = pd.read_csv(\"character_level.csv\")\n",
    "df[\"merged_text\"] = df[\"merged_text\"].fillna(\"\")\n",
    "\n",
    "# Encode labels\n",
    "label_encoder = LabelEncoder()\n",
    "labels = label_encoder.fit_transform(df[\"type\"])\n",
    "texts = df[\"merged_text\"].tolist()\n",
    "\n",
    "# === Normalize numeric features ===\n",
    "to_scale = [\"mention_count\", \"word_count\"]\n",
    "scaler = StandardScaler()\n",
    "df[to_scale] = scaler.fit_transform(df[to_scale])\n",
    "numeric_cols = [\"mention_count\", \"word_count\"]\n",
    "\n",
    "# === Compute class weights ===\n",
    "class_counts = np.bincount(labels)\n",
    "class_weights = len(labels) / (len(class_counts) * class_counts)\n",
    "class_weights_tensor = torch.tensor(class_weights, dtype=torch.float)\n",
    "\n",
    "# === Dataset ===\n",
    "class CharacterWithNumericDataset(Dataset):\n",
    "    def __init__(self, texts, labels, numeric_feats, tokenizer, max_len=128):\n",
    "        self.encodings = tokenizer(texts, truncation=True, padding=True, max_length=max_len)\n",
    "        self.labels = labels\n",
    "        self.numeric_feats = torch.tensor(numeric_feats, dtype=torch.float)\n",
    "\n",
    "    def __getitem__(self, idx):\n",
    "        item = {key: torch.tensor(val[idx]) for key, val in self.encodings.items()}\n",
    "        item[\"labels\"] = torch.tensor(self.labels[idx])\n",
    "        item[\"numeric_feats\"] = self.numeric_feats[idx]\n",
    "        return item\n",
    "\n",
    "    def __len__(self):\n",
    "        return len(self.labels)\n",
    "\n",
    "# === Model ===\n",
    "class BERTWithNumeric(nn.Module):\n",
    "    def __init__(self, model_name, num_labels, num_numeric_features, class_weights):\n",
    "        super().__init__()\n",
    "        self.bert = BertModel.from_pretrained(model_name)\n",
    "        self.dropout = nn.Dropout(0.3)\n",
    "        self.classifier = nn.Linear(self.bert.config.hidden_size + num_numeric_features, num_labels)\n",
    "        self.loss_fn = nn.CrossEntropyLoss(weight=class_weights)\n",
    "\n",
    "    def forward(self, input_ids, attention_mask, numeric_feats, labels=None):\n",
    "        bert_output = self.bert(input_ids=input_ids, attention_mask=attention_mask)\n",
    "        pooled_output = bert_output.pooler_output\n",
    "        combined = torch.cat((pooled_output, numeric_feats), dim=1)\n",
    "        logits = self.classifier(self.dropout(combined))\n",
    "\n",
    "        loss = None\n",
    "        if labels is not None:\n",
    "            loss = self.loss_fn(logits, labels)\n",
    "\n",
    "        return {\"loss\": loss, \"logits\": logits}\n",
    "\n",
    "# === Custom Collator ===\n",
    "class CustomCollator:\n",
    "    def __call__(self, batch):\n",
    "        input_ids = torch.stack([item[\"input_ids\"] for item in batch])\n",
    "        attention_mask = torch.stack([item[\"attention_mask\"] for item in batch])\n",
    "        labels = torch.stack([item[\"labels\"] for item in batch])\n",
    "        numeric_feats = torch.stack([item[\"numeric_feats\"] for item in batch])\n",
    "        return {\n",
    "            \"input_ids\": input_ids,\n",
    "            \"attention_mask\": attention_mask,\n",
    "            \"labels\": labels,\n",
    "            \"numeric_feats\": numeric_feats\n",
    "        }\n",
    "\n",
    "# === Metrics ===\n",
    "def compute_metrics(pred):\n",
    "    labels = pred.label_ids\n",
    "    preds = pred.predictions.argmax(-1)\n",
    "    precision, recall, f1, _ = precision_recall_fscore_support(labels, preds, average='macro')\n",
    "    acc = accuracy_score(labels, preds)\n",
    "    return {'accuracy': acc, 'f1': f1, 'precision': precision, 'recall': recall}\n",
    "\n",
    "# === Tokenizer ===\n",
    "tokenizer = AutoTokenizer.from_pretrained(MODEL_NAME)\n",
    "\n",
    "# === K-Fold CV ===\n",
    "skf = StratifiedKFold(n_splits=FOLDS, shuffle=True, random_state=SEED)\n",
    "fold_metrics = []\n",
    "cumulative_cm = np.zeros((3, 3), dtype=int)\n",
    "\n",
    "for fold, (train_idx, val_idx) in enumerate(skf.split(texts, labels)):\n",
    "    print(f\"\\n📚 Fold {fold + 1}/{FOLDS}\")\n",
    "\n",
    "    train_texts = [texts[i] for i in train_idx]\n",
    "    val_texts = [texts[i] for i in val_idx]\n",
    "    train_labels = [labels[i] for i in train_idx]\n",
    "    val_labels = [labels[i] for i in val_idx]\n",
    "\n",
    "    train_numeric = df.iloc[train_idx][numeric_cols].values\n",
    "    val_numeric = df.iloc[val_idx][numeric_cols].values\n",
    "\n",
    "    train_dataset = CharacterWithNumericDataset(train_texts, train_labels, train_numeric, tokenizer)\n",
    "    val_dataset = CharacterWithNumericDataset(val_texts, val_labels, val_numeric, tokenizer)\n",
    "\n",
    "    device = torch.device(\"cuda\" if torch.cuda.is_available() else \"cpu\")\n",
    "    model = BERTWithNumeric(MODEL_NAME, num_labels=3, num_numeric_features=2, class_weights=class_weights_tensor.to(device))\n",
    "\n",
    "    fold_dir = os.path.join(OUTPUT_DIR, f\"fold_{fold+1}\")\n",
    "    os.makedirs(fold_dir, exist_ok=True)\n",
    "\n",
    "    training_args = TrainingArguments(\n",
    "        output_dir=fold_dir,\n",
    "        num_train_epochs=EPOCHS,\n",
    "        per_device_train_batch_size=BATCH_SIZE,\n",
    "        per_device_eval_batch_size=BATCH_SIZE,\n",
    "        logging_dir=os.path.join(fold_dir, \"logs\"),\n",
    "        evaluation_strategy=\"epoch\",\n",
    "        save_strategy=\"epoch\",\n",
    "        load_best_model_at_end=True,\n",
    "        metric_for_best_model=\"f1\",\n",
    "        greater_is_better=True,\n",
    "        logging_steps=50,\n",
    "        disable_tqdm=True,\n",
    "        learning_rate=2e-5,\n",
    "        warmup_steps=100,\n",
    "        weight_decay=0.01,\n",
    "        seed=SEED\n",
    "    )\n",
    "\n",
    "    trainer = Trainer(\n",
    "        model=model,\n",
    "        args=training_args,\n",
    "        train_dataset=train_dataset,\n",
    "        eval_dataset=val_dataset,\n",
    "        data_collator=CustomCollator(),\n",
    "        compute_metrics=compute_metrics,\n",
    "        callbacks=[EarlyStoppingCallback(early_stopping_patience=2)]\n",
    "    )\n",
    "\n",
    "    trainer.train()\n",
    "\n",
    "    # Evaluate\n",
    "    predictions = trainer.predict(val_dataset)\n",
    "    preds = torch.argmax(torch.tensor(predictions.predictions), dim=1).numpy()\n",
    "    true_labels = np.array(val_labels)\n",
    "    pred_labels = preds\n",
    "\n",
    "    decoded_true = label_encoder.inverse_transform(true_labels)\n",
    "    decoded_pred = label_encoder.inverse_transform(pred_labels)\n",
    "\n",
    "    report = classification_report(decoded_true, decoded_pred, output_dict=True, digits=4)\n",
    "    report_df = pd.DataFrame(report).transpose()\n",
    "    report_df.to_csv(os.path.join(fold_dir, \"classification_report.csv\"))\n",
    "\n",
    "    cm = confusion_matrix(decoded_true, decoded_pred, labels=label_encoder.classes_)\n",
    "    cm_df = pd.DataFrame(cm, index=label_encoder.classes_, columns=label_encoder.classes_)\n",
    "    cumulative_cm += cm\n",
    "\n",
    "    plt.figure(figsize=(6, 5))\n",
    "    sns.heatmap(cm_df, annot=True, fmt='d', cmap='Blues')\n",
    "    plt.title(f\"Confusion Matrix - Fold {fold + 1} (CahyaBERT V2 - Char Level)\")\n",
    "    plt.xlabel(\"Predicted\")\n",
    "    plt.ylabel(\"Actual\")\n",
    "    plt.tight_layout()\n",
    "    plt.savefig(os.path.join(fold_dir, \"confusion_matrix.png\"))\n",
    "    plt.close()\n",
    "\n",
    "    macro = report[\"macro avg\"]\n",
    "    fold_metrics.append({\n",
    "        \"Fold\": fold + 1,\n",
    "        \"Precision\": macro[\"precision\"],\n",
    "        \"Recall\": macro[\"recall\"],\n",
    "        \"F1\": macro[\"f1-score\"],\n",
    "        \"Accuracy\": accuracy_score(decoded_true, decoded_pred)\n",
    "    })\n",
    "\n",
    "# === Summary ===\n",
    "summary_df = pd.DataFrame(fold_metrics)\n",
    "summary_df.loc[\"Average\"] = summary_df.mean(numeric_only=True)\n",
    "summary_df.to_csv(os.path.join(OUTPUT_DIR, \"summary.csv\"), index=False)\n",
    "\n",
    "avg_cm = cumulative_cm // FOLDS\n",
    "avg_cm_df = pd.DataFrame(avg_cm, index=label_encoder.classes_, columns=label_encoder.classes_)\n",
    "plt.figure(figsize=(6, 5))\n",
    "sns.heatmap(avg_cm_df, annot=True, fmt='d', cmap='Purples')\n",
    "plt.title(\"Average Confusion Matrix (5-Fold - CahyaBERT V2 - Char Level)\")\n",
    "plt.xlabel(\"Predicted\")\n",
    "plt.ylabel(\"Actual\")\n",
    "plt.tight_layout()\n",
    "plt.savefig(os.path.join(OUTPUT_DIR, \"average_confusion_matrix.png\"))\n",
    "plt.close()\n",
    "\n",
    "print(\"\\n✅ CahyaBERT V2 character-level training complete. Results saved to:\", OUTPUT_DIR)\n",
    "\n",
    "# Show final evaluation metrics\n",
    "print(\"\\n📊 Final Evaluation Summary (Average Across Folds):\\n\")\n",
    "print(summary_df.loc[\"Average\"][[\"Precision\", \"Recall\", \"F1\", \"Accuracy\"]].round(4))\n"
   ]
  },
  {
   "cell_type": "code",
   "execution_count": 2,
   "id": "fdbb56cb",
   "metadata": {},
   "outputs": [
    {
     "name": "stdout",
     "output_type": "stream",
     "text": [
      "✅ Deleted 2 checkpoint folders in: results/V2_CahyaBERT_Char\\fold_1\n",
      "✅ Deleted 0 checkpoint folders in: results/V2_CahyaBERT_Char\\fold_2\n",
      "✅ Deleted 0 checkpoint folders in: results/V2_CahyaBERT_Char\\fold_3\n",
      "✅ Deleted 0 checkpoint folders in: results/V2_CahyaBERT_Char\\fold_4\n",
      "✅ Deleted 0 checkpoint folders in: results/V2_CahyaBERT_Char\\fold_5\n"
     ]
    }
   ],
   "source": [
    "import os\n",
    "import shutil\n",
    "\n",
    "base_path = \"results/V2_CahyaBERT_Char\"\n",
    "\n",
    "# Loop through each fold directory\n",
    "for i in range(1, 6):\n",
    "    fold_path = os.path.join(base_path, f\"fold_{i}\")\n",
    "    deleted = 0\n",
    "\n",
    "    if not os.path.exists(fold_path):\n",
    "        print(f\"⚠️ Folder not found: {fold_path}\")\n",
    "        continue\n",
    "\n",
    "    for item in os.listdir(fold_path):\n",
    "        item_path = os.path.join(fold_path, item)\n",
    "        if os.path.isdir(item_path) and item.startswith(\"checkpoint\"):\n",
    "            try:\n",
    "                shutil.rmtree(item_path)\n",
    "                deleted += 1\n",
    "            except Exception as e:\n",
    "                print(f\"❌ Failed to delete {item_path}: {e}\")\n",
    "\n",
    "    print(f\"✅ Deleted {deleted} checkpoint folders in: {fold_path}\")\n"
   ]
  },
  {
   "cell_type": "markdown",
   "id": "b51cb3fe",
   "metadata": {},
   "source": [
    "## V2: IndoLEM merge text + numerical feature"
   ]
  },
  {
   "cell_type": "code",
   "execution_count": null,
   "id": "ce80da06",
   "metadata": {},
   "outputs": [
    {
     "name": "stderr",
     "output_type": "stream",
     "text": [
      "c:\\Users\\rayssa\\Documents\\nusantara-character-classification\\.venv\\lib\\site-packages\\tqdm\\auto.py:21: TqdmWarning: IProgress not found. Please update jupyter and ipywidgets. See https://ipywidgets.readthedocs.io/en/stable/user_install.html\n",
      "  from .autonotebook import tqdm as notebook_tqdm\n"
     ]
    },
    {
     "name": "stdout",
     "output_type": "stream",
     "text": [
      "\n",
      "📚 Fold 1/5\n"
     ]
    },
    {
     "name": "stderr",
     "output_type": "stream",
     "text": [
      "c:\\Users\\rayssa\\Documents\\nusantara-character-classification\\.venv\\lib\\site-packages\\transformers\\training_args.py:1545: FutureWarning: `evaluation_strategy` is deprecated and will be removed in version 4.46 of 🤗 Transformers. Use `eval_strategy` instead\n",
      "  warnings.warn(\n"
     ]
    },
    {
     "name": "stdout",
     "output_type": "stream",
     "text": [
      "{'eval_loss': 1.088220238685608, 'eval_accuracy': 0.3333333333333333, 'eval_f1': 0.3051747399573487, 'eval_precision': 0.35555555555555557, 'eval_recall': 0.37826617826617825, 'eval_runtime': 0.1944, 'eval_samples_per_second': 200.652, 'eval_steps_per_second': 25.725, 'epoch': 1.0}\n",
      "{'eval_loss': 1.0637296438217163, 'eval_accuracy': 0.5384615384615384, 'eval_f1': 0.4782760730833115, 'eval_precision': 0.6814814814814815, 'eval_recall': 0.46227106227106224, 'eval_runtime': 0.149, 'eval_samples_per_second': 261.752, 'eval_steps_per_second': 33.558, 'epoch': 2.0}\n",
      "{'loss': 1.0686, 'grad_norm': 33.06949234008789, 'learning_rate': 1e-05, 'epoch': 2.6315789473684212}\n",
      "{'eval_loss': 1.0258853435516357, 'eval_accuracy': 0.5897435897435898, 'eval_f1': 0.5406260406260407, 'eval_precision': 0.5333333333333333, 'eval_recall': 0.5545787545787545, 'eval_runtime': 0.1702, 'eval_samples_per_second': 229.121, 'eval_steps_per_second': 29.375, 'epoch': 3.0}\n",
      "{'eval_loss': 1.0062227249145508, 'eval_accuracy': 0.5384615384615384, 'eval_f1': 0.48249322493224933, 'eval_precision': 0.4785714285714286, 'eval_recall': 0.49352869352869355, 'eval_runtime': 0.193, 'eval_samples_per_second': 202.08, 'eval_steps_per_second': 25.908, 'epoch': 4.0}\n",
      "{'eval_loss': 1.0201855897903442, 'eval_accuracy': 0.46153846153846156, 'eval_f1': 0.4086378737541528, 'eval_precision': 0.5746031746031747, 'eval_recall': 0.44395604395604393, 'eval_runtime': 0.1827, 'eval_samples_per_second': 213.499, 'eval_steps_per_second': 27.372, 'epoch': 5.0}\n",
      "{'train_runtime': 17.4551, 'train_samples_per_second': 130.621, 'train_steps_per_second': 16.328, 'train_loss': 1.0029261940403988, 'epoch': 5.0}\n",
      "\n",
      "📚 Fold 2/5\n"
     ]
    },
    {
     "name": "stderr",
     "output_type": "stream",
     "text": [
      "c:\\Users\\rayssa\\Documents\\nusantara-character-classification\\.venv\\lib\\site-packages\\transformers\\training_args.py:1545: FutureWarning: `evaluation_strategy` is deprecated and will be removed in version 4.46 of 🤗 Transformers. Use `eval_strategy` instead\n",
      "  warnings.warn(\n"
     ]
    },
    {
     "name": "stdout",
     "output_type": "stream",
     "text": [
      "{'eval_loss': 1.0905977487564087, 'eval_accuracy': 0.42105263157894735, 'eval_f1': 0.4116285403050109, 'eval_precision': 0.4287878787878788, 'eval_recall': 0.4777777777777778, 'eval_runtime': 0.1895, 'eval_samples_per_second': 200.54, 'eval_steps_per_second': 26.387, 'epoch': 1.0}\n",
      "{'eval_loss': 1.0640076398849487, 'eval_accuracy': 0.47368421052631576, 'eval_f1': 0.41405114792211567, 'eval_precision': 0.44225146198830406, 'eval_recall': 0.41984126984126985, 'eval_runtime': 0.169, 'eval_samples_per_second': 224.878, 'eval_steps_per_second': 29.589, 'epoch': 2.0}\n",
      "{'loss': 1.0938, 'grad_norm': 26.436433792114258, 'learning_rate': 1e-05, 'epoch': 2.5}\n",
      "{'eval_loss': 1.0493619441986084, 'eval_accuracy': 0.4473684210526316, 'eval_f1': 0.40041827541827546, 'eval_precision': 0.47500000000000003, 'eval_recall': 0.39206349206349206, 'eval_runtime': 0.1662, 'eval_samples_per_second': 228.619, 'eval_steps_per_second': 30.081, 'epoch': 3.0}\n",
      "{'eval_loss': 0.9904641509056091, 'eval_accuracy': 0.5, 'eval_f1': 0.44246031746031744, 'eval_precision': 0.4639249639249639, 'eval_recall': 0.4896825396825397, 'eval_runtime': 0.1377, 'eval_samples_per_second': 275.952, 'eval_steps_per_second': 36.309, 'epoch': 4.0}\n",
      "{'loss': 0.9229, 'grad_norm': 38.581565856933594, 'learning_rate': 2e-05, 'epoch': 5.0}\n",
      "{'eval_loss': 0.9626690745353699, 'eval_accuracy': 0.5, 'eval_f1': 0.4545454545454546, 'eval_precision': 0.44984255510571297, 'eval_recall': 0.46269841269841266, 'eval_runtime': 0.1292, 'eval_samples_per_second': 294.099, 'eval_steps_per_second': 38.697, 'epoch': 5.0}\n",
      "{'eval_loss': 0.9617875814437866, 'eval_accuracy': 0.5263157894736842, 'eval_f1': 0.4519706872648049, 'eval_precision': 0.4826007326007326, 'eval_recall': 0.47539682539682543, 'eval_runtime': 0.1468, 'eval_samples_per_second': 258.803, 'eval_steps_per_second': 34.053, 'epoch': 6.0}\n",
      "{'eval_loss': 0.9920693635940552, 'eval_accuracy': 0.5526315789473685, 'eval_f1': 0.46108140225787286, 'eval_precision': 0.5086419753086419, 'eval_recall': 0.4706349206349206, 'eval_runtime': 0.1747, 'eval_samples_per_second': 217.523, 'eval_steps_per_second': 28.621, 'epoch': 7.0}\n",
      "{'loss': 0.58, 'grad_norm': 42.91447067260742, 'learning_rate': 1.5000000000000002e-05, 'epoch': 7.5}\n",
      "{'eval_loss': 1.2295479774475098, 'eval_accuracy': 0.5263157894736842, 'eval_f1': 0.4493810786914236, 'eval_precision': 0.4705882352941176, 'eval_recall': 0.4515873015873016, 'eval_runtime': 0.1622, 'eval_samples_per_second': 234.29, 'eval_steps_per_second': 30.828, 'epoch': 8.0}\n",
      "{'eval_loss': 1.0281343460083008, 'eval_accuracy': 0.5, 'eval_f1': 0.4780982905982906, 'eval_precision': 0.5163170163170163, 'eval_recall': 0.5373015873015873, 'eval_runtime': 0.1497, 'eval_samples_per_second': 253.881, 'eval_steps_per_second': 33.405, 'epoch': 9.0}\n",
      "{'loss': 0.2742, 'grad_norm': 3.834080457687378, 'learning_rate': 1e-05, 'epoch': 10.0}\n",
      "{'eval_loss': 1.3254541158676147, 'eval_accuracy': 0.5, 'eval_f1': 0.4000000000000001, 'eval_precision': 0.4028985507246377, 'eval_recall': 0.39999999999999997, 'eval_runtime': 0.1245, 'eval_samples_per_second': 305.323, 'eval_steps_per_second': 40.174, 'epoch': 10.0}\n",
      "{'eval_loss': 1.3173316717147827, 'eval_accuracy': 0.5263157894736842, 'eval_f1': 0.45, 'eval_precision': 0.4674707602339181, 'eval_recall': 0.4515873015873016, 'eval_runtime': 0.1504, 'eval_samples_per_second': 252.718, 'eval_steps_per_second': 33.252, 'epoch': 11.0}\n",
      "{'train_runtime': 38.5, 'train_samples_per_second': 59.61, 'train_steps_per_second': 7.792, 'train_loss': 0.6646709203720093, 'epoch': 11.0}\n",
      "\n",
      "📚 Fold 3/5\n"
     ]
    },
    {
     "name": "stderr",
     "output_type": "stream",
     "text": [
      "c:\\Users\\rayssa\\Documents\\nusantara-character-classification\\.venv\\lib\\site-packages\\transformers\\training_args.py:1545: FutureWarning: `evaluation_strategy` is deprecated and will be removed in version 4.46 of 🤗 Transformers. Use `eval_strategy` instead\n",
      "  warnings.warn(\n",
      "c:\\Users\\rayssa\\Documents\\nusantara-character-classification\\.venv\\lib\\site-packages\\sklearn\\metrics\\_classification.py:1565: UndefinedMetricWarning: Precision is ill-defined and being set to 0.0 in labels with no predicted samples. Use `zero_division` parameter to control this behavior.\n",
      "  _warn_prf(average, modifier, f\"{metric.capitalize()} is\", len(result))\n"
     ]
    },
    {
     "name": "stdout",
     "output_type": "stream",
     "text": [
      "{'eval_loss': 1.0367798805236816, 'eval_accuracy': 0.5, 'eval_f1': 0.2888888888888889, 'eval_precision': 0.24848484848484845, 'eval_recall': 0.3523809523809524, 'eval_runtime': 0.151, 'eval_samples_per_second': 251.687, 'eval_steps_per_second': 33.117, 'epoch': 1.0}\n",
      "{'eval_loss': 1.0053248405456543, 'eval_accuracy': 0.5, 'eval_f1': 0.5219662058371736, 'eval_precision': 0.5637681159420289, 'eval_recall': 0.5611111111111111, 'eval_runtime': 0.1674, 'eval_samples_per_second': 226.994, 'eval_steps_per_second': 29.868, 'epoch': 2.0}\n",
      "{'loss': 1.1037, 'grad_norm': 146.82643127441406, 'learning_rate': 1e-05, 'epoch': 2.5}\n",
      "{'eval_loss': 0.9381123781204224, 'eval_accuracy': 0.6578947368421053, 'eval_f1': 0.6420014094432699, 'eval_precision': 0.6313131313131314, 'eval_recall': 0.6595238095238095, 'eval_runtime': 0.1771, 'eval_samples_per_second': 214.532, 'eval_steps_per_second': 28.228, 'epoch': 3.0}\n",
      "{'eval_loss': 0.8968589901924133, 'eval_accuracy': 0.631578947368421, 'eval_f1': 0.6667909288598944, 'eval_precision': 0.6735294117647058, 'eval_recall': 0.6793650793650793, 'eval_runtime': 0.1547, 'eval_samples_per_second': 245.59, 'eval_steps_per_second': 32.314, 'epoch': 4.0}\n",
      "{'loss': 0.9804, 'grad_norm': 55.40596008300781, 'learning_rate': 2e-05, 'epoch': 5.0}\n",
      "{'eval_loss': 0.8121364712715149, 'eval_accuracy': 0.7105263157894737, 'eval_f1': 0.7474747474747474, 'eval_precision': 0.7275132275132276, 'eval_recall': 0.7777777777777777, 'eval_runtime': 0.1281, 'eval_samples_per_second': 296.581, 'eval_steps_per_second': 39.024, 'epoch': 5.0}\n",
      "{'eval_loss': 0.7788582444190979, 'eval_accuracy': 0.6578947368421053, 'eval_f1': 0.5823032759202972, 'eval_precision': 0.6381766381766382, 'eval_recall': 0.6746031746031745, 'eval_runtime': 0.1779, 'eval_samples_per_second': 213.548, 'eval_steps_per_second': 28.098, 'epoch': 6.0}\n",
      "{'eval_loss': 0.7697361707687378, 'eval_accuracy': 0.631578947368421, 'eval_f1': 0.6902902902902902, 'eval_precision': 0.7314814814814815, 'eval_recall': 0.6793650793650793, 'eval_runtime': 0.1437, 'eval_samples_per_second': 264.462, 'eval_steps_per_second': 34.798, 'epoch': 7.0}\n",
      "{'train_runtime': 24.7047, 'train_samples_per_second': 92.897, 'train_steps_per_second': 12.143, 'train_loss': 0.9603837421962194, 'epoch': 7.0}\n",
      "\n",
      "📚 Fold 4/5\n"
     ]
    },
    {
     "name": "stderr",
     "output_type": "stream",
     "text": [
      "c:\\Users\\rayssa\\Documents\\nusantara-character-classification\\.venv\\lib\\site-packages\\transformers\\training_args.py:1545: FutureWarning: `evaluation_strategy` is deprecated and will be removed in version 4.46 of 🤗 Transformers. Use `eval_strategy` instead\n",
      "  warnings.warn(\n"
     ]
    },
    {
     "name": "stdout",
     "output_type": "stream",
     "text": [
      "{'eval_loss': 1.1381100416183472, 'eval_accuracy': 0.23684210526315788, 'eval_f1': 0.23794871794871794, 'eval_precision': 0.276923076923077, 'eval_recall': 0.3817460317460317, 'eval_runtime': 0.1387, 'eval_samples_per_second': 274.033, 'eval_steps_per_second': 36.057, 'epoch': 1.0}\n",
      "{'eval_loss': 1.1075814962387085, 'eval_accuracy': 0.4473684210526316, 'eval_f1': 0.366619535760575, 'eval_precision': 0.3688311688311689, 'eval_recall': 0.3682539682539682, 'eval_runtime': 0.1734, 'eval_samples_per_second': 219.122, 'eval_steps_per_second': 28.832, 'epoch': 2.0}\n",
      "{'loss': 1.053, 'grad_norm': 16.655057907104492, 'learning_rate': 1e-05, 'epoch': 2.5}\n",
      "{'eval_loss': 1.0940008163452148, 'eval_accuracy': 0.5263157894736842, 'eval_f1': 0.44928044928044925, 'eval_precision': 0.45138888888888884, 'eval_recall': 0.46349206349206346, 'eval_runtime': 0.1697, 'eval_samples_per_second': 223.907, 'eval_steps_per_second': 29.461, 'epoch': 3.0}\n",
      "{'eval_loss': 1.1107004880905151, 'eval_accuracy': 0.39473684210526316, 'eval_f1': 0.35185185185185186, 'eval_precision': 0.3916666666666666, 'eval_recall': 0.3753968253968254, 'eval_runtime': 0.167, 'eval_samples_per_second': 227.596, 'eval_steps_per_second': 29.947, 'epoch': 4.0}\n",
      "{'loss': 0.9278, 'grad_norm': 15.884360313415527, 'learning_rate': 2e-05, 'epoch': 5.0}\n",
      "{'eval_loss': 1.2835277318954468, 'eval_accuracy': 0.2894736842105263, 'eval_f1': 0.14965986394557823, 'eval_precision': 0.0990990990990991, 'eval_recall': 0.3055555555555555, 'eval_runtime': 0.1291, 'eval_samples_per_second': 294.409, 'eval_steps_per_second': 38.738, 'epoch': 5.0}\n"
     ]
    },
    {
     "name": "stderr",
     "output_type": "stream",
     "text": [
      "c:\\Users\\rayssa\\Documents\\nusantara-character-classification\\.venv\\lib\\site-packages\\sklearn\\metrics\\_classification.py:1565: UndefinedMetricWarning: Precision is ill-defined and being set to 0.0 in labels with no predicted samples. Use `zero_division` parameter to control this behavior.\n",
      "  _warn_prf(average, modifier, f\"{metric.capitalize()} is\", len(result))\n"
     ]
    },
    {
     "name": "stdout",
     "output_type": "stream",
     "text": [
      "{'train_runtime': 17.8029, 'train_samples_per_second': 128.911, 'train_steps_per_second': 16.851, 'train_loss': 0.9903897857666015, 'epoch': 5.0}\n",
      "\n",
      "📚 Fold 5/5\n"
     ]
    },
    {
     "name": "stderr",
     "output_type": "stream",
     "text": [
      "c:\\Users\\rayssa\\Documents\\nusantara-character-classification\\.venv\\lib\\site-packages\\transformers\\training_args.py:1545: FutureWarning: `evaluation_strategy` is deprecated and will be removed in version 4.46 of 🤗 Transformers. Use `eval_strategy` instead\n",
      "  warnings.warn(\n"
     ]
    },
    {
     "name": "stdout",
     "output_type": "stream",
     "text": [
      "{'eval_loss': 1.0708428621292114, 'eval_accuracy': 0.5, 'eval_f1': 0.51203007518797, 'eval_precision': 0.5148148148148148, 'eval_recall': 0.5115384615384615, 'eval_runtime': 0.1508, 'eval_samples_per_second': 252.016, 'eval_steps_per_second': 33.16, 'epoch': 1.0}\n",
      "{'eval_loss': 1.0645476579666138, 'eval_accuracy': 0.39473684210526316, 'eval_f1': 0.2843137254901961, 'eval_precision': 0.28273809523809523, 'eval_recall': 0.3038461538461539, 'eval_runtime': 0.1622, 'eval_samples_per_second': 234.28, 'eval_steps_per_second': 30.826, 'epoch': 2.0}\n",
      "{'loss': 1.0671, 'grad_norm': 14.873758316040039, 'learning_rate': 1e-05, 'epoch': 2.5}\n",
      "{'eval_loss': 1.057220220565796, 'eval_accuracy': 0.4473684210526316, 'eval_f1': 0.4670348808279843, 'eval_precision': 0.45744301994301995, 'eval_recall': 0.5282051282051282, 'eval_runtime': 0.1617, 'eval_samples_per_second': 235.037, 'eval_steps_per_second': 30.926, 'epoch': 3.0}\n",
      "{'train_runtime': 10.618, 'train_samples_per_second': 216.143, 'train_steps_per_second': 28.254, 'train_loss': 1.057540782292684, 'epoch': 3.0}\n",
      "\n",
      "✅ IndoLEM V2 character-level training complete. Results saved to: results/V2_IndoLEM_Char\n",
      "\n",
      "📊 Final Evaluation Summary (Average Across Folds):\n",
      "\n",
      "Precision    0.5487\n",
      "Recall       0.5689\n",
      "F1           0.5455\n",
      "Accuracy     0.5653\n",
      "Name: Average, dtype: float64\n"
     ]
    }
   ],
   "source": [
    "# === IndoLEM V2: Character-Level (Merged Text + Numeric) ===\n",
    "\n",
    "import os\n",
    "import pandas as pd\n",
    "import torch\n",
    "import numpy as np\n",
    "import random\n",
    "import matplotlib.pyplot as plt\n",
    "import seaborn as sns\n",
    "\n",
    "from torch.utils.data import Dataset\n",
    "from transformers import AutoTokenizer, Trainer, TrainingArguments, EarlyStoppingCallback\n",
    "from transformers import BertModel\n",
    "import torch.nn as nn\n",
    "from sklearn.model_selection import StratifiedKFold\n",
    "from sklearn.preprocessing import LabelEncoder, StandardScaler\n",
    "from sklearn.metrics import classification_report, confusion_matrix, accuracy_score, precision_recall_fscore_support\n",
    "\n",
    "# === Config ===\n",
    "FOLDS = 5\n",
    "EPOCHS = 15\n",
    "BATCH_SIZE = 8\n",
    "MODEL_NAME = \"indolem/indobert-base-uncased\"\n",
    "OUTPUT_DIR = \"results/V2_IndoLEM_Char\"\n",
    "SEED = 42\n",
    "os.makedirs(OUTPUT_DIR, exist_ok=True)\n",
    "\n",
    "# === Seed Control ===\n",
    "random.seed(SEED)\n",
    "np.random.seed(SEED)\n",
    "torch.manual_seed(SEED)\n",
    "torch.cuda.manual_seed_all(SEED)\n",
    "\n",
    "# === Load and preprocess data ===\n",
    "df = pd.read_csv(\"character_level.csv\")\n",
    "df[\"merged_text\"] = df[\"merged_text\"].fillna(\"\")\n",
    "\n",
    "# Encode labels\n",
    "label_encoder = LabelEncoder()\n",
    "labels = label_encoder.fit_transform(df[\"type\"])\n",
    "texts = df[\"merged_text\"].tolist()\n",
    "\n",
    "# === Normalize numeric features ===\n",
    "to_scale = [\"mention_count\", \"word_count\"]\n",
    "scaler = StandardScaler()\n",
    "df[to_scale] = scaler.fit_transform(df[to_scale])\n",
    "numeric_cols = [\"mention_count\", \"word_count\"]\n",
    "\n",
    "# === Compute class weights ===\n",
    "class_counts = np.bincount(labels)\n",
    "class_weights = len(labels) / (len(class_counts) * class_counts)\n",
    "class_weights_tensor = torch.tensor(class_weights, dtype=torch.float)\n",
    "\n",
    "# === Dataset ===\n",
    "class CharacterWithNumericDataset(Dataset):\n",
    "    def __init__(self, texts, labels, numeric_feats, tokenizer, max_len=128):\n",
    "        self.encodings = tokenizer(texts, truncation=True, padding=True, max_length=max_len)\n",
    "        self.labels = labels\n",
    "        self.numeric_feats = torch.tensor(numeric_feats, dtype=torch.float)\n",
    "\n",
    "    def __getitem__(self, idx):\n",
    "        item = {key: torch.tensor(val[idx]) for key, val in self.encodings.items()}\n",
    "        item[\"labels\"] = torch.tensor(self.labels[idx])\n",
    "        item[\"numeric_feats\"] = self.numeric_feats[idx]\n",
    "        return item\n",
    "\n",
    "    def __len__(self):\n",
    "        return len(self.labels)\n",
    "\n",
    "# === Model ===\n",
    "class BERTWithNumeric(nn.Module):\n",
    "    def __init__(self, model_name, num_labels, num_numeric_features, class_weights):\n",
    "        super().__init__()\n",
    "        self.bert = BertModel.from_pretrained(model_name)\n",
    "        self.dropout = nn.Dropout(0.3)\n",
    "        self.classifier = nn.Linear(self.bert.config.hidden_size + num_numeric_features, num_labels)\n",
    "        self.loss_fn = nn.CrossEntropyLoss(weight=class_weights)\n",
    "\n",
    "    def forward(self, input_ids, attention_mask, numeric_feats, labels=None):\n",
    "        bert_output = self.bert(input_ids=input_ids, attention_mask=attention_mask)\n",
    "        pooled_output = bert_output.pooler_output\n",
    "        combined = torch.cat((pooled_output, numeric_feats), dim=1)\n",
    "        logits = self.classifier(self.dropout(combined))\n",
    "\n",
    "        loss = None\n",
    "        if labels is not None:\n",
    "            loss = self.loss_fn(logits, labels)\n",
    "\n",
    "        return {\"loss\": loss, \"logits\": logits}\n",
    "\n",
    "# === Custom Collator ===\n",
    "class CustomCollator:\n",
    "    def __call__(self, batch):\n",
    "        input_ids = torch.stack([item[\"input_ids\"] for item in batch])\n",
    "        attention_mask = torch.stack([item[\"attention_mask\"] for item in batch])\n",
    "        labels = torch.stack([item[\"labels\"] for item in batch])\n",
    "        numeric_feats = torch.stack([item[\"numeric_feats\"] for item in batch])\n",
    "        return {\n",
    "            \"input_ids\": input_ids,\n",
    "            \"attention_mask\": attention_mask,\n",
    "            \"labels\": labels,\n",
    "            \"numeric_feats\": numeric_feats\n",
    "        }\n",
    "\n",
    "# === Metrics ===\n",
    "def compute_metrics(pred):\n",
    "    labels = pred.label_ids\n",
    "    preds = pred.predictions.argmax(-1)\n",
    "    precision, recall, f1, _ = precision_recall_fscore_support(labels, preds, average='macro')\n",
    "    acc = accuracy_score(labels, preds)\n",
    "    return {'accuracy': acc, 'f1': f1, 'precision': precision, 'recall': recall}\n",
    "\n",
    "# === Tokenizer ===\n",
    "tokenizer = AutoTokenizer.from_pretrained(MODEL_NAME)\n",
    "\n",
    "# === K-Fold CV ===\n",
    "skf = StratifiedKFold(n_splits=FOLDS, shuffle=True, random_state=SEED)\n",
    "fold_metrics = []\n",
    "cumulative_cm = np.zeros((3, 3), dtype=int)\n",
    "\n",
    "for fold, (train_idx, val_idx) in enumerate(skf.split(texts, labels)):\n",
    "    print(f\"\\n📚 Fold {fold + 1}/{FOLDS}\")\n",
    "\n",
    "    train_texts = [texts[i] for i in train_idx]\n",
    "    val_texts = [texts[i] for i in val_idx]\n",
    "    train_labels = [labels[i] for i in train_idx]\n",
    "    val_labels = [labels[i] for i in val_idx]\n",
    "\n",
    "    train_numeric = df.iloc[train_idx][numeric_cols].values\n",
    "    val_numeric = df.iloc[val_idx][numeric_cols].values\n",
    "\n",
    "    train_dataset = CharacterWithNumericDataset(train_texts, train_labels, train_numeric, tokenizer)\n",
    "    val_dataset = CharacterWithNumericDataset(val_texts, val_labels, val_numeric, tokenizer)\n",
    "\n",
    "    device = torch.device(\"cuda\" if torch.cuda.is_available() else \"cpu\")\n",
    "    model = BERTWithNumeric(MODEL_NAME, num_labels=3, num_numeric_features=2, class_weights=class_weights_tensor.to(device))\n",
    "\n",
    "    fold_dir = os.path.join(OUTPUT_DIR, f\"fold_{fold+1}\")\n",
    "    os.makedirs(fold_dir, exist_ok=True)\n",
    "\n",
    "    training_args = TrainingArguments(\n",
    "        output_dir=fold_dir,\n",
    "        num_train_epochs=EPOCHS,\n",
    "        per_device_train_batch_size=BATCH_SIZE,\n",
    "        per_device_eval_batch_size=BATCH_SIZE,\n",
    "        logging_dir=os.path.join(fold_dir, \"logs\"),\n",
    "        evaluation_strategy=\"epoch\",\n",
    "        save_strategy=\"epoch\",\n",
    "        load_best_model_at_end=True,\n",
    "        metric_for_best_model=\"f1\",\n",
    "        greater_is_better=True,\n",
    "        logging_steps=50,\n",
    "        disable_tqdm=True,\n",
    "        learning_rate=2e-5,\n",
    "        warmup_steps=100,\n",
    "        weight_decay=0.01,\n",
    "        seed=SEED\n",
    "    )\n",
    "\n",
    "    trainer = Trainer(\n",
    "        model=model,\n",
    "        args=training_args,\n",
    "        train_dataset=train_dataset,\n",
    "        eval_dataset=val_dataset,\n",
    "        data_collator=CustomCollator(),\n",
    "        compute_metrics=compute_metrics,\n",
    "        callbacks=[EarlyStoppingCallback(early_stopping_patience=2)]\n",
    "    )\n",
    "\n",
    "    trainer.train()\n",
    "\n",
    "    # Evaluate\n",
    "    predictions = trainer.predict(val_dataset)\n",
    "    preds = torch.argmax(torch.tensor(predictions.predictions), dim=1).numpy()\n",
    "    true_labels = np.array(val_labels)\n",
    "    pred_labels = preds\n",
    "\n",
    "    decoded_true = label_encoder.inverse_transform(true_labels)\n",
    "    decoded_pred = label_encoder.inverse_transform(pred_labels)\n",
    "\n",
    "    report = classification_report(decoded_true, decoded_pred, output_dict=True, digits=4)\n",
    "    report_df = pd.DataFrame(report).transpose()\n",
    "    report_df.to_csv(os.path.join(fold_dir, \"classification_report.csv\"))\n",
    "\n",
    "    cm = confusion_matrix(decoded_true, decoded_pred, labels=label_encoder.classes_)\n",
    "    cm_df = pd.DataFrame(cm, index=label_encoder.classes_, columns=label_encoder.classes_)\n",
    "    cumulative_cm += cm\n",
    "\n",
    "    plt.figure(figsize=(6, 5))\n",
    "    sns.heatmap(cm_df, annot=True, fmt='d', cmap='Blues')\n",
    "    plt.title(f\"Confusion Matrix - Fold {fold + 1} (IndoLEM V2 - Char Level)\")\n",
    "    plt.xlabel(\"Predicted\")\n",
    "    plt.ylabel(\"Actual\")\n",
    "    plt.tight_layout()\n",
    "    plt.savefig(os.path.join(fold_dir, \"confusion_matrix.png\"))\n",
    "    plt.close()\n",
    "\n",
    "    macro = report[\"macro avg\"]\n",
    "    fold_metrics.append({\n",
    "        \"Fold\": fold + 1,\n",
    "        \"Precision\": macro[\"precision\"],\n",
    "        \"Recall\": macro[\"recall\"],\n",
    "        \"F1\": macro[\"f1-score\"],\n",
    "        \"Accuracy\": accuracy_score(decoded_true, decoded_pred)\n",
    "    })\n",
    "\n",
    "# === Summary ===\n",
    "summary_df = pd.DataFrame(fold_metrics)\n",
    "summary_df.loc[\"Average\"] = summary_df.mean(numeric_only=True)\n",
    "summary_df.to_csv(os.path.join(OUTPUT_DIR, \"summary.csv\"), index=False)\n",
    "\n",
    "avg_cm = cumulative_cm // FOLDS\n",
    "avg_cm_df = pd.DataFrame(avg_cm, index=label_encoder.classes_, columns=label_encoder.classes_)\n",
    "plt.figure(figsize=(6, 5))\n",
    "sns.heatmap(avg_cm_df, annot=True, fmt='d', cmap='Purples')\n",
    "plt.title(\"Average Confusion Matrix (5-Fold - IndoLEM V2 - Char Level)\")\n",
    "plt.xlabel(\"Predicted\")\n",
    "plt.ylabel(\"Actual\")\n",
    "plt.tight_layout()\n",
    "plt.savefig(os.path.join(OUTPUT_DIR, \"average_confusion_matrix.png\"))\n",
    "plt.close()\n",
    "\n",
    "print(\"\\n✅ IndoLEM V2 character-level training complete. Results saved to:\", OUTPUT_DIR)\n",
    "\n",
    "# Show final evaluation metrics\n",
    "print(\"\\n📊 Final Evaluation Summary (Average Across Folds):\\n\")\n",
    "print(summary_df.loc[\"Average\"][[\"Precision\", \"Recall\", \"F1\", \"Accuracy\"]].round(4))\n"
   ]
  },
  {
   "cell_type": "code",
   "execution_count": 3,
   "id": "b8d57c65",
   "metadata": {},
   "outputs": [
    {
     "name": "stdout",
     "output_type": "stream",
     "text": [
      "✅ Deleted 5 checkpoint folders in: results/V2_IndoLEM_Char\\fold_1\n",
      "✅ Deleted 11 checkpoint folders in: results/V2_IndoLEM_Char\\fold_2\n",
      "✅ Deleted 7 checkpoint folders in: results/V2_IndoLEM_Char\\fold_3\n",
      "✅ Deleted 5 checkpoint folders in: results/V2_IndoLEM_Char\\fold_4\n",
      "✅ Deleted 3 checkpoint folders in: results/V2_IndoLEM_Char\\fold_5\n"
     ]
    }
   ],
   "source": [
    "import os\n",
    "import shutil\n",
    "\n",
    "base_path = \"results/V2_IndoLEM_Char\"\n",
    "\n",
    "# Loop through each fold\n",
    "for i in range(1, 6):\n",
    "    fold_path = os.path.join(base_path, f\"fold_{i}\")\n",
    "    deleted = 0\n",
    "\n",
    "    if not os.path.exists(fold_path):\n",
    "        print(f\"⚠️ Folder not found: {fold_path}\")\n",
    "        continue\n",
    "\n",
    "    for item in os.listdir(fold_path):\n",
    "        item_path = os.path.join(fold_path, item)\n",
    "        if os.path.isdir(item_path) and item.startswith(\"checkpoint\"):\n",
    "            try:\n",
    "                shutil.rmtree(item_path)\n",
    "                deleted += 1\n",
    "            except Exception as e:\n",
    "                print(f\"❌ Failed to delete {item_path}: {e}\")\n",
    "\n",
    "    print(f\"✅ Deleted {deleted} checkpoint folders in: {fold_path}\")\n"
   ]
  },
  {
   "cell_type": "markdown",
   "id": "6e13528f",
   "metadata": {},
   "source": [
    "## comparison between v2 models"
   ]
  },
  {
   "cell_type": "code",
   "execution_count": 4,
   "id": "ac1ff895",
   "metadata": {},
   "outputs": [
    {
     "name": "stdout",
     "output_type": "stream",
     "text": [
      "\n",
      "🏆 V2 Leaderboard (Character-Level - Sorted by F1-score):\n",
      "\n",
      "                Precision  Recall      F1  Accuracy\n",
      "CahyaBERT 1.5G     0.6670  0.6233  0.6216    0.6652\n",
      "IndoLEM            0.5487  0.5689  0.5455    0.5653\n",
      "IndoBERT           0.5014  0.5157  0.5000    0.6023\n"
     ]
    },
    {
     "name": "stderr",
     "output_type": "stream",
     "text": [
      "C:\\Users\\rayssa\\AppData\\Local\\Temp\\ipykernel_19148\\1637278207.py:36: UserWarning: Glyph 128202 (\\N{BAR CHART}) missing from font(s) DejaVu Sans.\n",
      "  plt.tight_layout()\n",
      "C:\\Users\\rayssa\\AppData\\Local\\Temp\\ipykernel_19148\\1637278207.py:37: UserWarning: Glyph 128202 (\\N{BAR CHART}) missing from font(s) DejaVu Sans.\n",
      "  plt.savefig(\"results/V2_Model_Leaderboard_F1.png\")\n",
      "c:\\Users\\rayssa\\Documents\\nusantara-character-classification\\.venv\\lib\\site-packages\\IPython\\core\\pylabtools.py:170: UserWarning: Glyph 128202 (\\N{BAR CHART}) missing from font(s) DejaVu Sans.\n",
      "  fig.canvas.print_figure(bytes_io, **kw)\n"
     ]
    },
    {
     "data": {
      "image/png": "[encoded data removed]",
      "text/plain": [
       "<Figure size 1000x600 with 1 Axes>"
      ]
     },
     "metadata": {},
     "output_type": "display_data"
    }
   ],
   "source": [
    "import pandas as pd\n",
    "import matplotlib.pyplot as plt\n",
    "\n",
    "# Define paths to summary files\n",
    "summary_paths = {\n",
    "    \"IndoBERT\": \"results/V2_IndoBERT_Char/summary.csv\",\n",
    "    \"CahyaBERT 1.5G\": \"results/V2_CahyaBERT_Char/summary.csv\",\n",
    "    \"IndoLEM\": \"results/V2_IndoLEM_Char/summary.csv\"\n",
    "}\n",
    "\n",
    "summary_data = {}\n",
    "\n",
    "for model_name, path in summary_paths.items():\n",
    "    df = pd.read_csv(path)\n",
    "    last_row = df.iloc[-1].drop(labels=\"Fold\", errors=\"ignore\")  # Handle cases with or without Fold column\n",
    "    summary_data[model_name] = last_row\n",
    "\n",
    "# Create DataFrame\n",
    "metrics = [\"Precision\", \"Recall\", \"F1\", \"Accuracy\"]\n",
    "df_comparison = pd.DataFrame(summary_data, index=metrics).T\n",
    "\n",
    "# Sort by F1\n",
    "df_comparison = df_comparison.sort_values(by=\"F1\", ascending=False)\n",
    "\n",
    "# Display leaderboard\n",
    "print(\"\\n🏆 V2 Leaderboard (Character-Level - Sorted by F1-score):\\n\")\n",
    "print(df_comparison.round(4))\n",
    "\n",
    "# Plot\n",
    "df_comparison.plot(kind=\"bar\", figsize=(10, 6))\n",
    "plt.title(\"📊 V2 Model Leaderboard (Char-Level: Merged Text + Numeric)\")\n",
    "plt.ylabel(\"Score\")\n",
    "plt.ylim(0, 1)\n",
    "plt.xticks(rotation=0)\n",
    "plt.legend(title=\"Metrics\")\n",
    "plt.tight_layout()\n",
    "plt.savefig(\"results/V2_Model_Leaderboard_F1.png\")\n",
    "plt.show()\n"
   ]
  },
  {
   "cell_type": "code",
   "execution_count": null,
   "id": "e34ba7e4",
   "metadata": {},
   "outputs": [],
   "source": []
  }
 ],
 "metadata": {
  "kernelspec": {
   "display_name": ".venv",
   "language": "python",
   "name": "python3"
  },
  "language_info": {
   "codemirror_mode": {
    "name": "ipython",
    "version": 3
   },
   "file_extension": ".py",
   "mimetype": "text/x-python",
   "name": "python",
   "nbconvert_exporter": "python",
   "pygments_lexer": "ipython3",
   "version": "3.10.11"
  }
 },
 "nbformat": 4,
 "nbformat_minor": 5
}
